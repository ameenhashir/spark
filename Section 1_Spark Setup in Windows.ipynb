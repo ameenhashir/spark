{
 "cells": [
  {
   "cell_type": "markdown",
   "metadata": {},
   "source": [
    "Follow Steps below:\n",
    "\n",
    "1. Download spark [https://spark.apache.org/downloads.html] \n",
    "    [https://www.apache.org/dyn/closer.lua/spark/spark-3.1.1/spark-3.1.1-bin-hadoop2.7.tgz]\n",
    "2. Unzip and copy to Spark home location\n",
    "3. Add Environment Variable - SPARK_HOME=\"\" ,then add to path %SPARK_HOME%\\bin\n",
    "4. Spark uses file system as hadoop.In order to work haddop api in windows download winutils.exe\n",
    "5. download an copy to file straucture as hadoop/bin\n",
    "6. Add Environment Variable - HADOOP_HOME=\"\" ,then add to path %HADOOP_HOME%\\bin\n",
    "7. open command prompt type $pyspark - should load without any error\n",
    "8. try below\n",
    "    sc.textFile(\"E:\\Technologies\\ApacheSpark\\data\\cards\\deckofcards.txt\").first()\n",
    "    if works then setup is correct"
   ]
  },
  {
   "cell_type": "markdown",
   "metadata": {},
   "source": [
    "Configure in Pycharm\n",
    "1. open pycharm project\n",
    "2. Setting - Projetc - project Structure -> add - spark folder python and py4j.* file inside python folder separatly\n",
    "<img src=\"config_spark_pycharm.jpg\" />"
   ]
  },
  {
   "cell_type": "code",
   "execution_count": null,
   "metadata": {},
   "outputs": [],
   "source": []
  }
 ],
 "metadata": {
  "kernelspec": {
   "display_name": "Python 3",
   "language": "python",
   "name": "python3"
  },
  "language_info": {
   "codemirror_mode": {
    "name": "ipython",
    "version": 3
   },
   "file_extension": ".py",
   "mimetype": "text/x-python",
   "name": "python",
   "nbconvert_exporter": "python",
   "pygments_lexer": "ipython3",
   "version": "3.8.5"
  }
 },
 "nbformat": 4,
 "nbformat_minor": 4
}
