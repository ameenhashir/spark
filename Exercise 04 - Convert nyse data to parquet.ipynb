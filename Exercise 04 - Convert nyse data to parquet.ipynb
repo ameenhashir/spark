{
 "cells": [
  {
   "cell_type": "markdown",
   "metadata": {},
   "source": [
    "<li>Details - Duration 10 minutes\n",
    "<ul>\n",
    "<li>Data is available in local file system under /data/nyse (ls -ltr /data/nyse)</li>\n",
    "<li>Fields (stockticker:string, transactiondate:string, openprice:float, highprice:float, lowprice:float, closeprice:float, volume:bigint)</li>\n",
    "<li>Convert file format to parquet</li>\n",
    "<li>Save it /user/&lt;YOUR_USER_ID&gt;/nyse_parquet</li>\n",
    "</ul>\n",
    "</li>"
   ]
  },
  {
   "cell_type": "code",
   "execution_count": 10,
   "metadata": {},
   "outputs": [
    {
     "name": "stdout",
     "output_type": "stream",
     "text": [
      "+-----------+---------------+---------+---------+--------+----------+-------+\n",
      "|stockticker|transactiondate|openprice|highprice|lowprice|closeprice| volume|\n",
      "+-----------+---------------+---------+---------+--------+----------+-------+\n",
      "|       WLTW|  1/5/2016 0:00|   123.43|   125.84|  122.31|    126.25|2163600|\n",
      "|       WLTW|  1/6/2016 0:00|   125.24|   119.98|  119.94|    125.54|2386400|\n",
      "|       WLTW|  1/7/2016 0:00|   116.38|   114.95|  114.93|    119.74|2489500|\n",
      "|       WLTW|  1/8/2016 0:00|   115.48|   116.62|   113.5|    117.44|2006300|\n",
      "|       WLTW| 1/11/2016 0:00|   117.01|   114.97|  114.09|    117.33|1408600|\n",
      "|       WLTW| 1/12/2016 0:00|   115.51|   115.55|   114.5|    116.06|1098000|\n",
      "|       WLTW| 1/13/2016 0:00|   116.46|   112.85|  112.59|    117.07| 949600|\n",
      "|       WLTW| 1/14/2016 0:00|   113.51|   114.38|  110.05|    115.03| 785300|\n",
      "|       WLTW| 1/15/2016 0:00|   113.33|   112.53|  111.92|    114.88|1093700|\n",
      "|       WLTW| 1/19/2016 0:00|   113.66|   110.38|  109.87|    115.87|1523500|\n",
      "|       WLTW| 1/20/2016 0:00|   109.06|    109.3|  108.32|     111.6|1653900|\n",
      "|       WLTW| 1/21/2016 0:00|   109.73|    110.0|  108.32|    110.58| 944300|\n",
      "|       WLTW| 1/22/2016 0:00|   111.88|   111.95|  110.19|    112.95| 744900|\n",
      "|       WLTW| 1/25/2016 0:00|   111.32|   110.12|   110.0|    114.63| 703800|\n",
      "|       WLTW| 1/26/2016 0:00|   110.42|    111.0|   107.3|     111.4| 563100|\n",
      "|       WLTW| 1/27/2016 0:00|   110.77|   110.71|  109.02|    112.57| 896100|\n",
      "|       WLTW| 1/28/2016 0:00|    110.9|   112.58|   109.9|    112.97| 680400|\n",
      "|       WLTW| 1/29/2016 0:00|   113.35|   114.47|  111.67|    114.59| 749900|\n",
      "|       WLTW|  2/1/2016 0:00|    114.0|    114.5|   112.9|    114.85| 574200|\n",
      "|       WLTW|  2/2/2016 0:00|   113.25|   110.56|  109.75|    113.86| 694800|\n",
      "+-----------+---------------+---------+---------+--------+----------+-------+\n",
      "only showing top 20 rows\n",
      "\n"
     ]
    }
   ],
   "source": [
    "stock  = spark.read.format('csv'). \\\n",
    "        option(\"header\",\"false\"). \\\n",
    "        schema('stockticker string, transactiondate string, openprice float, highprice float, lowprice float, closeprice float, volume bigint'). \\\n",
    "        load('/data/nyse'). \\\n",
    "        where('stockticker is not null')\n",
    "stock.show()"
   ]
  },
  {
   "cell_type": "code",
   "execution_count": 8,
   "metadata": {},
   "outputs": [
    {
     "name": "stdout",
     "output_type": "stream",
     "text": [
      "root\n",
      " |-- stockticker: string (nullable = true)\n",
      " |-- transactiondate: string (nullable = true)\n",
      " |-- openprice: string (nullable = true)\n",
      " |-- highprice: string (nullable = true)\n",
      " |-- lowprice: string (nullable = true)\n",
      " |-- closeprice: string (nullable = true)\n",
      " |-- volume: string (nullable = true)\n",
      "\n"
     ]
    }
   ],
   "source": [
    "stock.printSchema()"
   ]
  },
  {
   "cell_type": "code",
   "execution_count": 11,
   "metadata": {},
   "outputs": [],
   "source": [
    "stock.write.parquet('/user/pi/nyse_parquet')"
   ]
  },
  {
   "cell_type": "code",
   "execution_count": 15,
   "metadata": {},
   "outputs": [],
   "source": [
    "parquetDF = spark.read.parquet('/user/pi/nyse_parquet')"
   ]
  },
  {
   "cell_type": "code",
   "execution_count": 16,
   "metadata": {},
   "outputs": [
    {
     "name": "stdout",
     "output_type": "stream",
     "text": [
      "root\n",
      " |-- stockticker: string (nullable = true)\n",
      " |-- transactiondate: string (nullable = true)\n",
      " |-- openprice: float (nullable = true)\n",
      " |-- highprice: float (nullable = true)\n",
      " |-- lowprice: float (nullable = true)\n",
      " |-- closeprice: float (nullable = true)\n",
      " |-- volume: long (nullable = true)\n",
      "\n"
     ]
    }
   ],
   "source": [
    "parquetDF.printSchema()"
   ]
  },
  {
   "cell_type": "code",
   "execution_count": 17,
   "metadata": {},
   "outputs": [
    {
     "name": "stdout",
     "output_type": "stream",
     "text": [
      "2020-06-09 17:37:18,286 WARN util.NativeCodeLoader: Unable to load native-hadoop library for your platform... using builtin-java classes where applicable\n",
      "Found 13 items\n",
      "-rw-r--r--   2 pi supergroup          0 2020-06-09 17:36 /user/pi/nyse_parquet/_SUCCESS\n",
      "-rw-r--r--   2 pi supergroup    1243121 2020-06-09 17:36 /user/pi/nyse_parquet/part-00000-c8128684-992e-4890-9c79-4f131644ee28-c000.snappy.parquet\n",
      "-rw-r--r--   2 pi supergroup    1258747 2020-06-09 17:36 /user/pi/nyse_parquet/part-00001-c8128684-992e-4890-9c79-4f131644ee28-c000.snappy.parquet\n",
      "-rw-r--r--   2 pi supergroup    1265771 2020-06-09 17:36 /user/pi/nyse_parquet/part-00002-c8128684-992e-4890-9c79-4f131644ee28-c000.snappy.parquet\n",
      "-rw-r--r--   2 pi supergroup    1253712 2020-06-09 17:36 /user/pi/nyse_parquet/part-00003-c8128684-992e-4890-9c79-4f131644ee28-c000.snappy.parquet\n",
      "-rw-r--r--   2 pi supergroup    1237275 2020-06-09 17:36 /user/pi/nyse_parquet/part-00004-c8128684-992e-4890-9c79-4f131644ee28-c000.snappy.parquet\n",
      "-rw-r--r--   2 pi supergroup    1236649 2020-06-09 17:36 /user/pi/nyse_parquet/part-00005-c8128684-992e-4890-9c79-4f131644ee28-c000.snappy.parquet\n",
      "-rw-r--r--   2 pi supergroup    1227771 2020-06-09 17:36 /user/pi/nyse_parquet/part-00006-c8128684-992e-4890-9c79-4f131644ee28-c000.snappy.parquet\n",
      "-rw-r--r--   2 pi supergroup    1218317 2020-06-09 17:36 /user/pi/nyse_parquet/part-00007-c8128684-992e-4890-9c79-4f131644ee28-c000.snappy.parquet\n",
      "-rw-r--r--   2 pi supergroup    1231993 2020-06-09 17:36 /user/pi/nyse_parquet/part-00008-c8128684-992e-4890-9c79-4f131644ee28-c000.snappy.parquet\n",
      "-rw-r--r--   2 pi supergroup    1244857 2020-06-09 17:36 /user/pi/nyse_parquet/part-00009-c8128684-992e-4890-9c79-4f131644ee28-c000.snappy.parquet\n",
      "-rw-r--r--   2 pi supergroup    1260049 2020-06-09 17:36 /user/pi/nyse_parquet/part-00010-c8128684-992e-4890-9c79-4f131644ee28-c000.snappy.parquet\n",
      "-rw-r--r--   2 pi supergroup    1104851 2020-06-09 17:36 /user/pi/nyse_parquet/part-00011-c8128684-992e-4890-9c79-4f131644ee28-c000.snappy.parquet\n"
     ]
    }
   ],
   "source": [
    "! hdfs dfs -ls /user/pi/nyse_parquet"
   ]
  },
  {
   "cell_type": "code",
   "execution_count": null,
   "metadata": {},
   "outputs": [],
   "source": []
  },
  {
   "cell_type": "code",
   "execution_count": null,
   "metadata": {},
   "outputs": [],
   "source": []
  }
 ],
 "metadata": {
  "kernelspec": {
   "display_name": "Python 3",
   "language": "python",
   "name": "python3"
  },
  "language_info": {
   "codemirror_mode": {
    "name": "ipython",
    "version": 3
   },
   "file_extension": ".py",
   "mimetype": "text/x-python",
   "name": "python",
   "nbconvert_exporter": "python",
   "pygments_lexer": "ipython3",
   "version": "3.7.6"
  }
 },
 "nbformat": 4,
 "nbformat_minor": 4
}
