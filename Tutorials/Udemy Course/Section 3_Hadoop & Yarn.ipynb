{
 "cells": [
  {
   "cell_type": "markdown",
   "metadata": {},
   "source": [
    "### HDFS Commands"
   ]
  },
  {
   "cell_type": "markdown",
   "metadata": {},
   "source": [
    "<p>HDFS is the primary or major component of the Hadoop ecosystem which is responsible for storing large data sets of structured or unstructured data across various nodes and thereby maintaining the metadata in the form of log files. To use the HDFS commands, first you need to start the Hadoop services using the following command:<p>\n",
    "<l>sbin/start-all.sh</l>\n",
    "<br><br>To check the Hadoop services are up and running use the following command:\n",
    "<br><l>jps</l>\n"
   ]
  },
  {
   "cell_type": "markdown",
   "metadata": {},
   "source": [
    "https://www.geeksforgeeks.org/hdfs-commands/"
   ]
  },
  {
   "cell_type": "markdown",
   "metadata": {},
   "source": [
    "### YARN"
   ]
  },
  {
   "cell_type": "markdown",
   "metadata": {},
   "source": [
    "Yarn is distibuted processing framework\n",
    "<br>Configuration files:\n",
    "<br>etc/hadoop/yarn-site.xml  -- gets details of resource manager\n",
    "<br>spark/conf/spark-env.sh  -- get details of how much memory and VCORE are used for each job"
   ]
  },
  {
   "cell_type": "markdown",
   "metadata": {},
   "source": [
    "### Setup data sets:"
   ]
  },
  {
   "cell_type": "raw",
   "metadata": {},
   "source": [
    "E:\\Technologies\\ApacheSpark\\data\\retail_db>hdfs dfs -ls -R /user/spark/retail_db\n",
    "drwxr-xr-x   - Ameen.Nazar supergroup          0 2021-04-14 11:44 /user/spark/retail_db/categories\n",
    "-rw-r--r--   1 Ameen.Nazar supergroup       1087 2021-04-14 11:44 /user/spark/retail_db/categories/part-00000\n",
    "drwxr-xr-x   - Ameen.Nazar supergroup          0 2021-04-14 11:26 /user/spark/retail_db/customers\n",
    "-rw-r--r--   1 Ameen.Nazar supergroup     966154 2021-04-14 11:26 /user/spark/retail_db/customers/part-00000\n",
    "drwxr-xr-x   - Ameen.Nazar supergroup          0 2021-04-14 11:26 /user/spark/retail_db/departments\n",
    "-rw-r--r--   1 Ameen.Nazar supergroup         66 2021-04-14 11:26 /user/spark/retail_db/departments/part-00000\n",
    "drwxr-xr-x   - Ameen.Nazar supergroup          0 2021-04-14 11:26 /user/spark/retail_db/order_items\n",
    "-rw-r--r--   1 Ameen.Nazar supergroup    5581078 2021-04-14 11:26 /user/spark/retail_db/order_items/part-00000\n",
    "drwxr-xr-x   - Ameen.Nazar supergroup          0 2021-04-14 11:26 /user/spark/retail_db/orders\n",
    "-rw-r--r--   1 Ameen.Nazar supergroup    3068827 2021-04-14 11:26 /user/spark/retail_db/orders/part-00000\n",
    "drwxr-xr-x   - Ameen.Nazar supergroup          0 2021-04-14 11:26 /user/spark/retail_db/products\n",
    "-rw-r--r--   1 Ameen.Nazar supergroup     175500 2021-04-14 11:26 /user/spark/retail_db/products/part-00000"
   ]
  },
  {
   "cell_type": "markdown",
   "metadata": {},
   "source": [
    "<img src=\"Retail_DB_ER_Diagram.png\">"
   ]
  },
  {
   "cell_type": "code",
   "execution_count": null,
   "metadata": {},
   "outputs": [],
   "source": []
  },
  {
   "cell_type": "code",
   "execution_count": null,
   "metadata": {},
   "outputs": [],
   "source": []
  },
  {
   "cell_type": "code",
   "execution_count": null,
   "metadata": {},
   "outputs": [],
   "source": []
  },
  {
   "cell_type": "code",
   "execution_count": null,
   "metadata": {},
   "outputs": [],
   "source": []
  },
  {
   "cell_type": "code",
   "execution_count": null,
   "metadata": {},
   "outputs": [],
   "source": []
  },
  {
   "cell_type": "code",
   "execution_count": null,
   "metadata": {},
   "outputs": [],
   "source": []
  },
  {
   "cell_type": "code",
   "execution_count": null,
   "metadata": {},
   "outputs": [],
   "source": []
  },
  {
   "cell_type": "code",
   "execution_count": null,
   "metadata": {},
   "outputs": [],
   "source": []
  },
  {
   "cell_type": "code",
   "execution_count": null,
   "metadata": {},
   "outputs": [],
   "source": []
  }
 ],
 "metadata": {
  "kernelspec": {
   "display_name": "Python 3",
   "language": "python",
   "name": "python3"
  },
  "language_info": {
   "codemirror_mode": {
    "name": "ipython",
    "version": 3
   },
   "file_extension": ".py",
   "mimetype": "text/x-python",
   "name": "python",
   "nbconvert_exporter": "python",
   "pygments_lexer": "ipython3",
   "version": "3.8.5"
  }
 },
 "nbformat": 4,
 "nbformat_minor": 4
}
