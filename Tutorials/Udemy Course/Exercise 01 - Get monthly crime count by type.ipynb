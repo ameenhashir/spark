{
 "cells": [
  {
   "cell_type": "markdown",
   "metadata": {},
   "source": [
    "### Exercise 01 - Get monthly crime count by type"
   ]
  },
  {
   "cell_type": "markdown",
   "metadata": {},
   "source": [
    "<ul>\n",
    "<li>Details - Duration 40 minutes\n",
    "<ul>\n",
    "<li>Data set <a href=\"https://data.cityofchicago.org/Public-Safety/Crimes-2001-to-present/ijzp-q8t2\">URL <span class=\"badge badge-notification clicks\" title=\"815 clicks\">815</span></a>\n",
    "</li>\n",
    "<li>Choose language of your choice Python or Scala</li>\n",
    "<li>Data is available in HDFS file system under /public/crime/csv</li>\n",
    "<li>You can check properties of files using <code>hadoop fs -ls -h /public/crime/csv</code>\n",
    "</li>\n",
    "<li>Structure of data (ID,Case Number,Date,Block,IUCR,Primary Type,Description,Location Description,Arrest,Domestic,Beat,District,Ward,Community Area,FBI Code,X Coordinate,Y Coordinate,Year,Updated On,Latitude,Longitude,Location)</li>\n",
    "<li>File format - text file</li>\n",
    "<li>Delimiter - “,”</li>\n",
    "<li>Get monthly count of primary crime type, sorted by month in ascending and number of crimes per type in descending order</li>\n",
    "<li>Store the result in HDFS path /user/&lt;YOUR_USER_ID&gt;/solutions/solution01/crimes_by_type_by_month</li>\n",
    "<li>Output File Format: TEXT</li>\n",
    "<li>Output Columns: Month in YYYYMM format, crime count, crime type</li>\n",
    "<li>Output Delimiter: \\t (tab delimited)</li>\n",
    "<li>Output Compression: gzip</li>\n",
    "</ul>\n",
    "</li>\n",
    "<li>Validation</li>\n",
    "<li>Solutions\n",
    "<ul>\n",
    "<li>In Scala using <a href=\"https://gist.github.com/dgadiraju/0c81b0cdae330274fe260bf446108b38\">Core API <span class=\"badge badge-notification clicks\" title=\"676 clicks\">676</span></a>\n",
    "</li>\n",
    "<li>In Scala using <a href=\"https://gist.github.com/dgadiraju/1b11b67bc69c79d9718316e81372cdc3\">Data Frames and SQL <span class=\"badge badge-notification clicks\" title=\"850 clicks\">850</span></a>\n",
    "</li>\n",
    "</ul>\n",
    "</li>\n",
    "</ul>"
   ]
  },
  {
   "cell_type": "code",
   "execution_count": null,
   "metadata": {},
   "outputs": [],
   "source": [
    "#Core API Logic"
   ]
  },
  {
   "cell_type": "code",
   "execution_count": 1,
   "metadata": {},
   "outputs": [
    {
     "name": "stdout",
     "output_type": "stream",
     "text": [
      "2020-06-06 17:39:21,194 WARN util.NativeCodeLoader: Unable to load native-hadoop library for your platform... using builtin-java classes where applicable\n",
      "-rw-r--r--   2 pi supergroup      1.6 G 2020-06-06 17:38 /public/csv/crimes.csv\n"
     ]
    }
   ],
   "source": [
    "#check file size\n",
    "! hdfs dfs -ls -h /public/csv/*"
   ]
  },
  {
   "cell_type": "markdown",
   "metadata": {},
   "source": [
    " - since cluster capacity is 24 Cores and 9GB , we will initiate 12 executers and 512M for each\n",
    "***\n",
    "\n",
    "pyspark --master yarn --num-executors 3 --executor-cores 2 --executor-memory 1G"
   ]
  },
  {
   "cell_type": "code",
   "execution_count": 2,
   "metadata": {},
   "outputs": [
    {
     "data": {
      "text/plain": [
       "['ID,Case Number,Date,Block,IUCR,Primary Type,Description,Location Description,Arrest,Domestic,Beat,District,Ward,Community Area,FBI Code,X Coordinate,Y Coordinate,Year,Updated On,Latitude,Longitude,Location',\n",
       " '11034701,JA366925,01/01/2001 11:00:00 AM,016XX E 86TH PL,1153,DECEPTIVE PRACTICE,FINANCIAL IDENTITY THEFT OVER $ 300,RESIDENCE,false,false,0412,004,8,45,11,,,2001,08/05/2017 03:50:08 PM,,,',\n",
       " '11227287,JB147188,10/08/2017 03:00:00 AM,092XX S RACINE AVE,0281,CRIM SEXUAL ASSAULT,NON-AGGRAVATED,RESIDENCE,false,false,2222,022,21,73,02,,,2017,02/11/2018 03:57:41 PM,,,',\n",
       " '11227583,JB147595,03/28/2017 02:00:00 PM,026XX W 79TH ST,0620,BURGLARY,UNLAWFUL ENTRY,OTHER,false,false,0835,008,18,70,05,,,2017,02/11/2018 03:57:41 PM,,,',\n",
       " '11227293,JB147230,09/09/2017 08:17:00 PM,060XX S EBERHART AVE,0810,THEFT,OVER $500,RESIDENCE,false,false,0313,003,20,42,06,,,2017,02/11/2018 03:57:41 PM,,,',\n",
       " '11227634,JB147599,08/26/2017 10:00:00 AM,001XX W RANDOLPH ST,0281,CRIM SEXUAL ASSAULT,NON-AGGRAVATED,HOTEL/MOTEL,false,false,0122,001,42,32,02,,,2017,02/11/2018 03:57:41 PM,,,',\n",
       " '11227517,JB138481,02/10/2013 12:00:00 AM,071XX S LAFAYETTE AVE,0266,CRIM SEXUAL ASSAULT,PREDATORY,RESIDENCE,false,false,0731,007,6,69,02,,,2013,02/11/2018 03:57:41 PM,,,',\n",
       " '11227503,JB146383,01/01/2015 12:01:00 AM,061XX S KILBOURN AVE,1751,OFFENSE INVOLVING CHILDREN,CRIM SEX ABUSE BY FAM MEMBER,RESIDENCE,false,true,0813,008,13,65,17,,,2015,04/12/2019 04:00:15 PM,,,',\n",
       " '11227508,JB146365,01/01/2017 12:01:00 AM,027XX S WHIPPLE ST,1754,OFFENSE INVOLVING CHILDREN,AGG SEX ASSLT OF CHILD FAM MBR,RESIDENCE,false,false,1033,010,12,30,02,,,2017,02/11/2018 03:57:41 PM,,,',\n",
       " '11022695,JA353568,07/17/2017 10:10:00 AM,021XX W MC LEAN AVE,0810,THEFT,OVER $500,RESIDENCE,false,false,1432,014,32,22,06,,,2017,07/24/2017 03:54:23 PM,,,']"
      ]
     },
     "execution_count": 2,
     "metadata": {},
     "output_type": "execute_result"
    }
   ],
   "source": [
    "crimesRDD = sc.textFile(\"/public/csv/crimes.csv\")\n",
    "crimesRDD.take(10)"
   ]
  },
  {
   "cell_type": "code",
   "execution_count": 27,
   "metadata": {},
   "outputs": [
    {
     "data": {
      "text/plain": [
       "[((200106, 'DECEPTIVE PRACTICE'), 1229),\n",
       " ((200105, 'THEFT'), 8418),\n",
       " ((200103, 'BATTERY'), 7658),\n",
       " ((200104, 'BATTERY'), 8325),\n",
       " ((200104, 'ASSAULT'), 2746),\n",
       " ((200107, 'OFFENSE INVOLVING CHILDREN'), 210),\n",
       " ((200106, 'CRIM SEXUAL ASSAULT'), 164),\n",
       " ((200109, 'BURGLARY'), 2393),\n",
       " ((200109, 'OFFENSE INVOLVING CHILDREN'), 172),\n",
       " ((200110, 'INTERFERENCE WITH PUBLIC OFFICER'), 21)]"
      ]
     },
     "execution_count": 27,
     "metadata": {},
     "output_type": "execute_result"
    }
   ],
   "source": [
    "crimesMap = crimesRDD.filter(lambda r:r.split(',')[0]!='ID'). \\\n",
    "        map(lambda rw:((int(rw.split(',')[2].split(' ')[0].split('/')[2]+rw.split(',')[2].split(' ')[0].split('/')[0]),rw.split(',')[5]),1)). \\\n",
    "        reduceByKey(lambda x,y:x+y)\n",
    "crimesMap.take(10)"
   ]
  },
  {
   "cell_type": "code",
   "execution_count": 30,
   "metadata": {},
   "outputs": [
    {
     "data": {
      "text/plain": [
       "[((200101, -7866), '200101\\t7866\\tTHEFT'),\n",
       " ((200101, -6525), '200101\\t6525\\tBATTERY'),\n",
       " ((200101, -4714), '200101\\t4714\\tNARCOTICS'),\n",
       " ((200101, -3966), '200101\\t3966\\tCRIMINAL DAMAGE'),\n",
       " ((200101, -2800), '200101\\t2800\\tOTHER OFFENSE'),\n",
       " ((200101, -2123), '200101\\t2123\\tASSAULT'),\n",
       " ((200101, -2095), '200101\\t2095\\tMOTOR VEHICLE THEFT'),\n",
       " ((200101, -1934), '200101\\t1934\\tBURGLARY'),\n",
       " ((200101, -1396), '200101\\t1396\\tROBBERY'),\n",
       " ((200101, -1394), '200101\\t1394\\tDECEPTIVE PRACTICE')]"
      ]
     },
     "execution_count": 30,
     "metadata": {},
     "output_type": "execute_result"
    }
   ],
   "source": [
    "crimesForSort = crimesMap.map(lambda x:((x[0][0],-x[1]),(str(x[0][0])+'\\t'+str(x[1])+'\\t'+x[0][1]))).sortByKey()\n",
    "crimesForSort.take(10)"
   ]
  },
  {
   "cell_type": "code",
   "execution_count": 35,
   "metadata": {},
   "outputs": [],
   "source": [
    "crimesForSort.map(lambda x:x[1]).saveAsTextFile(\"/user/pi/solutions/solution01/crimes_by_type_by_month\", \\\n",
    "                                            compressionCodecClass=\"org.apache.hadoop.io.compress.GzipCodec\")"
   ]
  },
  {
   "cell_type": "code",
   "execution_count": 38,
   "metadata": {},
   "outputs": [
    {
     "name": "stdout",
     "output_type": "stream",
     "text": [
      "200101\t7866\tTHEFT\n",
      "200101\t6525\tBATTERY\n",
      "200101\t4714\tNARCOTICS\n",
      "200101\t3966\tCRIMINAL DAMAGE\n",
      "200101\t2800\tOTHER OFFENSE\n",
      "200101\t2123\tASSAULT\n",
      "200101\t2095\tMOTOR VEHICLE THEFT\n",
      "200101\t1934\tBURGLARY\n",
      "200101\t1396\tROBBERY\n",
      "200101\t1394\tDECEPTIVE PRACTICE\n"
     ]
    }
   ],
   "source": [
    "for i in sc.textFile(\"/user/pi/solutions/solution01/crimes_by_type_by_month\").take(10):\n",
    "    print(i)"
   ]
  },
  {
   "cell_type": "code",
   "execution_count": 40,
   "metadata": {},
   "outputs": [
    {
     "name": "stdout",
     "output_type": "stream",
     "text": [
      "2020-06-06 19:33:07,172 WARN util.NativeCodeLoader: Unable to load native-hadoop library for your platform... using builtin-java classes where applicable\n",
      "-rw-r--r--   2 pi supergroup          0 2020-06-06 19:31 /user/pi/solutions/solution01/crimes_by_type_by_month/_SUCCESS\n",
      "-rw-r--r--   2 pi supergroup       4032 2020-06-06 19:31 /user/pi/solutions/solution01/crimes_by_type_by_month/part-00000.gz\n",
      "-rw-r--r--   2 pi supergroup       2276 2020-06-06 19:31 /user/pi/solutions/solution01/crimes_by_type_by_month/part-00001.gz\n",
      "-rw-r--r--   2 pi supergroup       1938 2020-06-06 19:31 /user/pi/solutions/solution01/crimes_by_type_by_month/part-00002.gz\n",
      "-rw-r--r--   2 pi supergroup       2427 2020-06-06 19:31 /user/pi/solutions/solution01/crimes_by_type_by_month/part-00003.gz\n",
      "-rw-r--r--   2 pi supergroup       2322 2020-06-06 19:31 /user/pi/solutions/solution01/crimes_by_type_by_month/part-00004.gz\n",
      "-rw-r--r--   2 pi supergroup       2824 2020-06-06 19:31 /user/pi/solutions/solution01/crimes_by_type_by_month/part-00005.gz\n",
      "-rw-r--r--   2 pi supergroup       4805 2020-06-06 19:31 /user/pi/solutions/solution01/crimes_by_type_by_month/part-00006.gz\n",
      "-rw-r--r--   2 pi supergroup       2019 2020-06-06 19:31 /user/pi/solutions/solution01/crimes_by_type_by_month/part-00007.gz\n",
      "-rw-r--r--   2 pi supergroup       2926 2020-06-06 19:31 /user/pi/solutions/solution01/crimes_by_type_by_month/part-00008.gz\n",
      "-rw-r--r--   2 pi supergroup       1707 2020-06-06 19:31 /user/pi/solutions/solution01/crimes_by_type_by_month/part-00009.gz\n",
      "-rw-r--r--   2 pi supergroup       3296 2020-06-06 19:31 /user/pi/solutions/solution01/crimes_by_type_by_month/part-00010.gz\n",
      "-rw-r--r--   2 pi supergroup       2502 2020-06-06 19:31 /user/pi/solutions/solution01/crimes_by_type_by_month/part-00011.gz\n",
      "-rw-r--r--   2 pi supergroup       2795 2020-06-06 19:31 /user/pi/solutions/solution01/crimes_by_type_by_month/part-00012.gz\n"
     ]
    }
   ],
   "source": [
    "! hdfs dfs -ls /user/pi/solutions/solution01/crimes_by_type_by_month/*"
   ]
  },
  {
   "cell_type": "code",
   "execution_count": 41,
   "metadata": {},
   "outputs": [
    {
     "name": "stdout",
     "output_type": "stream",
     "text": [
      "2020-06-06 19:33:31,088 WARN util.NativeCodeLoader: Unable to load native-hadoop library for your platform... using builtin-java classes where applicable\n",
      "Deleted /user/pi/solutions/solution01/crimes_by_type_by_month\n"
     ]
    }
   ],
   "source": [
    "#to reduce no of files\n",
    "! hdfs dfs -rm -r -f /user/pi/solutions/solution01/crimes_by_type_by_month"
   ]
  },
  {
   "cell_type": "code",
   "execution_count": 42,
   "metadata": {},
   "outputs": [],
   "source": [
    "crimesForSort.map(lambda x:x[1]).coalesce(2).saveAsTextFile(\"/user/pi/solutions/solution01/crimes_by_type_by_month\", \\\n",
    "                                            compressionCodecClass=\"org.apache.hadoop.io.compress.GzipCodec\")"
   ]
  },
  {
   "cell_type": "code",
   "execution_count": 43,
   "metadata": {},
   "outputs": [
    {
     "name": "stdout",
     "output_type": "stream",
     "text": [
      "200101\t7866\tTHEFT\n",
      "200101\t6525\tBATTERY\n",
      "200101\t4714\tNARCOTICS\n",
      "200101\t3966\tCRIMINAL DAMAGE\n",
      "200101\t2800\tOTHER OFFENSE\n",
      "200101\t2123\tASSAULT\n",
      "200101\t2095\tMOTOR VEHICLE THEFT\n",
      "200101\t1934\tBURGLARY\n",
      "200101\t1396\tROBBERY\n",
      "200101\t1394\tDECEPTIVE PRACTICE\n"
     ]
    }
   ],
   "source": [
    "for i in sc.textFile(\"/user/pi/solutions/solution01/crimes_by_type_by_month\").take(10):\n",
    "    print(i)"
   ]
  },
  {
   "cell_type": "code",
   "execution_count": 44,
   "metadata": {},
   "outputs": [
    {
     "name": "stdout",
     "output_type": "stream",
     "text": [
      "2020-06-06 19:34:15,834 WARN util.NativeCodeLoader: Unable to load native-hadoop library for your platform... using builtin-java classes where applicable\n",
      "-rw-r--r--   2 pi supergroup          0 2020-06-06 19:33 /user/pi/solutions/solution01/crimes_by_type_by_month/_SUCCESS\n",
      "-rw-r--r--   2 pi supergroup      16232 2020-06-06 19:33 /user/pi/solutions/solution01/crimes_by_type_by_month/part-00000.gz\n",
      "-rw-r--r--   2 pi supergroup      16244 2020-06-06 19:33 /user/pi/solutions/solution01/crimes_by_type_by_month/part-00001.gz\n"
     ]
    }
   ],
   "source": [
    "! hdfs dfs -ls /user/pi/solutions/solution01/crimes_by_type_by_month/*"
   ]
  },
  {
   "cell_type": "code",
   "execution_count": null,
   "metadata": {},
   "outputs": [],
   "source": []
  }
 ],
 "metadata": {
  "kernelspec": {
   "display_name": "Python 3",
   "language": "python",
   "name": "python3"
  },
  "language_info": {
   "codemirror_mode": {
    "name": "ipython",
    "version": 3
   },
   "file_extension": ".py",
   "mimetype": "text/x-python",
   "name": "python",
   "nbconvert_exporter": "python",
   "pygments_lexer": "ipython3",
   "version": "3.7.6"
  }
 },
 "nbformat": 4,
 "nbformat_minor": 4
}
