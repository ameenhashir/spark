{
 "cells": [
  {
   "cell_type": "markdown",
   "metadata": {},
   "source": [
    "## Section 5: Apache Spark 1.6 - Core Spark APIs - Get Daily Revenue Per Product"
   ]
  },
  {
   "cell_type": "markdown",
   "metadata": {},
   "source": [
    "1. Use retail_db data set\n",
    "2. Problem Statement\n",
    "\t* Get Daily revenue by product considering completed and closed orders\n",
    "\t* Data need to be sorted by ascending order by date and then descending order by revenue computed for each product for ech day\n",
    "\t* Data should be delimited by \",\" in this order [order_date,daily_revenue_per_product,product_name]\n",
    "    * Data for orders and order_items is available in HDFS \n",
    "        - <path>/orders\n",
    "        - <path>/order_items\n",
    "    * Data for products is available locaclly under \n",
    "        - <path>/products\n",
    "3. Final output need to ne stored under\n",
    "\t* HDFS location -avro format\n",
    "\t\t- <path>/daily_revenue_avro_python\n",
    "\t* HDFS location - text for,at\n",
    "\t\t- <path>/daily_revenue_python\n",
    "\t* Local location\n",
    "\t\t- <path>/daily_revenue_python\n",
    "\t* Solution need to be stored under\t\t\n",
    "\t\t- <local path>/daily_revenue_python.txt"
   ]
  },
  {
   "cell_type": "markdown",
   "metadata": {},
   "source": [
    "#### Launch Pyspark"
   ]
  },
  {
   "cell_type": "markdown",
   "metadata": {},
   "source": [
    "- Understand the environment and use resources optimally\n",
    "- Understand the capacity o cluster\n",
    "- Resource manager web interface host on port ip:8088 [192.168.1.109:8088]\n",
    "- Got to yarn-site.xml and find property name yarn.resourcemanager.webapp.https.address\n",
    "- in UI find \n",
    "    * Memory Total\n",
    "    * VCores Total\n",
    "- Determine size of the data to determinine how much capacity to be used\n",
    "    * du -s -h file_path\n",
    "    * hdfs dfs -du -s -h hdfs_path\n",
    "- Launch pyspark\n",
    "    ***\n",
    "    pyspark --master yarn --conf spark.ui.port=12369 --num-executers 2 --executer-memory 512m\n",
    "    ***"
   ]
  },
  {
   "cell_type": "raw",
   "metadata": {},
   "source": [
    "pyspark properties to be familiar with\n",
    "***\n",
    "  Options:\n",
    "  --master MASTER_URL         spark://host:port, mesos://host:port, yarn,\n",
    "                              k8s://https://host:port, or local (Default: local[*]).\n",
    "  --deploy-mode DEPLOY_MODE   Whether to launch the driver program locally (\"client\") or\n",
    "                              on one of the worker machines inside the cluster (\"cluster\")\n",
    "                              (Default: client).\n",
    "  --class CLASS_NAME          Your application's main class (for Java / Scala apps).\n",
    "  --name NAME                 A name of your application.\n",
    "  --jars JARS                 Comma-separated list of jars to include on the driver\n",
    "                              and executor classpaths.\n",
    "  --packages                  Comma-separated list of maven coordinates of jars to include\n",
    "                              on the driver and executor classpaths. Will search the local\n",
    "                              maven repo, then maven central and any additional remote\n",
    "                              repositories given by --repositories. The format for the\n",
    "                              coordinates should be groupId:artifactId:version.\n",
    "  --exclude-packages          Comma-separated list of groupId:artifactId, to exclude while\n",
    "                              resolving the dependencies provided in --packages to avoid\n",
    "                              dependency conflicts.\n",
    "  --repositories              Comma-separated list of additional remote repositories to\n",
    "                              search for the maven coordinates given with --packages.\n",
    "  --py-files PY_FILES         Comma-separated list of .zip, .egg, or .py files to place\n",
    "                              on the PYTHONPATH for Python apps.\n",
    "  --files FILES               Comma-separated list of files to be placed in the working\n",
    "                              directory of each executor. File paths of these files\n",
    "                              in executors can be accessed via SparkFiles.get(fileName).\n",
    "\n",
    "  --conf PROP=VALUE           Arbitrary Spark configuration property.\n",
    "  --properties-file FILE      Path to a file from which to load extra properties. If not\n",
    "                              specified, this will look for conf/spark-defaults.conf.\n",
    "\n",
    "  --driver-memory MEM         Memory for driver (e.g. 1000M, 2G) (Default: 1024M).\n",
    "  --driver-java-options       Extra Java options to pass to the driver.\n",
    "  --driver-library-path       Extra library path entries to pass to the driver.\n",
    "  --driver-class-path         Extra class path entries to pass to the driver. Note that\n",
    "                              jars added with --jars are automatically included in the\n",
    "                              classpath.\n",
    "\n",
    "  --executor-memory MEM       Memory per executor (e.g. 1000M, 2G) (Default: 1G).\n",
    "\n",
    "  --proxy-user NAME           User to impersonate when submitting the application.\n",
    "                              This argument does not work with --principal / --keytab.\n",
    "\n",
    "  --help, -h                  Show this help message and exit.\n",
    "  --verbose, -v               Print additional debug output.\n",
    "  --version,                  Print the version of current Spark.\n",
    "\n",
    " Cluster deploy mode only:\n",
    "  --driver-cores NUM          Number of cores used by the driver, only in cluster mode\n",
    "                              (Default: 1).\n",
    "    \n",
    " Spark standalone or Mesos with cluster deploy mode only:\n",
    "  --supervise                 If given, restarts the driver on failure.\n",
    "  --kill SUBMISSION_ID        If given, kills the driver specified.\n",
    "  --status SUBMISSION_ID      If given, requests the status of the driver specified.\n",
    "\n",
    " Spark standalone and Mesos only:\n",
    "  --total-executor-cores NUM  Total cores for all executors.\n",
    "\n",
    " Spark standalone and YARN only:\n",
    "  --executor-cores NUM        Number of cores per executor. (Default: 1 in YARN mode,\n",
    "                              or all available cores on the worker in standalone mode)\n",
    "\n",
    " YARN-only:\n",
    "  --queue QUEUE_NAME          The YARN queue to submit to (Default: \"default\").\n",
    "  --num-executors NUM         Number of executors to launch (Default: 2).\n",
    "                              If dynamic allocation is enabled, the initial number of\n",
    "                              executors will be at least NUM.\n",
    "  --archives ARCHIVES         Comma separated list of archives to be extracted into the\n",
    "                              working directory of each executor.\n",
    "  --principal PRINCIPAL       Principal to be used to login to KDC, while running on\n",
    "                              secure HDFS.\n",
    "  --keytab KEYTAB             The full path to the file that contains the keytab for the\n",
    "                              principal specified above. This keytab will be copied to\n",
    "                              the node running the Application Master via the Secure\n",
    "                              Distributed Cache, for renewing the login tickets and the\n",
    "                              delegation tokens periodically.\n",
    "***"
   ]
  },
  {
   "cell_type": "raw",
   "metadata": {},
   "source": [
    "#to limit no:of part file while save use coalesce(n)\n",
    "rddname.coalesce(2).saveAsTextFile(path)"
   ]
  },
  {
   "cell_type": "raw",
   "metadata": {},
   "source": [
    "#save to avro file need to use thirdparty plugin while initializing pyspark\n",
    "pyspark --master yarn --conf spark.ui.port=12890 --num-executors 2 \\\n",
    "--executer-memory 512M \\\n",
    "--packages com.databricks.spark-avro_2.10:2.0.1\n",
    "\n",
    "or\n",
    "\n",
    "pyspark --master yarn --conf spark.ui.port=12890 --num-executors 2 \\\n",
    "--executer-memory 512M \\\n",
    "--jars <PATH_TO_JAR>\n"
   ]
  },
  {
   "cell_type": "code",
   "execution_count": 1,
   "metadata": {},
   "outputs": [],
   "source": [
    "def displayRDD(rDDName):\n",
    "    print('RDD Content:')\n",
    "    for i in rDDName.take(10):\n",
    "        print(i)\n",
    "    print('RDD Count:',rDDName.count())"
   ]
  },
  {
   "cell_type": "code",
   "execution_count": 2,
   "metadata": {},
   "outputs": [
    {
     "name": "stdout",
     "output_type": "stream",
     "text": [
      "RDD Content:\n",
      "1,2013-07-25 00:00:00.0,11599,CLOSED\n",
      "2,2013-07-25 00:00:00.0,256,PENDING_PAYMENT\n",
      "3,2013-07-25 00:00:00.0,12111,COMPLETE\n",
      "4,2013-07-25 00:00:00.0,8827,CLOSED\n",
      "5,2013-07-25 00:00:00.0,11318,COMPLETE\n",
      "6,2013-07-25 00:00:00.0,7130,COMPLETE\n",
      "7,2013-07-25 00:00:00.0,4530,COMPLETE\n",
      "8,2013-07-25 00:00:00.0,2911,PROCESSING\n",
      "9,2013-07-25 00:00:00.0,5657,PENDING_PAYMENT\n",
      "10,2013-07-25 00:00:00.0,5648,PENDING_PAYMENT\n",
      "RDD Count: 68883\n"
     ]
    }
   ],
   "source": [
    "#Read data orders data from RDD\n",
    "orders = sc.textFile('/user/pi/retail_db/orders')\n",
    "displayRDD(orders)"
   ]
  },
  {
   "cell_type": "code",
   "execution_count": 3,
   "metadata": {},
   "outputs": [
    {
     "name": "stdout",
     "output_type": "stream",
     "text": [
      "RDD Content:\n",
      "1,1,957,1,299.98,299.98\n",
      "2,2,1073,1,199.99,199.99\n",
      "3,2,502,5,250.0,50.0\n",
      "4,2,403,1,129.99,129.99\n",
      "5,4,897,2,49.98,24.99\n",
      "6,4,365,5,299.95,59.99\n",
      "7,4,502,3,150.0,50.0\n",
      "8,4,1014,4,199.92,49.98\n",
      "9,5,957,1,299.98,299.98\n",
      "10,5,365,5,299.95,59.99\n",
      "RDD Count: 172198\n"
     ]
    }
   ],
   "source": [
    "#Read data order_items data from RDD\n",
    "order_items = sc.textFile('/user/pi/retail_db/order_items')\n",
    "displayRDD(order_items)"
   ]
  },
  {
   "cell_type": "code",
   "execution_count": 4,
   "metadata": {},
   "outputs": [
    {
     "name": "stdout",
     "output_type": "stream",
     "text": [
      "RDD Content:\n",
      "1,2,Quest Q64 10 FT. x 10 FT. Slant Leg Instant U,,59.98,http://images.acmesports.sports/Quest+Q64+10+FT.+x+10+FT.+Slant+Leg+Instant+Up+Canopy\n",
      "2,2,Under Armour Men's Highlight MC Football Clea,,129.99,http://images.acmesports.sports/Under+Armour+Men%27s+Highlight+MC+Football+Cleat\n",
      "3,2,Under Armour Men's Renegade D Mid Football Cl,,89.99,http://images.acmesports.sports/Under+Armour+Men%27s+Renegade+D+Mid+Football+Cleat\n",
      "4,2,Under Armour Men's Renegade D Mid Football Cl,,89.99,http://images.acmesports.sports/Under+Armour+Men%27s+Renegade+D+Mid+Football+Cleat\n",
      "5,2,Riddell Youth Revolution Speed Custom Footbal,,199.99,http://images.acmesports.sports/Riddell+Youth+Revolution+Speed+Custom+Football+Helmet\n",
      "6,2,Jordan Men's VI Retro TD Football Cleat,,134.99,http://images.acmesports.sports/Jordan+Men%27s+VI+Retro+TD+Football+Cleat\n",
      "7,2,Schutt Youth Recruit Hybrid Custom Football H,,99.99,http://images.acmesports.sports/Schutt+Youth+Recruit+Hybrid+Custom+Football+Helmet+2014\n",
      "8,2,Nike Men's Vapor Carbon Elite TD Football Cle,,129.99,http://images.acmesports.sports/Nike+Men%27s+Vapor+Carbon+Elite+TD+Football+Cleat\n",
      "9,2,Nike Adult Vapor Jet 3.0 Receiver Gloves,,50.0,http://images.acmesports.sports/Nike+Adult+Vapor+Jet+3.0+Receiver+Gloves\n",
      "10,2,Under Armour Men's Highlight MC Football Clea,,129.99,http://images.acmesports.sports/Under+Armour+Men%27s+Highlight+MC+Football+Cleat\n",
      "RDD Count: 1345\n"
     ]
    }
   ],
   "source": [
    "#Read Product data from local\n",
    "productsRaw = open(\"/home/pi/shared/retail_db/products/part-00000\").read().splitlines()\n",
    "products=sc.parallelize(productsRaw)\n",
    "displayRDD(products)"
   ]
  },
  {
   "cell_type": "code",
   "execution_count": 5,
   "metadata": {},
   "outputs": [
    {
     "data": {
      "text/plain": [
       "['CLOSED',\n",
       " 'CANCELED',\n",
       " 'COMPLETE',\n",
       " 'PENDING_PAYMENT',\n",
       " 'SUSPECTED_FRAUD',\n",
       " 'PENDING',\n",
       " 'ON_HOLD',\n",
       " 'PROCESSING',\n",
       " 'PAYMENT_REVIEW']"
      ]
     },
     "execution_count": 5,
     "metadata": {},
     "output_type": "execute_result"
    }
   ],
   "source": [
    "#filter only completed and closed orders\n",
    "#see varies status\n",
    "orders.map(lambda o:o.split(\",\")[3]).distinct().collect()"
   ]
  },
  {
   "cell_type": "code",
   "execution_count": 6,
   "metadata": {},
   "outputs": [
    {
     "name": "stdout",
     "output_type": "stream",
     "text": [
      "RDD Content:\n",
      "1,2013-07-25 00:00:00.0,11599,CLOSED\n",
      "3,2013-07-25 00:00:00.0,12111,COMPLETE\n",
      "4,2013-07-25 00:00:00.0,8827,CLOSED\n",
      "5,2013-07-25 00:00:00.0,11318,COMPLETE\n",
      "6,2013-07-25 00:00:00.0,7130,COMPLETE\n",
      "7,2013-07-25 00:00:00.0,4530,COMPLETE\n",
      "12,2013-07-25 00:00:00.0,1837,CLOSED\n",
      "15,2013-07-25 00:00:00.0,2568,COMPLETE\n",
      "17,2013-07-25 00:00:00.0,2667,COMPLETE\n",
      "18,2013-07-25 00:00:00.0,1205,CLOSED\n",
      "RDD Count: 30455\n"
     ]
    }
   ],
   "source": [
    "ordersFiltered=orders.filter(lambda o:o.split(\",\")[3] in ['CLOSED','COMPLETE'])\n",
    "displayRDD(ordersFiltered)"
   ]
  },
  {
   "cell_type": "code",
   "execution_count": 7,
   "metadata": {},
   "outputs": [
    {
     "name": "stdout",
     "output_type": "stream",
     "text": [
      "RDD Content:\n",
      "(1, '2013-07-25 00:00:00.0')\n",
      "(3, '2013-07-25 00:00:00.0')\n",
      "(4, '2013-07-25 00:00:00.0')\n",
      "(5, '2013-07-25 00:00:00.0')\n",
      "(6, '2013-07-25 00:00:00.0')\n",
      "(7, '2013-07-25 00:00:00.0')\n",
      "(12, '2013-07-25 00:00:00.0')\n",
      "(15, '2013-07-25 00:00:00.0')\n",
      "(17, '2013-07-25 00:00:00.0')\n",
      "(18, '2013-07-25 00:00:00.0')\n",
      "RDD Count: 30455\n"
     ]
    }
   ],
   "source": [
    "ordersPairRdd = ordersFiltered.map(lambda o:(int(o.split(\",\")[0]),o.split(',')[1]))\n",
    "displayRDD(ordersPairRdd)"
   ]
  },
  {
   "cell_type": "code",
   "execution_count": 8,
   "metadata": {},
   "outputs": [
    {
     "name": "stdout",
     "output_type": "stream",
     "text": [
      "RDD Content:\n",
      "(1, (957, 299.98))\n",
      "(2, (1073, 199.99))\n",
      "(2, (502, 250.0))\n",
      "(2, (403, 129.99))\n",
      "(4, (897, 49.98))\n",
      "(4, (365, 299.95))\n",
      "(4, (502, 150.0))\n",
      "(4, (1014, 199.92))\n",
      "(5, (957, 299.98))\n",
      "(5, (365, 299.95))\n",
      "RDD Count: 172198\n"
     ]
    }
   ],
   "source": [
    "orderItemsPairRdd=order_items.map(lambda oi:(int(oi.split(\",\")[1]),(int(oi.split(\",\")[2]),float(oi.split(\",\")[4]))))\n",
    "displayRDD(orderItemsPairRdd)"
   ]
  },
  {
   "cell_type": "code",
   "execution_count": 9,
   "metadata": {},
   "outputs": [
    {
     "name": "stdout",
     "output_type": "stream",
     "text": [
      "RDD Content:\n",
      "(35188, ('2014-02-27 00:00:00.0', (627, 79.98)))\n",
      "(35192, ('2014-02-27 00:00:00.0', (642, 120.0)))\n",
      "(35196, ('2014-02-27 00:00:00.0', (572, 39.99)))\n",
      "(35200, ('2014-02-27 00:00:00.0', (1073, 199.99)))\n",
      "(35228, ('2014-02-27 00:00:00.0', (1014, 249.9)))\n",
      "(35228, ('2014-02-27 00:00:00.0', (1004, 399.98)))\n",
      "(35232, ('2014-02-27 00:00:00.0', (502, 100.0)))\n",
      "(35248, ('2014-02-27 00:00:00.0', (1014, 199.92)))\n",
      "(35264, ('2014-02-27 00:00:00.0', (502, 200.0)))\n",
      "(35264, ('2014-02-27 00:00:00.0', (365, 239.96)))\n",
      "RDD Count: 75408\n"
     ]
    }
   ],
   "source": [
    "ordersJoin=ordersPairRdd.join(orderItemsPairRdd)\n",
    "displayRDD(ordersJoin)"
   ]
  },
  {
   "cell_type": "code",
   "execution_count": 10,
   "metadata": {},
   "outputs": [
    {
     "name": "stdout",
     "output_type": "stream",
     "text": [
      "RDD Content:\n",
      "(627, ('2014-02-27 00:00:00.0', 79.98))\n",
      "(642, ('2014-02-27 00:00:00.0', 120.0))\n",
      "(572, ('2014-02-27 00:00:00.0', 39.99))\n",
      "(1073, ('2014-02-27 00:00:00.0', 199.99))\n",
      "(1014, ('2014-02-27 00:00:00.0', 249.9))\n",
      "(1004, ('2014-02-27 00:00:00.0', 399.98))\n",
      "(502, ('2014-02-27 00:00:00.0', 100.0))\n",
      "(1014, ('2014-02-27 00:00:00.0', 199.92))\n",
      "(502, ('2014-02-27 00:00:00.0', 200.0))\n",
      "(365, ('2014-02-27 00:00:00.0', 239.96))\n",
      "RDD Count: 75408\n"
     ]
    }
   ],
   "source": [
    "dailyRevenueProducts = ordersJoin.map(lambda t:(t[1][1][0],(t[1][0],t[1][1][1])))\n",
    "displayRDD(dailyRevenueProducts)"
   ]
  },
  {
   "cell_type": "code",
   "execution_count": 11,
   "metadata": {},
   "outputs": [
    {
     "name": "stdout",
     "output_type": "stream",
     "text": [
      "RDD Content:\n",
      "(1, 'Quest Q64 10 FT. x 10 FT. Slant Leg Instant U')\n",
      "(2, \"Under Armour Men's Highlight MC Football Clea\")\n",
      "(3, \"Under Armour Men's Renegade D Mid Football Cl\")\n",
      "(4, \"Under Armour Men's Renegade D Mid Football Cl\")\n",
      "(5, 'Riddell Youth Revolution Speed Custom Footbal')\n",
      "(6, \"Jordan Men's VI Retro TD Football Cleat\")\n",
      "(7, 'Schutt Youth Recruit Hybrid Custom Football H')\n",
      "(8, \"Nike Men's Vapor Carbon Elite TD Football Cle\")\n",
      "(9, 'Nike Adult Vapor Jet 3.0 Receiver Gloves')\n",
      "(10, \"Under Armour Men's Highlight MC Football Clea\")\n",
      "RDD Count: 1345\n"
     ]
    }
   ],
   "source": [
    "productsMap=products.map(lambda p:(int(p.split(\",\")[0]),p.split(\",\")[2]))\n",
    "displayRDD(productsMap)"
   ]
  },
  {
   "cell_type": "code",
   "execution_count": 12,
   "metadata": {},
   "outputs": [
    {
     "name": "stdout",
     "output_type": "stream",
     "text": [
      "RDD Content:\n",
      "(60, (('2014-01-19 00:00:00.0', 999.99), 'SOLE E25 Elliptical'))\n",
      "(60, (('2014-04-06 00:00:00.0', 999.99), 'SOLE E25 Elliptical'))\n",
      "(60, (('2014-07-09 00:00:00.0', 999.99), 'SOLE E25 Elliptical'))\n",
      "(860, (('2013-12-23 00:00:00.0', 599.99), 'Bushnell Pro X7 Jolt Slope Rangefinder'))\n",
      "(860, (('2014-01-25 00:00:00.0', 599.99), 'Bushnell Pro X7 Jolt Slope Rangefinder'))\n",
      "(860, (('2014-03-17 00:00:00.0', 599.99), 'Bushnell Pro X7 Jolt Slope Rangefinder'))\n",
      "(821, (('2014-02-28 00:00:00.0', 51.99), 'Titleist Pro V1 High Numbers Personalized Gol'))\n",
      "(821, (('2014-02-28 00:00:00.0', 51.99), 'Titleist Pro V1 High Numbers Personalized Gol'))\n",
      "(821, (('2014-02-28 00:00:00.0', 51.99), 'Titleist Pro V1 High Numbers Personalized Gol'))\n",
      "(821, (('2014-03-04 00:00:00.0', 103.98), 'Titleist Pro V1 High Numbers Personalized Gol'))\n",
      "RDD Count: 75408\n"
     ]
    }
   ],
   "source": [
    "dailyRevenueProductsName=dailyRevenueProducts.join(productsMap)\n",
    "displayRDD(dailyRevenueProductsName)"
   ]
  },
  {
   "cell_type": "code",
   "execution_count": 13,
   "metadata": {},
   "outputs": [
    {
     "name": "stdout",
     "output_type": "stream",
     "text": [
      "RDD Content:\n",
      "(('2013-08-08 00:00:00.0', \"Nike Men's CJ Elite 2 TD Football Cleat\"), 3249.749999999998)\n",
      "(('2013-08-10 00:00:00.0', \"Nike Men's CJ Elite 2 TD Football Cleat\"), 2729.789999999999)\n",
      "(('2013-10-07 00:00:00.0', \"Nike Men's CJ Elite 2 TD Football Cleat\"), 2079.84)\n",
      "(('2013-10-14 00:00:00.0', \"Nike Men's CJ Elite 2 TD Football Cleat\"), 2339.8199999999997)\n",
      "(('2013-11-19 00:00:00.0', \"Nike Men's CJ Elite 2 TD Football Cleat\"), 3769.7099999999973)\n",
      "(('2013-11-20 00:00:00.0', \"Nike Men's CJ Elite 2 TD Football Cleat\"), 4159.679999999997)\n",
      "(('2013-11-24 00:00:00.0', \"Nike Men's CJ Elite 2 TD Football Cleat\"), 5459.5799999999945)\n",
      "(('2013-12-17 00:00:00.0', \"Nike Men's CJ Elite 2 TD Football Cleat\"), 2209.83)\n",
      "(('2013-12-19 00:00:00.0', \"Nike Men's CJ Elite 2 TD Football Cleat\"), 2599.7999999999993)\n",
      "(('2014-01-08 00:00:00.0', \"Nike Men's CJ Elite 2 TD Football Cleat\"), 1169.91)\n",
      "RDD Count: 9120\n"
     ]
    }
   ],
   "source": [
    "from operator import add\n",
    "dailyRevenueProductsNameGP = dailyRevenueProductsName.map(lambda r:((r[1][0][0],r[1][1]),r[1][0][1])).reduceByKey(add)\n",
    "displayRDD(dailyRevenueProductsNameGP)"
   ]
  },
  {
   "cell_type": "code",
   "execution_count": 16,
   "metadata": {},
   "outputs": [
    {
     "name": "stdout",
     "output_type": "stream",
     "text": [
      "RDD Content:\n",
      "2013-07-25 00:00:00.0,5599.719999999999,Field & Stream Sportsman 16 Gun Fire Safe\n",
      "2013-07-25 00:00:00.0,5099.489999999999,Nike Men's Free 5.0+ Running Shoe\n",
      "2013-07-25 00:00:00.0,4499.700000000001,Diamondback Women's Serene Classic Comfort Bi\n",
      "2013-07-25 00:00:00.0,3359.4399999999996,Perfect Fitness Perfect Rip Deck\n",
      "2013-07-25 00:00:00.0,2999.8499999999995,Pelican Sunstream 100 Kayak\n",
      "2013-07-25 00:00:00.0,2798.8800000000006,O'Brien Men's Neoprene Life Vest\n",
      "2013-07-25 00:00:00.0,1949.8500000000001,Nike Men's CJ Elite 2 TD Football Cleat\n",
      "2013-07-25 00:00:00.0,1650.0,Nike Men's Dri-FIT Victory Golf Polo\n",
      "2013-07-25 00:00:00.0,1079.73,Under Armour Girls' Toddler Spine Surge Runni\n",
      "2013-07-25 00:00:00.0,599.99,Bowflex SelectTech 1090 Dumbbells\n",
      "RDD Count: 9120\n"
     ]
    }
   ],
   "source": [
    "dailyRevenueProductsNameSorted=dailyRevenueProductsNameGP.map(lambda p:((p[0][0],-p[1]),p[0][1])).sortByKey().\\\n",
    "map(lambda p:p[0][0]+','+str(-p[0][1])+','+p[1])\n",
    "displayRDD(dailyRevenueProductsNameSorted)"
   ]
  },
  {
   "cell_type": "code",
   "execution_count": 17,
   "metadata": {},
   "outputs": [],
   "source": [
    "dailyRevenueProductsNameSorted.saveAsTextFile('/user/pi/retail_db/daily_revenue_python')"
   ]
  },
  {
   "cell_type": "code",
   "execution_count": 26,
   "metadata": {},
   "outputs": [
    {
     "name": "stdout",
     "output_type": "stream",
     "text": [
      "2020-05-21 19:09:28,726 WARN util.NativeCodeLoader: Unable to load native-hadoop library for your platform... using builtin-java classes where applicable\n",
      "Found 21 items\n",
      "-rw-r--r--   2 pi supergroup          0 2020-05-21 19:06 /user/pi/retail_db/daily_revenue_python/_SUCCESS\n",
      "-rw-r--r--   2 pi supergroup      29347 2020-05-21 19:06 /user/pi/retail_db/daily_revenue_python/part-00000\n",
      "-rw-r--r--   2 pi supergroup      34065 2020-05-21 19:06 /user/pi/retail_db/daily_revenue_python/part-00001\n",
      "-rw-r--r--   2 pi supergroup      28870 2020-05-21 19:06 /user/pi/retail_db/daily_revenue_python/part-00002\n",
      "-rw-r--r--   2 pi supergroup      39125 2020-05-21 19:06 /user/pi/retail_db/daily_revenue_python/part-00003\n",
      "-rw-r--r--   2 pi supergroup      42584 2020-05-21 19:06 /user/pi/retail_db/daily_revenue_python/part-00004\n",
      "-rw-r--r--   2 pi supergroup      25390 2020-05-21 19:06 /user/pi/retail_db/daily_revenue_python/part-00005\n",
      "-rw-r--r--   2 pi supergroup      38863 2020-05-21 19:06 /user/pi/retail_db/daily_revenue_python/part-00006\n",
      "-rw-r--r--   2 pi supergroup      29867 2020-05-21 19:06 /user/pi/retail_db/daily_revenue_python/part-00007\n",
      "-rw-r--r--   2 pi supergroup      26485 2020-05-21 19:06 /user/pi/retail_db/daily_revenue_python/part-00008\n",
      "-rw-r--r--   2 pi supergroup      36624 2020-05-21 19:06 /user/pi/retail_db/daily_revenue_python/part-00009\n",
      "-rw-r--r--   2 pi supergroup      22633 2020-05-21 19:06 /user/pi/retail_db/daily_revenue_python/part-00010\n",
      "-rw-r--r--   2 pi supergroup      25570 2020-05-21 19:06 /user/pi/retail_db/daily_revenue_python/part-00011\n",
      "-rw-r--r--   2 pi supergroup      35934 2020-05-21 19:06 /user/pi/retail_db/daily_revenue_python/part-00012\n",
      "-rw-r--r--   2 pi supergroup      43095 2020-05-21 19:06 /user/pi/retail_db/daily_revenue_python/part-00013\n",
      "-rw-r--r--   2 pi supergroup      29890 2020-05-21 19:06 /user/pi/retail_db/daily_revenue_python/part-00014\n",
      "-rw-r--r--   2 pi supergroup      29929 2020-05-21 19:06 /user/pi/retail_db/daily_revenue_python/part-00015\n",
      "-rw-r--r--   2 pi supergroup      29013 2020-05-21 19:06 /user/pi/retail_db/daily_revenue_python/part-00016\n",
      "-rw-r--r--   2 pi supergroup      26658 2020-05-21 19:06 /user/pi/retail_db/daily_revenue_python/part-00017\n",
      "-rw-r--r--   2 pi supergroup      34233 2020-05-21 19:06 /user/pi/retail_db/daily_revenue_python/part-00018\n",
      "-rw-r--r--   2 pi supergroup      19956 2020-05-21 19:06 /user/pi/retail_db/daily_revenue_python/part-00019\n"
     ]
    }
   ],
   "source": [
    "! hdfs dfs -ls /user/pi/retail_db/daily_revenue_python"
   ]
  },
  {
   "cell_type": "code",
   "execution_count": 27,
   "metadata": {},
   "outputs": [
    {
     "name": "stdout",
     "output_type": "stream",
     "text": [
      "2020-05-21 19:10:25,715 WARN util.NativeCodeLoader: Unable to load native-hadoop library for your platform... using builtin-java classes where applicable\n",
      "Deleted /user/pi/retail_db/daily_revenue_python\n"
     ]
    }
   ],
   "source": [
    "! hdfs dfs -rm -r -f /user/pi/retail_db/daily_revenue_python\n",
    "#save file into 2 partition\n",
    "dailyRevenueProductsNameSorted.coalesce(2).saveAsTextFile('/user/pi/retail_db/daily_revenue_python')"
   ]
  },
  {
   "cell_type": "code",
   "execution_count": 28,
   "metadata": {},
   "outputs": [
    {
     "name": "stdout",
     "output_type": "stream",
     "text": [
      "2020-05-21 19:10:36,109 WARN util.NativeCodeLoader: Unable to load native-hadoop library for your platform... using builtin-java classes where applicable\n",
      "Found 3 items\n",
      "-rw-r--r--   2 pi supergroup          0 2020-05-21 19:10 /user/pi/retail_db/daily_revenue_python/_SUCCESS\n",
      "-rw-r--r--   2 pi supergroup     317852 2020-05-21 19:10 /user/pi/retail_db/daily_revenue_python/part-00000\n",
      "-rw-r--r--   2 pi supergroup     310279 2020-05-21 19:10 /user/pi/retail_db/daily_revenue_python/part-00001\n"
     ]
    }
   ],
   "source": [
    "! hdfs dfs -ls /user/pi/retail_db/daily_revenue_python"
   ]
  },
  {
   "cell_type": "code",
   "execution_count": 29,
   "metadata": {},
   "outputs": [
    {
     "name": "stdout",
     "output_type": "stream",
     "text": [
      "RDD Content:\n",
      "2013-07-25 00:00:00.0,5599.719999999999,Field & Stream Sportsman 16 Gun Fire Safe\n",
      "2013-07-25 00:00:00.0,5099.489999999999,Nike Men's Free 5.0+ Running Shoe\n",
      "2013-07-25 00:00:00.0,4499.700000000001,Diamondback Women's Serene Classic Comfort Bi\n",
      "2013-07-25 00:00:00.0,3359.4399999999996,Perfect Fitness Perfect Rip Deck\n",
      "2013-07-25 00:00:00.0,2999.8499999999995,Pelican Sunstream 100 Kayak\n",
      "2013-07-25 00:00:00.0,2798.8800000000006,O'Brien Men's Neoprene Life Vest\n",
      "2013-07-25 00:00:00.0,1949.8500000000001,Nike Men's CJ Elite 2 TD Football Cleat\n",
      "2013-07-25 00:00:00.0,1650.0,Nike Men's Dri-FIT Victory Golf Polo\n",
      "2013-07-25 00:00:00.0,1079.73,Under Armour Girls' Toddler Spine Surge Runni\n",
      "2013-07-25 00:00:00.0,599.99,Bowflex SelectTech 1090 Dumbbells\n",
      "RDD Count: 9120\n"
     ]
    }
   ],
   "source": [
    "dailyRevenue=sc.textFile('/user/pi/retail_db/daily_revenue_python')\n",
    "displayRDD(dailyRevenue)"
   ]
  },
  {
   "cell_type": "markdown",
   "metadata": {},
   "source": [
    "### Run pyspark with avro package\n",
    "***\n",
    "PYSPARK_DRIVER_PYTHON=jupyter PYSPARK_DRIVER_PYTHON_OPTS=\"notebook\" pyspark --master spark://192.168.1.109:7077 --packages org.apache.spark:spark-avro_2.11:2.4.0\n",
    "***"
   ]
  },
  {
   "cell_type": "code",
   "execution_count": 19,
   "metadata": {},
   "outputs": [
    {
     "name": "stdout",
     "output_type": "stream",
     "text": [
      "RDD Content:\n",
      "('2013-07-25 00:00:00.0', 5599.72, 'Field & Stream Sportsman 16 Gun Fire Safe')\n",
      "('2013-07-25 00:00:00.0', 5099.49, \"Nike Men's Free 5.0+ Running Shoe\")\n",
      "('2013-07-25 00:00:00.0', 4499.7, \"Diamondback Women's Serene Classic Comfort Bi\")\n",
      "('2013-07-25 00:00:00.0', 3359.44, 'Perfect Fitness Perfect Rip Deck')\n",
      "('2013-07-25 00:00:00.0', 2999.85, 'Pelican Sunstream 100 Kayak')\n",
      "('2013-07-25 00:00:00.0', 2798.88, \"O'Brien Men's Neoprene Life Vest\")\n",
      "('2013-07-25 00:00:00.0', 1949.85, \"Nike Men's CJ Elite 2 TD Football Cleat\")\n",
      "('2013-07-25 00:00:00.0', 1650.0, \"Nike Men's Dri-FIT Victory Golf Polo\")\n",
      "('2013-07-25 00:00:00.0', 1079.73, \"Under Armour Girls' Toddler Spine Surge Runni\")\n",
      "('2013-07-25 00:00:00.0', 599.99, 'Bowflex SelectTech 1090 Dumbbells')\n",
      "RDD Count: 9120\n"
     ]
    }
   ],
   "source": [
    "#save to avro file format\n",
    "#format and convert to DataFrame\n",
    "dailyRevenueProductsNameSorted1=dailyRevenueProductsNameGP.map(lambda p:((p[0][0],-p[1]),p[0][1])).sortByKey().\\\n",
    "map(lambda p:(p[0][0],round(-p[0][1],2),p[1]))\n",
    "displayRDD(dailyRevenueProductsNameSorted1)"
   ]
  },
  {
   "cell_type": "code",
   "execution_count": 20,
   "metadata": {},
   "outputs": [
    {
     "name": "stdout",
     "output_type": "stream",
     "text": [
      "+--------------------+-------------------------+--------------------+\n",
      "|          order_date|daily_revenue_per_product|        product_name|\n",
      "+--------------------+-------------------------+--------------------+\n",
      "|2013-07-25 00:00:...|                  5599.72|Field & Stream Sp...|\n",
      "|2013-07-25 00:00:...|                  5099.49|Nike Men's Free 5...|\n",
      "|2013-07-25 00:00:...|                   4499.7|Diamondback Women...|\n",
      "|2013-07-25 00:00:...|                  3359.44|Perfect Fitness P...|\n",
      "|2013-07-25 00:00:...|                  2999.85|Pelican Sunstream...|\n",
      "|2013-07-25 00:00:...|                  2798.88|O'Brien Men's Neo...|\n",
      "|2013-07-25 00:00:...|                  1949.85|Nike Men's CJ Eli...|\n",
      "|2013-07-25 00:00:...|                   1650.0|Nike Men's Dri-FI...|\n",
      "|2013-07-25 00:00:...|                  1079.73|Under Armour Girl...|\n",
      "|2013-07-25 00:00:...|                   599.99|Bowflex SelectTec...|\n",
      "|2013-07-25 00:00:...|                   319.96|Elevation Trainin...|\n",
      "|2013-07-25 00:00:...|                   207.96|Titleist Pro V1 H...|\n",
      "|2013-07-25 00:00:...|                   199.99|Nike Men's Kobe I...|\n",
      "|2013-07-25 00:00:...|                   119.99|Cleveland Golf Wo...|\n",
      "|2013-07-25 00:00:...|                   119.97|TYR Boys' Team Di...|\n",
      "|2013-07-25 00:00:...|                   109.99|Merrell Men's All...|\n",
      "|2013-07-25 00:00:...|                    108.0|LIJA Women's Butt...|\n",
      "|2013-07-25 00:00:...|                    100.0|Nike Women's Lege...|\n",
      "|2013-07-25 00:00:...|                    99.96|Team Golf Tenness...|\n",
      "|2013-07-25 00:00:...|                    95.97|Bridgestone e6 St...|\n",
      "+--------------------+-------------------------+--------------------+\n",
      "only showing top 20 rows\n",
      "\n"
     ]
    }
   ],
   "source": [
    "dailyRevenueDF=dailyRevenueProductsNameSorted1.toDF(schema=['order_date','daily_revenue_per_product','product_name'])\n",
    "dailyRevenueDF.show()"
   ]
  },
  {
   "cell_type": "code",
   "execution_count": 21,
   "metadata": {},
   "outputs": [],
   "source": [
    "#save avro file\n",
    "dailyRevenueDF.write.save('/user/pi/retail_db/daily_revenue_avro_python',format=\"com.databricks.spark.avro\")"
   ]
  },
  {
   "cell_type": "code",
   "execution_count": 24,
   "metadata": {},
   "outputs": [
    {
     "name": "stdout",
     "output_type": "stream",
     "text": [
      "+--------------------+-------------------------+--------------------+\n",
      "|          order_date|daily_revenue_per_product|        product_name|\n",
      "+--------------------+-------------------------+--------------------+\n",
      "|2014-06-29 00:00:...|                  3599.76|Diamondback Women...|\n",
      "|2014-06-29 00:00:...|                  3359.44|Perfect Fitness P...|\n",
      "|2014-06-29 00:00:...|                   2650.0|Nike Men's Dri-FI...|\n",
      "|2014-06-29 00:00:...|                  2099.16|O'Brien Men's Neo...|\n",
      "|2014-06-29 00:00:...|                  1949.85|Nike Men's CJ Eli...|\n",
      "|2014-06-29 00:00:...|                  1599.92|Pelican Sunstream...|\n",
      "|2014-06-29 00:00:...|                  1159.71|Under Armour Girl...|\n",
      "|2014-06-29 00:00:...|                   659.98|Stiga Master Seri...|\n",
      "|2014-06-29 00:00:...|                   499.95|Merrell Women's G...|\n",
      "|2014-06-29 00:00:...|                   299.99|Titleist Club Glo...|\n",
      "|2014-06-29 00:00:...|                    280.0|adidas Youth Germ...|\n",
      "|2014-06-29 00:00:...|                   239.96|adidas Men's F10 ...|\n",
      "|2014-06-29 00:00:...|                   239.95|Titleist Pro V1x ...|\n",
      "|2014-06-29 00:00:...|                   224.95|Under Armour Men'...|\n",
      "|2014-06-29 00:00:...|                    195.0|LIJA Women's Eyel...|\n",
      "|2014-06-29 00:00:...|                    150.0|Nike Men's Deutsc...|\n",
      "|2014-06-29 00:00:...|                    150.0|Nike Women's Lege...|\n",
      "|2014-06-29 00:00:...|                   134.97|Nike Men's Comfor...|\n",
      "|2014-06-29 00:00:...|                   124.99|Nike Men's Finger...|\n",
      "|2014-06-29 00:00:...|                    108.0|LIJA Women's Butt...|\n",
      "+--------------------+-------------------------+--------------------+\n",
      "only showing top 20 rows\n",
      "\n"
     ]
    }
   ],
   "source": [
    "#readavro\n",
    "dailyRevenueDFRead=sqlContext.read.load('/user/pi/retail_db/daily_revenue_avro_python',format=\"com.databricks.spark.avro\")\n",
    "dailyRevenueDFRead.show()"
   ]
  }
 ],
 "metadata": {
  "kernelspec": {
   "display_name": "Python 3",
   "language": "python",
   "name": "python3"
  },
  "language_info": {
   "codemirror_mode": {
    "name": "ipython",
    "version": 3
   },
   "file_extension": ".py",
   "mimetype": "text/x-python",
   "name": "python",
   "nbconvert_exporter": "python",
   "pygments_lexer": "ipython3",
   "version": "3.8.5"
  }
 },
 "nbformat": 4,
 "nbformat_minor": 4
}
