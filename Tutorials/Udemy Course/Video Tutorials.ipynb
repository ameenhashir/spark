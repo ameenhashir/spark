{
 "cells": [
  {
   "cell_type": "markdown",
   "metadata": {},
   "source": [
    "<p>\n",
    "<h2>Other spark Materials</h2>\n",
    "<br>Oreilly:\n",
    "<br>https://learning.oreilly.com/videos/apache-spark-with/9781789133394 \n",
    "<br>https://learning.oreilly.com/videos/mastering-big-data/9781838640583/\n",
    "</p>\n",
    "    \n",
    "<br>Udemy:\n",
    "<br>https://www.udemy.com/course/cca-175-spark-and-hadoop-developer-python-pyspark"
   ]
  }
 ],
 "metadata": {
  "kernelspec": {
   "display_name": "Python 3",
   "language": "python",
   "name": "python3"
  },
  "language_info": {
   "codemirror_mode": {
    "name": "ipython",
    "version": 3
   },
   "file_extension": ".py",
   "mimetype": "text/x-python",
   "name": "python",
   "nbconvert_exporter": "python",
   "pygments_lexer": "ipython3",
   "version": "3.8.5"
  }
 },
 "nbformat": 4,
 "nbformat_minor": 4
}
