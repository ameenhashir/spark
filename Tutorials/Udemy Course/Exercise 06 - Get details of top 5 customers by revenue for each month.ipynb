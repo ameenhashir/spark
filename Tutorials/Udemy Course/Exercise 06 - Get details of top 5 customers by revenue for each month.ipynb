{
 "cells": [
  {
   "cell_type": "markdown",
   "metadata": {},
   "source": [
    "<ul>\n",
    "<li>Tables should be in hive database - &lt;YOUR_USER_ID&gt;_retail_db_txt\n",
    "<ul>\n",
    "<li>orders</li>\n",
    "<li>order_items</li>\n",
    "<li>customers</li>\n",
    "</ul>\n",
    "</li>\n",
    "<li>Time to create database and tables need not be counted. Make sure to go back to Spark SQL module and create tables and load data</li>\n",
    "<li>Get details of top 5 customers by revenue for each month</li>\n",
    "<li>We need to get all the details of the customer along with month and revenue per month</li>\n",
    "<li>Data need to be sorted by month in ascending order and revenue per month in descending order</li>\n",
    "<li>Create table top5_customers_per_month in &lt;YOUR_USER_ID&gt;_retail_db_txt</li>\n",
    "<li>Insert the output into the newly created table</li>\n",
    "</ul>"
   ]
  },
  {
   "cell_type": "code",
   "execution_count": 52,
   "metadata": {},
   "outputs": [
    {
     "name": "stdout",
     "output_type": "stream",
     "text": [
      "+--------+------------------+-----------+\n",
      "|order_id|orders_customer_id|order_month|\n",
      "+--------+------------------+-----------+\n",
      "|       1|             11599|    2013-07|\n",
      "|       2|               256|    2013-07|\n",
      "|       3|             12111|    2013-07|\n",
      "|       4|              8827|    2013-07|\n",
      "|       5|             11318|    2013-07|\n",
      "|       6|              7130|    2013-07|\n",
      "|       7|              4530|    2013-07|\n",
      "|       8|              2911|    2013-07|\n",
      "|       9|              5657|    2013-07|\n",
      "|      10|              5648|    2013-07|\n",
      "+--------+------------------+-----------+\n",
      "only showing top 10 rows\n",
      "\n"
     ]
    }
   ],
   "source": [
    "from pyspark.sql.functions import date_format,col\n",
    "orders = spark.read.csv(\"/user/pi/retail_db/orders\").select('_c0','_c1','_c2').toDF('order_id','order_date','orders_customer_id'). \\\n",
    "    withColumn('order_id',col('order_id').cast('int')). \\\n",
    "    withColumn('order_month',date_format('order_date','YYYY-MM')). \\\n",
    "    withColumn('orders_customer_id',col('orders_customer_id').cast('int')). \\\n",
    "    select('order_id','orders_customer_id','order_month')\n",
    "orders.show(10)"
   ]
  },
  {
   "cell_type": "code",
   "execution_count": 53,
   "metadata": {},
   "outputs": [
    {
     "name": "stdout",
     "output_type": "stream",
     "text": [
      "+--------+-------+\n",
      "|order_id|revenue|\n",
      "+--------+-------+\n",
      "|     148| 479.99|\n",
      "|     463| 829.92|\n",
      "|     471| 169.98|\n",
      "|     496| 441.95|\n",
      "|    1088| 249.97|\n",
      "|    1580| 299.95|\n",
      "|    1591| 439.86|\n",
      "|    1645|1509.79|\n",
      "|    2366| 299.97|\n",
      "|    2659| 724.91|\n",
      "+--------+-------+\n",
      "only showing top 10 rows\n",
      "\n"
     ]
    }
   ],
   "source": [
    "from pyspark.sql.functions import col,sum,round\n",
    "order_items = spark.read.csv(\"/user/pi/retail_db/order_items\"). \\\n",
    "              select(col('_c1').cast('int').alias('order_id'),col('_c4').cast('float').alias('revenue')). \\\n",
    "                groupBy('order_id'). \\\n",
    "                agg(round(sum('revenue'),2).alias('revenue'))\n",
    "order_items.show(10)"
   ]
  },
  {
   "cell_type": "code",
   "execution_count": 54,
   "metadata": {},
   "outputs": [
    {
     "name": "stdout",
     "output_type": "stream",
     "text": [
      "+-----------+--------------+--------------+---------+---------+--------------------+-------------+----+----------+\n",
      "|customer_id|customer_fname|customer_lname|     col1|     col2|             address|     location|code|postalcode|\n",
      "+-----------+--------------+--------------+---------+---------+--------------------+-------------+----+----------+\n",
      "|          1|       Richard|     Hernandez|XXXXXXXXX|XXXXXXXXX|  6303 Heather Plaza|  Brownsville|  TX|     78521|\n",
      "|          2|          Mary|       Barrett|XXXXXXXXX|XXXXXXXXX|9526 Noble Embers...|    Littleton|  CO|     80126|\n",
      "|          3|           Ann|         Smith|XXXXXXXXX|XXXXXXXXX|3422 Blue Pioneer...|       Caguas|  PR|     00725|\n",
      "|          4|          Mary|         Jones|XXXXXXXXX|XXXXXXXXX|  8324 Little Common|   San Marcos|  CA|     92069|\n",
      "|          5|        Robert|        Hudson|XXXXXXXXX|XXXXXXXXX|10 Crystal River ...|       Caguas|  PR|     00725|\n",
      "|          6|          Mary|         Smith|XXXXXXXXX|XXXXXXXXX|3151 Sleepy Quail...|      Passaic|  NJ|     07055|\n",
      "|          7|       Melissa|        Wilcox|XXXXXXXXX|XXXXXXXXX|9453 High Concession|       Caguas|  PR|     00725|\n",
      "|          8|         Megan|         Smith|XXXXXXXXX|XXXXXXXXX|3047 Foggy Forest...|     Lawrence|  MA|     01841|\n",
      "|          9|          Mary|         Perez|XXXXXXXXX|XXXXXXXXX| 3616 Quaking Street|       Caguas|  PR|     00725|\n",
      "|         10|       Melissa|         Smith|XXXXXXXXX|XXXXXXXXX|8598 Harvest Beac...|     Stafford|  VA|     22554|\n",
      "|         11|          Mary|       Huffman|XXXXXXXXX|XXXXXXXXX|    3169 Stony Woods|       Caguas|  PR|     00725|\n",
      "|         12|   Christopher|         Smith|XXXXXXXXX|XXXXXXXXX|5594 Jagged Ember...|  San Antonio|  TX|     78227|\n",
      "|         13|          Mary|       Baldwin|XXXXXXXXX|XXXXXXXXX|7922 Iron Oak Gar...|       Caguas|  PR|     00725|\n",
      "|         14|     Katherine|         Smith|XXXXXXXXX|XXXXXXXXX|5666 Hazy Pony Sq...|  Pico Rivera|  CA|     90660|\n",
      "|         15|          Jane|          Luna|XXXXXXXXX|XXXXXXXXX|    673 Burning Glen|      Fontana|  CA|     92336|\n",
      "|         16|       Tiffany|         Smith|XXXXXXXXX|XXXXXXXXX|      6651 Iron Port|       Caguas|  PR|     00725|\n",
      "|         17|          Mary|      Robinson|XXXXXXXXX|XXXXXXXXX|     1325 Noble Pike|       Taylor|  MI|     48180|\n",
      "|         18|        Robert|         Smith|XXXXXXXXX|XXXXXXXXX|2734 Hazy Butterf...|     Martinez|  CA|     94553|\n",
      "|         19|     Stephanie|      Mitchell|XXXXXXXXX|XXXXXXXXX|3543 Red Treasure...|       Caguas|  PR|     00725|\n",
      "|         20|          Mary|         Ellis|XXXXXXXXX|XXXXXXXXX|      4703 Old Route|West New York|  NJ|     07093|\n",
      "+-----------+--------------+--------------+---------+---------+--------------------+-------------+----+----------+\n",
      "only showing top 20 rows\n",
      "\n"
     ]
    }
   ],
   "source": [
    "customers = spark.read.csv('/user/pi/retail_db/customers',schema='customer_id int,customer_fname string, \\\n",
    "                          customer_lname string,col1 string,col2 string,address string,location string,code string, \\\n",
    "                          postalcode string')\n",
    "customers.show()"
   ]
  },
  {
   "cell_type": "code",
   "execution_count": 55,
   "metadata": {},
   "outputs": [
    {
     "name": "stdout",
     "output_type": "stream",
     "text": [
      "+-----------+-------+------------------+\n",
      "|order_month|revenue|orders_customer_id|\n",
      "+-----------+-------+------------------+\n",
      "|    2013-07| 299.98|             11599|\n",
      "|    2013-07| 579.98|               256|\n",
      "|    2013-07| 699.85|              8827|\n",
      "|    2013-07|1129.86|             11318|\n",
      "|    2013-07| 579.92|              4530|\n",
      "|    2013-07| 729.84|              2911|\n",
      "|    2013-07| 599.96|              5657|\n",
      "|    2013-07| 651.92|              5648|\n",
      "|    2013-07| 919.79|               918|\n",
      "|    2013-07|1299.87|              1837|\n",
      "|    2013-07| 127.96|              9149|\n",
      "|    2013-07| 549.94|              9842|\n",
      "|    2013-07| 925.91|              2568|\n",
      "|    2013-07| 419.93|              7276|\n",
      "|    2013-07| 694.84|              2667|\n",
      "|    2013-07| 449.96|              1205|\n",
      "|    2013-07| 699.96|              9488|\n",
      "|    2013-07| 879.86|              9198|\n",
      "|    2013-07| 372.91|              2711|\n",
      "|    2013-07| 299.98|              4367|\n",
      "+-----------+-------+------------------+\n",
      "only showing top 20 rows\n",
      "\n"
     ]
    }
   ],
   "source": [
    "monthlyCustomerRev = orders.join(order_items,orders.order_id==order_items.order_id). \\\n",
    "    select('order_month','revenue','orders_customer_id')\n",
    "monthlyCustomerRev.show()"
   ]
  },
  {
   "cell_type": "code",
   "execution_count": 56,
   "metadata": {},
   "outputs": [],
   "source": [
    "from pyspark.sql.window import Window\n",
    "spec = Window.partitionBy('order_month'). \\\n",
    "        orderBy(monthlyCustomerRev.revenue.desc())"
   ]
  },
  {
   "cell_type": "code",
   "execution_count": 57,
   "metadata": {},
   "outputs": [
    {
     "name": "stdout",
     "output_type": "stream",
     "text": [
      "+-----------+-------+------------------+----+\n",
      "|order_month|revenue|orders_customer_id|rank|\n",
      "+-----------+-------+------------------+----+\n",
      "|    2013-09|2859.89|              1148|   1|\n",
      "|    2013-09|2199.99|              4258|   2|\n",
      "|    2013-09| 1849.9|              1607|   3|\n",
      "|    2013-09|1829.86|              1420|   4|\n",
      "|    2013-09|1819.63|              9750|   5|\n",
      "|    2013-12| 2699.9|               382|   1|\n",
      "|    2013-12| 2039.8|              1578|   2|\n",
      "|    2013-12|1829.86|              3366|   3|\n",
      "|    2013-12|1799.89|              1915|   4|\n",
      "|    2013-12| 1759.9|              9967|   5|\n",
      "|    2014-01| 2629.9|               986|   1|\n",
      "|    2014-01| 1899.9|              2537|   2|\n",
      "|    2014-01|1819.87|              4436|   3|\n",
      "|    2014-01| 1799.9|              3051|   4|\n",
      "|    2014-01|1729.87|              4089|   5|\n",
      "|    2014-03|2779.86|              5946|   1|\n",
      "|    2014-03|2629.92|             10351|   2|\n",
      "|    2014-03|2329.94|              8769|   3|\n",
      "|    2014-03|1979.83|             11430|   4|\n",
      "|    2014-03| 1699.8|              9697|   5|\n",
      "+-----------+-------+------------------+----+\n",
      "only showing top 20 rows\n",
      "\n"
     ]
    }
   ],
   "source": [
    "from pyspark.sql.functions import dense_rank\n",
    "monthlytop5customer = monthlyCustomerRev. \\\n",
    "                withColumn('rank',dense_rank().over(spec)). \\\n",
    "                where('rank <=5')\n",
    "monthlytop5customer.show()"
   ]
  },
  {
   "cell_type": "code",
   "execution_count": 48,
   "metadata": {},
   "outputs": [
    {
     "data": {
      "text/plain": [
       "['customer_id',\n",
       " 'customer_fname',\n",
       " 'customer_lname',\n",
       " 'col1',\n",
       " 'col2',\n",
       " 'address',\n",
       " 'location',\n",
       " 'code',\n",
       " 'postalcode']"
      ]
     },
     "execution_count": 48,
     "metadata": {},
     "output_type": "execute_result"
    }
   ],
   "source": [
    "customer_cols = customers.columns\n",
    "customer_cols"
   ]
  },
  {
   "cell_type": "code",
   "execution_count": 99,
   "metadata": {},
   "outputs": [],
   "source": [
    "from pyspark.sql.functions import dense_rank\n",
    "monthlytop5customerDet=customers.join(monthlytop5customer,customers.customer_id==monthlytop5customer.orders_customer_id). \\\n",
    "                          select(customer_cols + ['order_month','revenue']). \\\n",
    "                          sort(['order_month','revenue'],ascending=[1,0])\n",
    "monthlytop5customerDet.createOrReplaceTempView('monthlytop5customer')"
   ]
  },
  {
   "cell_type": "code",
   "execution_count": 100,
   "metadata": {},
   "outputs": [
    {
     "name": "stdout",
     "output_type": "stream",
     "text": [
      "+-----------+--------------+--------------+---------+---------+--------------------+--------------+----+----------+-----------+-------+\n",
      "|customer_id|customer_fname|customer_lname|     col1|     col2|             address|      location|code|postalcode|order_month|revenue|\n",
      "+-----------+--------------+--------------+---------+---------+--------------------+--------------+----+----------+-----------+-------+\n",
      "|       1175|          Mary|          Gray|XXXXXXXXX|XXXXXXXXX|5079 Velvet Hicko...|        Caguas|  PR|     00725|    2013-07|1699.91|\n",
      "|       9807|          Mary|         Lopez|XXXXXXXXX|XXXXXXXXX|6229 Clear Oak Lo...|         Vista|  CA|     92084|    2013-07| 1664.9|\n",
      "|      11941|       Jeffrey|          Pugh|XXXXXXXXX|XXXXXXXXX|3233 Sleepy View ...|         Cayey|  PR|     00736|    2013-07| 1649.8|\n",
      "|       2255|        Cheryl|         Kline|XXXXXXXXX|XXXXXXXXX| 599 Sleepy Townline|  Philadelphia|  PA|     19124|    2013-07|1629.79|\n",
      "|      10235|        Joseph|         Singh|XXXXXXXXX|XXXXXXXXX|1223 Heather Hors...|        Caguas|  PR|     00725|    2013-07|1599.89|\n",
      "|       9515|      Victoria|         Smith|XXXXXXXXX|XXXXXXXXX| 870 High View Close|        Caguas|  PR|     00725|    2013-08|3449.91|\n",
      "|       5024|        Thomas|         Klein|XXXXXXXXX|XXXXXXXXX| 7199 Golden Private|      Flushing|  NY|     11355|    2013-08|1749.86|\n",
      "|       3423|          Mary|         Smith|XXXXXXXXX|XXXXXXXXX| 2571 Noble Crescent|        Caguas|  PR|     00725|    2013-08| 1739.8|\n",
      "|       1503|          Mary|        Garner|XXXXXXXXX|XXXXXXXXX|   6019 Rustic Ridge|     Las Vegas|  NV|     89103|    2013-08|1699.91|\n",
      "|      11806|       Mildred|        Hester|XXXXXXXXX|XXXXXXXXX|      7577 Easy Mews|West Lafayette|  IN|     47906|    2013-08| 1699.9|\n",
      "+-----------+--------------+--------------+---------+---------+--------------------+--------------+----+----------+-----------+-------+\n",
      "\n"
     ]
    }
   ],
   "source": [
    "spark.sql('select * from monthlytop5customer limit 10').show()"
   ]
  },
  {
   "cell_type": "code",
   "execution_count": 123,
   "metadata": {},
   "outputs": [
    {
     "data": {
      "text/plain": [
       "DataFrame[]"
      ]
     },
     "execution_count": 123,
     "metadata": {},
     "output_type": "execute_result"
    }
   ],
   "source": [
    "spark.sql('use retail_db_txt')"
   ]
  },
  {
   "cell_type": "code",
   "execution_count": 125,
   "metadata": {},
   "outputs": [
    {
     "name": "stdout",
     "output_type": "stream",
     "text": [
      "+-----------+--------------+--------------+---------+---------+--------------------+--------------+----+----------+-----------+-------+\n",
      "|customer_id|customer_fname|customer_lname|     col1|     col2|             address|      location|code|postalcode|order_month|revenue|\n",
      "+-----------+--------------+--------------+---------+---------+--------------------+--------------+----+----------+-----------+-------+\n",
      "|       1175|          Mary|          Gray|XXXXXXXXX|XXXXXXXXX|5079 Velvet Hicko...|        Caguas|  PR|     00725|    2013-07|1699.91|\n",
      "|       9807|          Mary|         Lopez|XXXXXXXXX|XXXXXXXXX|6229 Clear Oak Lo...|         Vista|  CA|     92084|    2013-07| 1664.9|\n",
      "|      11941|       Jeffrey|          Pugh|XXXXXXXXX|XXXXXXXXX|3233 Sleepy View ...|         Cayey|  PR|     00736|    2013-07| 1649.8|\n",
      "|       2255|        Cheryl|         Kline|XXXXXXXXX|XXXXXXXXX| 599 Sleepy Townline|  Philadelphia|  PA|     19124|    2013-07|1629.79|\n",
      "|      10235|        Joseph|         Singh|XXXXXXXXX|XXXXXXXXX|1223 Heather Hors...|        Caguas|  PR|     00725|    2013-07|1599.89|\n",
      "|       9515|      Victoria|         Smith|XXXXXXXXX|XXXXXXXXX| 870 High View Close|        Caguas|  PR|     00725|    2013-08|3449.91|\n",
      "|       5024|        Thomas|         Klein|XXXXXXXXX|XXXXXXXXX| 7199 Golden Private|      Flushing|  NY|     11355|    2013-08|1749.86|\n",
      "|       3423|          Mary|         Smith|XXXXXXXXX|XXXXXXXXX| 2571 Noble Crescent|        Caguas|  PR|     00725|    2013-08| 1739.8|\n",
      "|       1503|          Mary|        Garner|XXXXXXXXX|XXXXXXXXX|   6019 Rustic Ridge|     Las Vegas|  NV|     89103|    2013-08|1699.91|\n",
      "|      11806|       Mildred|        Hester|XXXXXXXXX|XXXXXXXXX|      7577 Easy Mews|West Lafayette|  IN|     47906|    2013-08| 1699.9|\n",
      "+-----------+--------------+--------------+---------+---------+--------------------+--------------+----+----------+-----------+-------+\n",
      "\n"
     ]
    }
   ],
   "source": [
    "spark.sql(\"drop table if exists top5_customers_per_month\");\n",
    "spark.sql(\"create table top5_customers_per_month as select * from monthlytop5customer limit 10\");\n",
    "spark.sql(\"insert into top5_customers_per_month select * from monthlytop5customer limit 10\");\n",
    "spark.sql('select * from top5_customers_per_month limit 10').show()"
   ]
  },
  {
   "cell_type": "code",
   "execution_count": 126,
   "metadata": {},
   "outputs": [
    {
     "name": "stdout",
     "output_type": "stream",
     "text": [
      "+-----------+--------------+--------------+----+----+-------+--------+----+----------+-----------+-------+\n",
      "|customer_id|customer_fname|customer_lname|col1|col2|address|location|code|postalcode|order_month|revenue|\n",
      "+-----------+--------------+--------------+----+----+-------+--------+----+----------+-----------+-------+\n",
      "+-----------+--------------+--------------+----+----+-------+--------+----+----------+-----------+-------+\n",
      "\n"
     ]
    }
   ],
   "source": [
    "spark.sql('select * from ameen_retail_db_txt.top5_customers_per_month limit 10').show()"
   ]
  },
  {
   "cell_type": "code",
   "execution_count": 121,
   "metadata": {},
   "outputs": [
    {
     "name": "stdout",
     "output_type": "stream",
     "text": [
      "+-------------------+------------------------+-----------+\n",
      "|database           |tableName               |isTemporary|\n",
      "+-------------------+------------------------+-----------+\n",
      "|ameen_retail_db_txt|top5_customers_per_month|false      |\n",
      "|                   |monthlytop5customer     |true       |\n",
      "|                   |monthlytop5customer1    |true       |\n",
      "+-------------------+------------------------+-----------+\n",
      "\n"
     ]
    }
   ],
   "source": [
    "spark.sql('show tables').show(truncate=False)"
   ]
  }
 ],
 "metadata": {
  "kernelspec": {
   "display_name": "Python 3",
   "language": "python",
   "name": "python3"
  },
  "language_info": {
   "codemirror_mode": {
    "name": "ipython",
    "version": 3
   },
   "file_extension": ".py",
   "mimetype": "text/x-python",
   "name": "python",
   "nbconvert_exporter": "python",
   "pygments_lexer": "ipython3",
   "version": "3.7.6"
  }
 },
 "nbformat": 4,
 "nbformat_minor": 4
}
