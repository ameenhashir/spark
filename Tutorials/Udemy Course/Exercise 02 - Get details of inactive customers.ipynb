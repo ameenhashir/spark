{
 "cells": [
  {
   "cell_type": "markdown",
   "metadata": {},
   "source": [
    "<li>Details - Duration 15 to 20 minutes\n",
    "<ul>\n",
    "<li>Data is available in local file system /data/retail_db</li>\n",
    "<li>Source directories: /data/retail_db/orders and /data/retail_db/customers</li>\n",
    "<li>Source delimiter: comma (“,”)</li>\n",
    "<li>Source Columns - orders - order_id, order_date, order_customer_id, order_status</li>\n",
    "<li>Source Columns - customers - customer_id, customer_fname, customer_lname and many more</li>\n",
    "<li>Get the customers who have not placed any orders, sorted by customer_lname and then customer_fname</li>\n",
    "<li>Target Columns: customer_lname, customer_fname</li>\n",
    "<li>Number of files - 1</li>\n",
    "<li>Target Directory: /user/&lt;YOUR_USER_ID&gt;/solutions/solutions02/inactive_customers</li>\n",
    "<li>Target File Format: TEXT</li>\n",
    "<li>Target Delimiter: comma (“, ”)</li>\n",
    "<li>Compression: N/A</li>\n",
    "</ul>\n",
    "</li>"
   ]
  },
  {
   "cell_type": "code",
   "execution_count": 1,
   "metadata": {},
   "outputs": [
    {
     "name": "stdout",
     "output_type": "stream",
     "text": [
      "+--------+--------------------+-----------------+---------------+\n",
      "|order_id|          order_date|order_customer_id|   order_status|\n",
      "+--------+--------------------+-----------------+---------------+\n",
      "|       1|2013-07-25 00:00:...|            11599|         CLOSED|\n",
      "|       2|2013-07-25 00:00:...|              256|PENDING_PAYMENT|\n",
      "|       3|2013-07-25 00:00:...|            12111|       COMPLETE|\n",
      "|       4|2013-07-25 00:00:...|             8827|         CLOSED|\n",
      "|       5|2013-07-25 00:00:...|            11318|       COMPLETE|\n",
      "|       6|2013-07-25 00:00:...|             7130|       COMPLETE|\n",
      "|       7|2013-07-25 00:00:...|             4530|       COMPLETE|\n",
      "|       8|2013-07-25 00:00:...|             2911|     PROCESSING|\n",
      "|       9|2013-07-25 00:00:...|             5657|PENDING_PAYMENT|\n",
      "|      10|2013-07-25 00:00:...|             5648|PENDING_PAYMENT|\n",
      "|      11|2013-07-25 00:00:...|              918| PAYMENT_REVIEW|\n",
      "|      12|2013-07-25 00:00:...|             1837|         CLOSED|\n",
      "|      13|2013-07-25 00:00:...|             9149|PENDING_PAYMENT|\n",
      "|      14|2013-07-25 00:00:...|             9842|     PROCESSING|\n",
      "|      15|2013-07-25 00:00:...|             2568|       COMPLETE|\n",
      "|      16|2013-07-25 00:00:...|             7276|PENDING_PAYMENT|\n",
      "|      17|2013-07-25 00:00:...|             2667|       COMPLETE|\n",
      "|      18|2013-07-25 00:00:...|             1205|         CLOSED|\n",
      "|      19|2013-07-25 00:00:...|             9488|PENDING_PAYMENT|\n",
      "|      20|2013-07-25 00:00:...|             9198|     PROCESSING|\n",
      "+--------+--------------------+-----------------+---------------+\n",
      "only showing top 20 rows\n",
      "\n"
     ]
    }
   ],
   "source": [
    "orders = spark.read.format('csv'). \\\n",
    "            schema('order_id int,order_date string,order_customer_id int,order_status string'). \\\n",
    "            load('/user/pi/retail_db/orders')\n",
    "orders.show()            "
   ]
  },
  {
   "cell_type": "code",
   "execution_count": 22,
   "metadata": {},
   "outputs": [
    {
     "name": "stdout",
     "output_type": "stream",
     "text": [
      "+-----------+--------------+--------------+\n",
      "|customer_id|customer_fname|customer_lname|\n",
      "+-----------+--------------+--------------+\n",
      "|          1|       Richard|     Hernandez|\n",
      "|          2|          Mary|       Barrett|\n",
      "|          3|           Ann|         Smith|\n",
      "|          4|          Mary|         Jones|\n",
      "|          5|        Robert|        Hudson|\n",
      "|          6|          Mary|         Smith|\n",
      "|          7|       Melissa|        Wilcox|\n",
      "|          8|         Megan|         Smith|\n",
      "|          9|          Mary|         Perez|\n",
      "|         10|       Melissa|         Smith|\n",
      "|         11|          Mary|       Huffman|\n",
      "|         12|   Christopher|         Smith|\n",
      "|         13|          Mary|       Baldwin|\n",
      "|         14|     Katherine|         Smith|\n",
      "|         15|          Jane|          Luna|\n",
      "|         16|       Tiffany|         Smith|\n",
      "|         17|          Mary|      Robinson|\n",
      "|         18|        Robert|         Smith|\n",
      "|         19|     Stephanie|      Mitchell|\n",
      "|         20|          Mary|         Ellis|\n",
      "+-----------+--------------+--------------+\n",
      "only showing top 20 rows\n",
      "\n"
     ]
    }
   ],
   "source": [
    "customersDF = spark.read.format('csv'). \\\n",
    "            load('/user/pi/retail_db/customers')\n",
    "customers = customersDF. \\\n",
    "            withColumn('customer_id',customersDF._c0.cast('int')). \\\n",
    "            withColumn('customer_fname',customersDF._c1). \\\n",
    "            withColumn('customer_lname',customersDF._c2). \\\n",
    "            select('customer_id','customer_fname','customer_lname')\n",
    "customers.show()  "
   ]
  },
  {
   "cell_type": "code",
   "execution_count": 65,
   "metadata": {},
   "outputs": [
    {
     "name": "stdout",
     "output_type": "stream",
     "text": [
      "+--------------+--------------+\n",
      "|customer_fname|customer_lname|\n",
      "+--------------+--------------+\n",
      "|          Alan|          Wolf|\n",
      "|        Albert|       Ellison|\n",
      "|        Amanda|         Smith|\n",
      "|        Ashley|         Smith|\n",
      "|          Carl|         Smith|\n",
      "|       Carolyn|         Green|\n",
      "|         Donna|      Stephens|\n",
      "|       Dorothy|       Vazquez|\n",
      "|          Emma|         Smith|\n",
      "|          Gary|        Walker|\n",
      "|         Grace|         Smith|\n",
      "|         James|         Smith|\n",
      "|          Joan|         Smith|\n",
      "|          Jose|        Tanner|\n",
      "|       Kenneth|         Smith|\n",
      "|         Kevin|         Smith|\n",
      "|          Mary|        Bolton|\n",
      "|          Mary|        Greene|\n",
      "|          Mary|       Harrell|\n",
      "|          Mary|         Lewis|\n",
      "+--------------+--------------+\n",
      "only showing top 20 rows\n",
      "\n"
     ]
    }
   ],
   "source": [
    "from pyspark.sql.functions import concat,lit\n",
    "CustomerNotPlacedOrders = customers.join(orders,customers.customer_id==orders.order_customer_id,'left'). \\\n",
    "    where('order_id is null'). \\\n",
    "    withColumn('customer_lname',concat(lit(\" \"),'customer_lname')). \\\n",
    "    select('customer_fname','customer_lname'). \\\n",
    "    sort('customer_fname','customer_lname')\n",
    "    \n",
    "CustomerNotPlacedOrders.show()"
   ]
  },
  {
   "cell_type": "code",
   "execution_count": 73,
   "metadata": {},
   "outputs": [
    {
     "name": "stdout",
     "output_type": "stream",
     "text": [
      "2020-06-08 05:44:29,216 WARN util.NativeCodeLoader: Unable to load native-hadoop library for your platform... using builtin-java classes where applicable\r\n"
     ]
    }
   ],
   "source": [
    "! hdfs dfs -rm -r -f /user/pi/solutions/solutions02/inactive_customers"
   ]
  },
  {
   "cell_type": "code",
   "execution_count": 76,
   "metadata": {},
   "outputs": [],
   "source": [
    "CustomerNotPlacedOrders. \\\n",
    "    coalesce(1). \\\n",
    "    write. \\\n",
    "    option('ignoreLeadingWhiteSpace',False). \\\n",
    "    csv('/user/pi/solutions/solutions02/inactive_customers',sep=',')"
   ]
  },
  {
   "cell_type": "code",
   "execution_count": 77,
   "metadata": {},
   "outputs": [
    {
     "name": "stdout",
     "output_type": "stream",
     "text": [
      "2020-06-08 05:47:24,172 WARN util.NativeCodeLoader: Unable to load native-hadoop library for your platform... using builtin-java classes where applicable\n",
      "-rw-r--r--   2 pi supergroup          0 2020-06-08 05:47 /user/pi/solutions/solutions02/inactive_customers/_SUCCESS\n",
      "-rw-r--r--   2 pi supergroup        402 2020-06-08 05:47 /user/pi/solutions/solutions02/inactive_customers/part-00000-77e0e0b3-eeff-43da-9ddf-ff95fa255dcd-c000.csv\n"
     ]
    }
   ],
   "source": [
    "! hdfs dfs -ls /user/pi/solutions/solutions02/inactive_customers/*"
   ]
  },
  {
   "cell_type": "code",
   "execution_count": 78,
   "metadata": {},
   "outputs": [
    {
     "name": "stdout",
     "output_type": "stream",
     "text": [
      "2020-06-08 05:47:36,103 WARN util.NativeCodeLoader: Unable to load native-hadoop library for your platform... using builtin-java classes where applicable\n",
      "2020-06-08 05:47:39,356 INFO sasl.SaslDataTransferClient: SASL encryption trust check: localHostTrusted = false, remoteHostTrusted = false\n",
      "Alan, Wolf\n",
      "Albert, Ellison\n",
      "Amanda, Smith\n",
      "Ashley, Smith\n",
      "Carl, Smith\n",
      "Carolyn, Green\n",
      "Donna, Stephens\n",
      "Dorothy, Vazquez\n",
      "Emma, Smith\n",
      "Gary, Walker\n",
      "Grace, Smith\n",
      "James, Smith\n",
      "Joan, Smith\n",
      "Jose, Tanner\n",
      "Kenneth, Smith\n",
      "Kevin, Smith\n",
      "Mary, Bolton\n",
      "Mary, Greene\n",
      "Mary, Harrell\n",
      "Mary, Lewis\n",
      "Mary, Mueller\n",
      "Mary, Shaw\n",
      "Mary, Smith\n",
      "Mary, Smith\n",
      "Mary, Smith\n",
      "Mary, Smith\n",
      "Mary, Williams\n",
      "Matthew, Patel\n",
      "Randy, Smith\n",
      "Stephen, Smith\n"
     ]
    }
   ],
   "source": [
    "! hdfs dfs -tail /user/pi/solutions/solutions02/inactive_customers/part-00000-77e0e0b3-eeff-43da-9ddf-ff95fa255dcd-c000.csv"
   ]
  }
 ],
 "metadata": {
  "kernelspec": {
   "display_name": "Python 3",
   "language": "python",
   "name": "python3"
  },
  "language_info": {
   "codemirror_mode": {
    "name": "ipython",
    "version": 3
   },
   "file_extension": ".py",
   "mimetype": "text/x-python",
   "name": "python",
   "nbconvert_exporter": "python",
   "pygments_lexer": "ipython3",
   "version": "3.7.6"
  }
 },
 "nbformat": 4,
 "nbformat_minor": 4
}
