{
 "cells": [
  {
   "cell_type": "markdown",
   "metadata": {},
   "source": [
    "<li>Details - Duration 15 to 20 minutes\n",
    "<ul>\n",
    "<li>Data is available in HDFS file system under /public/crime/csv</li>\n",
    "<li>Structure of data (ID,Case Number,Date,Block,IUCR,Primary Type,Description,Location Description,Arrest,Domestic,Beat,District,Ward,Community Area,FBI Code,X Coordinate,Y Coordinate,Year,Updated On,Latitude,Longitude,Location)<br>\n",
    "File format - text file</li>\n",
    "<li>Delimiter - “,” (use regex while splitting <code>split(\",(?=(?:[^\\\"]*\\\"[^\\\"]*\\\")*[^\\\"]*$)\", -1)</code>, as there are some fields with comma and enclosed using double quotes.</li>\n",
    "<li>Get top 3 crime types based on number of incidents in RESIDENCE area using “Location Description”</li>\n",
    "<li>Store the result in HDFS path /user/&lt;YOUR_USER_ID&gt;/solutions/solution03/RESIDENCE_AREA_CRIMINAL_TYPE_DATA</li>\n",
    "<li>Output Fields: Crime Type, Number of Incidents</li>\n",
    "<li>Output File Format: JSON</li>\n",
    "<li>Output Delimiter: N/A</li>\n",
    "<li>Output Compression: No</li>\n",
    "</ul>\n",
    "</li>"
   ]
  },
  {
   "cell_type": "code",
   "execution_count": 1,
   "metadata": {},
   "outputs": [
    {
     "name": "stdout",
     "output_type": "stream",
     "text": [
      "2020-06-08 19:15:02,410 WARN util.NativeCodeLoader: Unable to load native-hadoop library for your platform... using builtin-java classes where applicable\n",
      "Found 1 items\n",
      "-rw-r--r--   2 pi supergroup 1680866151 2020-06-06 17:38 /public/csv/crimes.csv\n"
     ]
    }
   ],
   "source": [
    "! hdfs dfs -ls  /public/*"
   ]
  },
  {
   "cell_type": "code",
   "execution_count": 6,
   "metadata": {},
   "outputs": [],
   "source": [
    "crimesRDD = sc.textFile('/public/csv')"
   ]
  },
  {
   "cell_type": "code",
   "execution_count": 7,
   "metadata": {},
   "outputs": [
    {
     "data": {
      "text/plain": [
       "['ID,Case Number,Date,Block,IUCR,Primary Type,Description,Location Description,Arrest,Domestic,Beat,District,Ward,Community Area,FBI Code,X Coordinate,Y Coordinate,Year,Updated On,Latitude,Longitude,Location',\n",
       " '11034701,JA366925,01/01/2001 11:00:00 AM,016XX E 86TH PL,1153,DECEPTIVE PRACTICE,FINANCIAL IDENTITY THEFT OVER $ 300,RESIDENCE,false,false,0412,004,8,45,11,,,2001,08/05/2017 03:50:08 PM,,,',\n",
       " '11227287,JB147188,10/08/2017 03:00:00 AM,092XX S RACINE AVE,0281,CRIM SEXUAL ASSAULT,NON-AGGRAVATED,RESIDENCE,false,false,2222,022,21,73,02,,,2017,02/11/2018 03:57:41 PM,,,',\n",
       " '11227583,JB147595,03/28/2017 02:00:00 PM,026XX W 79TH ST,0620,BURGLARY,UNLAWFUL ENTRY,OTHER,false,false,0835,008,18,70,05,,,2017,02/11/2018 03:57:41 PM,,,',\n",
       " '11227293,JB147230,09/09/2017 08:17:00 PM,060XX S EBERHART AVE,0810,THEFT,OVER $500,RESIDENCE,false,false,0313,003,20,42,06,,,2017,02/11/2018 03:57:41 PM,,,',\n",
       " '11227634,JB147599,08/26/2017 10:00:00 AM,001XX W RANDOLPH ST,0281,CRIM SEXUAL ASSAULT,NON-AGGRAVATED,HOTEL/MOTEL,false,false,0122,001,42,32,02,,,2017,02/11/2018 03:57:41 PM,,,',\n",
       " '11227517,JB138481,02/10/2013 12:00:00 AM,071XX S LAFAYETTE AVE,0266,CRIM SEXUAL ASSAULT,PREDATORY,RESIDENCE,false,false,0731,007,6,69,02,,,2013,02/11/2018 03:57:41 PM,,,',\n",
       " '11227503,JB146383,01/01/2015 12:01:00 AM,061XX S KILBOURN AVE,1751,OFFENSE INVOLVING CHILDREN,CRIM SEX ABUSE BY FAM MEMBER,RESIDENCE,false,true,0813,008,13,65,17,,,2015,04/12/2019 04:00:15 PM,,,',\n",
       " '11227508,JB146365,01/01/2017 12:01:00 AM,027XX S WHIPPLE ST,1754,OFFENSE INVOLVING CHILDREN,AGG SEX ASSLT OF CHILD FAM MBR,RESIDENCE,false,false,1033,010,12,30,02,,,2017,02/11/2018 03:57:41 PM,,,',\n",
       " '11022695,JA353568,07/17/2017 10:10:00 AM,021XX W MC LEAN AVE,0810,THEFT,OVER $500,RESIDENCE,false,false,1432,014,32,22,06,,,2017,07/24/2017 03:54:23 PM,,,']"
      ]
     },
     "execution_count": 7,
     "metadata": {},
     "output_type": "execute_result"
    }
   ],
   "source": [
    "crimesRDD.take(10)"
   ]
  },
  {
   "cell_type": "code",
   "execution_count": 36,
   "metadata": {},
   "outputs": [
    {
     "name": "stdout",
     "output_type": "stream",
     "text": [
      "+------+----------+\n",
      "|   cnt|crime_type|\n",
      "+------+----------+\n",
      "| 28037|         N|\n",
      "|  3282|         M|\n",
      "|   108|         G|\n",
      "|     1|         P|\n",
      "|273310|         B|\n",
      "|   480|         I|\n",
      "|     2|         O|\n",
      "|156287|         T|\n",
      "| 81855|         D|\n",
      "|201666|         O|\n",
      "|  9239|         C|\n",
      "|  6752|         S|\n",
      "|  8313|         W|\n",
      "|    14|         N|\n",
      "|153547|         C|\n",
      "|  1708|         K|\n",
      "|  1010|         S|\n",
      "|  1203|         I|\n",
      "|     5|         R|\n",
      "| 25413|         C|\n",
      "+------+----------+\n",
      "only showing top 20 rows\n",
      "\n"
     ]
    }
   ],
   "source": [
    "import re\n",
    "from pyspark.sql import Row\n",
    "commaDelim = re.compile(\",(?=(?:[^\\\"]*\\\"[^\\\"]*\\\")*[^\\\"]*$)\")\n",
    "header = crimesRDD.first()\n",
    "crimeMap = crimesRDD.filter(lambda rw:(rw!=header) & (commaDelim.split(rw)[7]=='RESIDENCE')).map(lambda r:(commaDelim.split(r)[5],1))\n",
    "crimeGp = crimeMap.reduceByKey(lambda x,y:x+y)"
   ]
  },
  {
   "cell_type": "code",
   "execution_count": 48,
   "metadata": {},
   "outputs": [
    {
     "name": "stdout",
     "output_type": "stream",
     "text": [
      "+------+--------------------+\n",
      "|   cnt|          crime_type|\n",
      "+------+--------------------+\n",
      "| 28037|           NARCOTICS|\n",
      "|  3282| MOTOR VEHICLE THEFT|\n",
      "|   108|            GAMBLING|\n",
      "|     1|    PUBLIC INDECENCY|\n",
      "|273310|             BATTERY|\n",
      "|   480|INTERFERENCE WITH...|\n",
      "|     2|OTHER NARCOTIC VI...|\n",
      "|201666|       OTHER OFFENSE|\n",
      "|156287|               THEFT|\n",
      "| 81855|  DECEPTIVE PRACTICE|\n",
      "|  6752|         SEX OFFENSE|\n",
      "|  9239| CRIM SEXUAL ASSAULT|\n",
      "|  8313|   WEAPONS VIOLATION|\n",
      "|    14|      NON - CRIMINAL|\n",
      "|153547|     CRIMINAL DAMAGE|\n",
      "|  1708|          KIDNAPPING|\n",
      "|  1203|        INTIMIDATION|\n",
      "|  1010|            STALKING|\n",
      "|     5|           RITUALISM|\n",
      "| 25413|   CRIMINAL TRESPASS|\n",
      "+------+--------------------+\n",
      "only showing top 20 rows\n",
      "\n"
     ]
    }
   ],
   "source": [
    "crimeDF = crimeGp.map(lambda rw:Row(crime_type=rw[0],cnt=rw[1])).toDF()\n",
    "crimeDF.show()"
   ]
  },
  {
   "cell_type": "code",
   "execution_count": 45,
   "metadata": {},
   "outputs": [],
   "source": [
    "from pyspark.sql.window import Window\n",
    "spec = Window.orderBy(crimeDF.cnt.desc())"
   ]
  },
  {
   "cell_type": "code",
   "execution_count": 46,
   "metadata": {},
   "outputs": [
    {
     "name": "stdout",
     "output_type": "stream",
     "text": [
      "+------+--------------------+----+\n",
      "|   cnt|          crime_type|rank|\n",
      "+------+--------------------+----+\n",
      "|273310|             BATTERY|   1|\n",
      "|201666|       OTHER OFFENSE|   2|\n",
      "|156287|               THEFT|   3|\n",
      "|153547|     CRIMINAL DAMAGE|   4|\n",
      "|137194|            BURGLARY|   5|\n",
      "| 81855|  DECEPTIVE PRACTICE|   6|\n",
      "| 77653|             ASSAULT|   7|\n",
      "| 28037|           NARCOTICS|   8|\n",
      "| 26484|OFFENSE INVOLVING...|   9|\n",
      "| 25413|   CRIMINAL TRESPASS|  10|\n",
      "|  9239| CRIM SEXUAL ASSAULT|  11|\n",
      "|  8313|   WEAPONS VIOLATION|  12|\n",
      "|  6752|         SEX OFFENSE|  13|\n",
      "|  5147|             ROBBERY|  14|\n",
      "|  4924|PUBLIC PEACE VIOL...|  15|\n",
      "|  3282| MOTOR VEHICLE THEFT|  16|\n",
      "|  2184|               ARSON|  17|\n",
      "|  1708|          KIDNAPPING|  18|\n",
      "|  1203|        INTIMIDATION|  19|\n",
      "|  1010|            STALKING|  20|\n",
      "+------+--------------------+----+\n",
      "only showing top 20 rows\n",
      "\n"
     ]
    }
   ],
   "source": [
    "from pyspark.sql.functions import row_number\n",
    "crimeRnk = crimeDF. \\\n",
    "    withColumn('rank',row_number().over(spec))\n",
    "crimeRnk.show()"
   ]
  },
  {
   "cell_type": "code",
   "execution_count": 47,
   "metadata": {},
   "outputs": [
    {
     "name": "stdout",
     "output_type": "stream",
     "text": [
      "+-------------+------+\n",
      "|crime_type   |cnt   |\n",
      "+-------------+------+\n",
      "|BATTERY      |273310|\n",
      "|OTHER OFFENSE|201666|\n",
      "|THEFT        |156287|\n",
      "+-------------+------+\n",
      "\n"
     ]
    }
   ],
   "source": [
    "crimeRnk.filter(crimeRnk.rank <=3). \\\n",
    "    select('crime_type','cnt'). \\\n",
    "    orderBy(crimeRnk.crime_type,crimeRnk.cnt.desc()). \\\n",
    "    show(truncate=False)"
   ]
  },
  {
   "cell_type": "code",
   "execution_count": 51,
   "metadata": {},
   "outputs": [
    {
     "name": "stdout",
     "output_type": "stream",
     "text": [
      "+---+-------------+---+\n",
      "| SL|         Name|Age|\n",
      "+---+-------------+---+\n",
      "|  1| ameen,hashir| 32|\n",
      "|  2|fathima irine| 30|\n",
      "|  3| haimi ,Amrin| 40|\n",
      "|  4|     nazar PP| 60|\n",
      "+---+-------------+---+\n",
      "\n"
     ]
    }
   ],
   "source": [
    "quatedCommaDelim = spark.read.format('csv').load(\"/user/pi/quatedCommaDelim.txt\").toDF('SL','Name','Age')\n",
    "quatedCommaDelim.show()"
   ]
  },
  {
   "cell_type": "markdown",
   "metadata": {},
   "source": [
    "### Using Dataframes"
   ]
  },
  {
   "cell_type": "code",
   "execution_count": 3,
   "metadata": {},
   "outputs": [],
   "source": [
    "crimesDF = spark.read.format(\"csv\").load('/public/csv/crimes.csv')            "
   ]
  },
  {
   "cell_type": "code",
   "execution_count": 19,
   "metadata": {},
   "outputs": [
    {
     "name": "stdout",
     "output_type": "stream",
     "text": [
      "+--------------------+-------------+\n",
      "|           CrimeType|NoOfIncidents|\n",
      "+--------------------+-------------+\n",
      "|OFFENSE INVOLVING...|        26484|\n",
      "|CRIMINAL SEXUAL A...|          369|\n",
      "|            STALKING|         1010|\n",
      "|PUBLIC PEACE VIOL...|         4924|\n",
      "|           OBSCENITY|          304|\n",
      "|NON-CRIMINAL (SUB...|            2|\n",
      "|               ARSON|         2184|\n",
      "|            GAMBLING|          108|\n",
      "|   CRIMINAL TRESPASS|        25413|\n",
      "|             ASSAULT|        77653|\n",
      "|      NON - CRIMINAL|           14|\n",
      "|LIQUOR LAW VIOLATION|          275|\n",
      "| MOTOR VEHICLE THEFT|         3282|\n",
      "|               THEFT|       156287|\n",
      "|             BATTERY|       273310|\n",
      "|             ROBBERY|         5147|\n",
      "|           RITUALISM|            5|\n",
      "|            HOMICIDE|            1|\n",
      "|    PUBLIC INDECENCY|            1|\n",
      "| CRIM SEXUAL ASSAULT|         9239|\n",
      "+--------------------+-------------+\n",
      "only showing top 20 rows\n",
      "\n"
     ]
    }
   ],
   "source": [
    "from pyspark.sql.functions import count\n",
    "crimesTypes = crimesDF. \\\n",
    "        where('_c7 == \"RESIDENCE\"'). \\\n",
    "        select(crimesDF._c5.alias('CrimeType')). \\\n",
    "        groupBy('CrimeType').agg(count('CrimeType').alias('NoOfIncidents'))\n",
    "crimesTypes.show()"
   ]
  },
  {
   "cell_type": "code",
   "execution_count": 20,
   "metadata": {},
   "outputs": [],
   "source": [
    "from pyspark.sql.window import Window\n",
    "spec = Window.orderBy(crimesTypes.NoOfIncidents.desc())"
   ]
  },
  {
   "cell_type": "code",
   "execution_count": 22,
   "metadata": {},
   "outputs": [],
   "source": [
    "from pyspark.sql.functions import row_number\n",
    "Top3CrimeTypesLocResidence = crimesTypes. \\\n",
    "                                withColumn('rw',row_number().over(spec)). \\\n",
    "                                where(\"rw <= 3\")\n",
    "Top3CrimeTypesLocResidence. \\\n",
    "    select('CrimeType','NoOfIncidents'). \\\n",
    "    write. \\\n",
    "    json(\"/user/pi/solutions/solution03/RESIDENCE_AREA_CRIMINAL_TYPE_DATA\")"
   ]
  },
  {
   "cell_type": "code",
   "execution_count": 23,
   "metadata": {},
   "outputs": [
    {
     "name": "stdout",
     "output_type": "stream",
     "text": [
      "+-------------+-------------+\n",
      "|    CrimeType|NoOfIncidents|\n",
      "+-------------+-------------+\n",
      "|      BATTERY|       273310|\n",
      "|OTHER OFFENSE|       201666|\n",
      "|        THEFT|       156287|\n",
      "+-------------+-------------+\n",
      "\n"
     ]
    }
   ],
   "source": [
    "spark.read.json(\"/user/pi/solutions/solution03/RESIDENCE_AREA_CRIMINAL_TYPE_DATA\").show()"
   ]
  },
  {
   "cell_type": "code",
   "execution_count": 24,
   "metadata": {},
   "outputs": [
    {
     "name": "stdout",
     "output_type": "stream",
     "text": [
      "2020-06-09 15:14:17,314 WARN util.NativeCodeLoader: Unable to load native-hadoop library for your platform... using builtin-java classes where applicable\n",
      "Found 2 items\n",
      "-rw-r--r--   2 pi supergroup          0 2020-06-09 15:13 /user/pi/solutions/solution03/RESIDENCE_AREA_CRIMINAL_TYPE_DATA/_SUCCESS\n",
      "-rw-r--r--   2 pi supergroup        145 2020-06-09 15:13 /user/pi/solutions/solution03/RESIDENCE_AREA_CRIMINAL_TYPE_DATA/part-00000-408aacb5-eebb-42c0-89c4-874b44d0f807-c000.json\n"
     ]
    }
   ],
   "source": [
    "! hdfs dfs -ls /user/pi/solutions/solution03/RESIDENCE_AREA_CRIMINAL_TYPE_DATA"
   ]
  },
  {
   "cell_type": "code",
   "execution_count": null,
   "metadata": {},
   "outputs": [],
   "source": []
  },
  {
   "cell_type": "code",
   "execution_count": null,
   "metadata": {},
   "outputs": [],
   "source": []
  },
  {
   "cell_type": "code",
   "execution_count": null,
   "metadata": {},
   "outputs": [],
   "source": []
  }
 ],
 "metadata": {
  "kernelspec": {
   "display_name": "Python 3",
   "language": "python",
   "name": "python3"
  },
  "language_info": {
   "codemirror_mode": {
    "name": "ipython",
    "version": 3
   },
   "file_extension": ".py",
   "mimetype": "text/x-python",
   "name": "python",
   "nbconvert_exporter": "python",
   "pygments_lexer": "ipython3",
   "version": "3.7.6"
  }
 },
 "nbformat": 4,
 "nbformat_minor": 4
}
