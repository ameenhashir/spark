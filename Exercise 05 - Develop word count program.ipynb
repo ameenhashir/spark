{
 "cells": [
  {
   "cell_type": "markdown",
   "metadata": {},
   "source": [
    "<li>Details - Duration 20 minutes\n",
    "<ul>\n",
    "<li>Data is available in HDFS /public/randomtextwriter</li>\n",
    "<li>Get word count for the input data using space as delimiter (for each word, we need to get how many types it is repeated in the entire input data set)</li>\n",
    "<li>Number of executors should be 10</li>\n",
    "<li>Executor memory should be 3 GB</li>\n",
    "<li>Executor cores should be 20 in total (2 per executor)</li>\n",
    "<li>Number of output files should be 8</li>\n",
    "<li>Avro dependency details: groupId -&gt; com.databricks, artifactId -&gt; spark-avro_2.10, version -&gt; 2.0.1</li>\n",
    "<li>Target Directory: /user/&lt;YOUR_USER_ID&gt;/solutions/solution05/wordcount</li>\n",
    "<li>Target File Format: Avro</li>\n",
    "<li>Target fields: word, count</li>\n",
    "<li>Compression: N/A or default</li>\n",
    "</ul>\n",
    "</li>"
   ]
  },
  {
   "cell_type": "code",
   "execution_count": 8,
   "metadata": {},
   "outputs": [
    {
     "name": "stdout",
     "output_type": "stream",
     "text": [
      "2020-06-09 19:18:17,706 WARN util.NativeCodeLoader: Unable to load native-hadoop library for your platform... using builtin-java classes where applicable\n",
      "2020-06-09 19:18:20,993 INFO sasl.SaslDataTransferClient: SASL encryption trust check: localHostTrusted = false, remoteHostTrusted = false\n",
      "The history of New York begins around 10,000 BC, when the first Native Americans arrived. By 1100 AD, New York's main native cultures, the Iroquoian and Algonquian, had developed. European discovery of New York was led by the French in 1524 and the first land claim came in 1609 by the Dutch. As part of New Netherland, the colony was important in the fur trade and eventually became an agricultural resource thanks to the patroon system. In 1626 the Dutch bought the island of Manhattan from Native Americans.[1] In 1664, England renamed the colony New York, after the Duke of York (later James II & VII.) New York City gained prominence in the 18th century as a major trading port in the Thirteen Colonies.\n",
      "\n",
      "New York played a pivotal role during the American Revolution and subsequent war. The Stamp Act Congress in 1765 brought together representatives from across the Thirteen Colonies to form a unified response to British policies. The Sons of Liberty were active in New York City to challenge British authority. After a major loss at the Battle of Long Island, the Continental Army suffered a series of additional defeats that forced a retreat from the New York City area, leaving the strategic port and harbor to the British army and navy as their North American base of operations for the rest of the war. The Battle of Saratoga was the turning point of the war in favor of the Americans, convincing France to formally ally with them. New York's constitution was adopted in 1777, and strongly influenced the United States Constitution. New York City was the national capital at various times between 1785 and 1790, where the Bill of Rights was drafted. Albany became the permanent state capital in 1797. In 1787, New York became the eleventh state to ratify the United States Constitution.\n",
      "\n",
      "New York hosted significant transportation advancements in the 19th century, including the first steamboat line in 1807, the Erie Canal in 1825, and America's first regularly scheduled rail service in 1831. These advancements led to the expanded settlement of western New York and trade ties to the Midwest settlements around the Great Lakes.\n",
      "\n",
      "Due to New York City's trade ties to the South, there were numerous southern sympathizers in the early days of the American Civil War and the mayor proposed secession. Far from any of the battles, New York ultimately sent the most men and money to support the Union cause. Thereafter, the state helped create the industrial age and consequently was home to some of the first labor unions.\n",
      "\n",
      "During the 19th century, New York City became the main entry point for European immigrants to the United States, beginning with a wave of Irish during their Great Famine. Millions came through Castle Clinton in Battery Park before Ellis Island opened in 1892 to welcome millions more, increasingly from eastern and southern Europe. The Statue of Liberty opened in 1886 and became a symbol of hope. New York boomed during the Roaring Twenties, before the Wall Street Crash of 1929, and skyscrapers expressed the energy of the city. New York City was the site of successive tallest buildings in the world from 1913–74.\n",
      "\n",
      "The buildup of defense industries for World War II turned around the state's economy from the Great Depression, as hundreds of thousands worked to defeat the Axis powers. Following the war, the state experienced significant suburbanization around all the major cities, and most central cities shrank. The Thruway system opened in 1956, signalling another era of transportation advances.\n",
      "\n",
      "Following a period of near–bankruptcy in the late 1970s, New York City renewed its stature as a cultural center, attracted more immigration, and hosted the development of new music styles. The city developed from publishing to become a media capital over the second half of the 20th century, hosting most national news channels and broadcasts. Some of its newspapers became nationally and globallyrenowned. The state's manufacturing base eroded with the restructuring of industry, and the state transitioned into service industries.\n",
      "\n",
      "The September 11 attacks of 2001 destroyed the World Trade Center, killing almost 3,000 people; they were the largest terrorist attacks on United States soil."
     ]
    }
   ],
   "source": [
    "! hdfs dfs -cat /user/pi/in/word_count.text"
   ]
  },
  {
   "cell_type": "markdown",
   "metadata": {},
   "source": [
    "### run pyspark console as below\n",
    "***\n",
    "\n",
    "yspark --master spark://192.168.1.109:7077 --num-executors 4 --executor-memory 2GB --executor-cores 2 --packages org.apache.spark:spark-avro_2.11:2.4.0\n",
    "\n",
    "***"
   ]
  },
  {
   "cell_type": "code",
   "execution_count": 4,
   "metadata": {},
   "outputs": [
    {
     "data": {
      "text/plain": [
       "[\"The history of New York begins around 10,000 BC, when the first Native Americans arrived. By 1100 AD, New York's main native cultures, the Iroquoian and Algonquian, had developed. European discovery of New York was led by the French in 1524 and the first land claim came in 1609 by the Dutch. As part of New Netherland, the colony was important in the fur trade and eventually became an agricultural resource thanks to the patroon system. In 1626 the Dutch bought the island of Manhattan from Native Americans.[1] In 1664, England renamed the colony New York, after the Duke of York (later James II & VII.) New York City gained prominence in the 18th century as a major trading port in the Thirteen Colonies.\",\n",
       " '',\n",
       " \"New York played a pivotal role during the American Revolution and subsequent war. The Stamp Act Congress in 1765 brought together representatives from across the Thirteen Colonies to form a unified response to British policies. The Sons of Liberty were active in New York City to challenge British authority. After a major loss at the Battle of Long Island, the Continental Army suffered a series of additional defeats that forced a retreat from the New York City area, leaving the strategic port and harbor to the British army and navy as their North American base of operations for the rest of the war. The Battle of Saratoga was the turning point of the war in favor of the Americans, convincing France to formally ally with them. New York's constitution was adopted in 1777, and strongly influenced the United States Constitution. New York City was the national capital at various times between 1785 and 1790, where the Bill of Rights was drafted. Albany became the permanent state capital in 1797. In 1787, New York became the eleventh state to ratify the United States Constitution.\",\n",
       " '',\n",
       " \"New York hosted significant transportation advancements in the 19th century, including the first steamboat line in 1807, the Erie Canal in 1825, and America's first regularly scheduled rail service in 1831. These advancements led to the expanded settlement of western New York and trade ties to the Midwest settlements around the Great Lakes.\",\n",
       " '',\n",
       " \"Due to New York City's trade ties to the South, there were numerous southern sympathizers in the early days of the American Civil War and the mayor proposed secession. Far from any of the battles, New York ultimately sent the most men and money to support the Union cause. Thereafter, the state helped create the industrial age and consequently was home to some of the first labor unions.\",\n",
       " '',\n",
       " 'During the 19th century, New York City became the main entry point for European immigrants to the United States, beginning with a wave of Irish during their Great Famine. Millions came through Castle Clinton in Battery Park before Ellis Island opened in 1892 to welcome millions more, increasingly from eastern and southern Europe. The Statue of Liberty opened in 1886 and became a symbol of hope. New York boomed during the Roaring Twenties, before the Wall Street Crash of 1929, and skyscrapers expressed the energy of the city. New York City was the site of successive tallest buildings in the world from 1913–74.',\n",
       " '']"
      ]
     },
     "execution_count": 4,
     "metadata": {},
     "output_type": "execute_result"
    }
   ],
   "source": [
    "textRawRDD = sc.textFile(\"/user/pi/in/word_count.text\")\n",
    "textRawRDD.take(10)"
   ]
  },
  {
   "cell_type": "code",
   "execution_count": 6,
   "metadata": {},
   "outputs": [
    {
     "data": {
      "text/plain": [
       "[('The', 1),\n",
       " ('history', 1),\n",
       " ('of', 1),\n",
       " ('New', 1),\n",
       " ('York', 1),\n",
       " ('begins', 1),\n",
       " ('around', 1),\n",
       " ('10,000', 1),\n",
       " ('BC,', 1),\n",
       " ('when', 1)]"
      ]
     },
     "execution_count": 6,
     "metadata": {},
     "output_type": "execute_result"
    }
   ],
   "source": [
    "words = textRawRDD.flatMap(lambda w:w.split(\" \")).map(lambda w:(w,1))\n",
    "words.take(10)"
   ]
  },
  {
   "cell_type": "code",
   "execution_count": 7,
   "metadata": {},
   "outputs": [
    {
     "data": {
      "text/plain": [
       "[Row(count=10, word='The'),\n",
       " Row(count=33, word='of'),\n",
       " Row(count=20, word='New'),\n",
       " Row(count=1, word='begins'),\n",
       " Row(count=4, word='around'),\n",
       " Row(count=1, word='BC,'),\n",
       " Row(count=1, word='when'),\n",
       " Row(count=1, word='Americans'),\n",
       " Row(count=1, word='1100'),\n",
       " Row(count=1, word='native')]"
      ]
     },
     "execution_count": 7,
     "metadata": {},
     "output_type": "execute_result"
    }
   ],
   "source": [
    "from pyspark.sql import Row\n",
    "wc = words.reduceByKey(lambda x,y:x+y).map(lambda r:Row(word=r[0],count=int(r[1])))\n",
    "wc.take(10)"
   ]
  },
  {
   "cell_type": "code",
   "execution_count": 8,
   "metadata": {},
   "outputs": [
    {
     "name": "stdout",
     "output_type": "stream",
     "text": [
      "+-----+---------+\n",
      "|count|     word|\n",
      "+-----+---------+\n",
      "|   10|      The|\n",
      "|   33|       of|\n",
      "|   20|      New|\n",
      "|    1|   begins|\n",
      "|    4|   around|\n",
      "|    1|      BC,|\n",
      "|    1|     when|\n",
      "|    1|Americans|\n",
      "|    1|     1100|\n",
      "|    1|   native|\n",
      "|    1|cultures,|\n",
      "|    1|Iroquoian|\n",
      "|    2| European|\n",
      "|    8|      was|\n",
      "|    2|      led|\n",
      "|   21|       in|\n",
      "|    1|     1524|\n",
      "|    1|    claim|\n",
      "|    2|     came|\n",
      "|    1|   Dutch.|\n",
      "+-----+---------+\n",
      "only showing top 20 rows\n",
      "\n"
     ]
    }
   ],
   "source": [
    "wcDF = wc.toDF()\n",
    "wcDF.show()"
   ]
  },
  {
   "cell_type": "code",
   "execution_count": 9,
   "metadata": {},
   "outputs": [
    {
     "name": "stdout",
     "output_type": "stream",
     "text": [
      "root\n",
      " |-- count: long (nullable = true)\n",
      " |-- word: string (nullable = true)\n",
      "\n"
     ]
    }
   ],
   "source": [
    "wcDF.printSchema()"
   ]
  },
  {
   "cell_type": "code",
   "execution_count": 10,
   "metadata": {},
   "outputs": [],
   "source": [
    "wcDF.select('word','count').coalesce(8). \\\n",
    "write.format('com.databricks.spark.avro'). \\\n",
    "save('/user/pi/solutions/solution05/wordcount')"
   ]
  },
  {
   "cell_type": "code",
   "execution_count": 12,
   "metadata": {},
   "outputs": [
    {
     "name": "stdout",
     "output_type": "stream",
     "text": [
      "+-----------+-----+\n",
      "|       word|count|\n",
      "+-----------+-----+\n",
      "|    history|    1|\n",
      "|       York|   17|\n",
      "|     10,000|    1|\n",
      "|        the|   71|\n",
      "|      first|    5|\n",
      "|     Native|    2|\n",
      "|   arrived.|    1|\n",
      "|         By|    1|\n",
      "|        AD,|    1|\n",
      "|     York's|    2|\n",
      "|       main|    2|\n",
      "|        and|   21|\n",
      "|Algonquian,|    1|\n",
      "|        had|    1|\n",
      "| developed.|    1|\n",
      "|  discovery|    1|\n",
      "|         by|    2|\n",
      "|     French|    1|\n",
      "|       land|    1|\n",
      "|       1609|    1|\n",
      "+-----------+-----+\n",
      "only showing top 20 rows\n",
      "\n"
     ]
    }
   ],
   "source": [
    "spark.read.format('com.databricks.spark.avro').load('/user/pi/solutions/solution05/wordcount').show()"
   ]
  },
  {
   "cell_type": "code",
   "execution_count": 13,
   "metadata": {},
   "outputs": [
    {
     "name": "stdout",
     "output_type": "stream",
     "text": [
      "2020-06-09 20:01:23,886 WARN util.NativeCodeLoader: Unable to load native-hadoop library for your platform... using builtin-java classes where applicable\n",
      "-rw-r--r--   2 pi supergroup          0 2020-06-09 19:59 /user/pi/solutions/solution05/wordcount/_SUCCESS\n",
      "-rw-r--r--   2 pi supergroup       1705 2020-06-09 19:59 /user/pi/solutions/solution05/wordcount/part-00000-cba9837d-046a-448c-991f-c8f8c03bc501-c000.avro\n",
      "-rw-r--r--   2 pi supergroup       1941 2020-06-09 19:59 /user/pi/solutions/solution05/wordcount/part-00001-cba9837d-046a-448c-991f-c8f8c03bc501-c000.avro\n"
     ]
    }
   ],
   "source": [
    "! hdfs dfs -ls /user/pi/solutions/solution05/wordcount/*"
   ]
  }
 ],
 "metadata": {
  "kernelspec": {
   "display_name": "Python 3",
   "language": "python",
   "name": "python3"
  },
  "language_info": {
   "codemirror_mode": {
    "name": "ipython",
    "version": 3
   },
   "file_extension": ".py",
   "mimetype": "text/x-python",
   "name": "python",
   "nbconvert_exporter": "python",
   "pygments_lexer": "ipython3",
   "version": "3.7.6"
  }
 },
 "nbformat": 4,
 "nbformat_minor": 4
}
