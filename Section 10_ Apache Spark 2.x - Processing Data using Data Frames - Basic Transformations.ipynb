{
 "cells": [
  {
   "cell_type": "markdown",
   "metadata": {},
   "source": [
    "### Section 10: Apache Spark 2.x - Processing Data using Data Frames - Basic Transformations"
   ]
  },
  {
   "cell_type": "markdown",
   "metadata": {},
   "source": [
    "#### Define Problem Statement - Get Daily Product Revenue"
   ]
  },
  {
   "cell_type": "markdown",
   "metadata": {},
   "source": [
    "<p>Here is the problem statement for which we will be exploring Data Frame APIs to come up with final solution.</p>\n",
    "<ul>\n",
    "<li>Get daily product revenue</li>\n",
    "<li>orders – order_id, order_date, order_customer_id, order_status</li>\n",
    "<li>order_items – order_item_id, order_item_order_id, order_item_product_id, order_item_quantity, order_item_subtotal, order_item_product_price</li>\n",
    "<li>Data is comma separated</li>\n",
    "<li>We will fetch data using spark.read.csv</li>\n",
    "<li>Apply type cast functions to convert fields into their original type where ever is applicable.</li>\n",
    "</ul>\n",
    "<img src=\"Retail_DB_ER_Diagram.png\" />"
   ]
  },
  {
   "cell_type": "markdown",
   "metadata": {},
   "source": [
    "#### Read Data"
   ]
  },
  {
   "cell_type": "markdown",
   "metadata": {},
   "source": [
    "##### Method1 - spark.read.format()"
   ]
  },
  {
   "cell_type": "code",
   "execution_count": 1,
   "metadata": {},
   "outputs": [],
   "source": [
    "orders=spark.read.format('csv').schema('order_id int,order_date string,customer_id int,order_status string'). \\\n",
    "                               load('/user/pi/retail_db/orders')"
   ]
  },
  {
   "cell_type": "code",
   "execution_count": 2,
   "metadata": {},
   "outputs": [
    {
     "name": "stdout",
     "output_type": "stream",
     "text": [
      "root\n",
      " |-- order_id: integer (nullable = true)\n",
      " |-- order_date: string (nullable = true)\n",
      " |-- customer_id: integer (nullable = true)\n",
      " |-- order_status: string (nullable = true)\n",
      "\n"
     ]
    }
   ],
   "source": [
    "orders.printSchema()"
   ]
  },
  {
   "cell_type": "code",
   "execution_count": 3,
   "metadata": {},
   "outputs": [
    {
     "name": "stdout",
     "output_type": "stream",
     "text": [
      "+--------+---------------------+-----------+---------------+\n",
      "|order_id|order_date           |customer_id|order_status   |\n",
      "+--------+---------------------+-----------+---------------+\n",
      "|1       |2013-07-25 00:00:00.0|11599      |CLOSED         |\n",
      "|2       |2013-07-25 00:00:00.0|256        |PENDING_PAYMENT|\n",
      "|3       |2013-07-25 00:00:00.0|12111      |COMPLETE       |\n",
      "|4       |2013-07-25 00:00:00.0|8827       |CLOSED         |\n",
      "|5       |2013-07-25 00:00:00.0|11318      |COMPLETE       |\n",
      "|6       |2013-07-25 00:00:00.0|7130       |COMPLETE       |\n",
      "|7       |2013-07-25 00:00:00.0|4530       |COMPLETE       |\n",
      "|8       |2013-07-25 00:00:00.0|2911       |PROCESSING     |\n",
      "|9       |2013-07-25 00:00:00.0|5657       |PENDING_PAYMENT|\n",
      "|10      |2013-07-25 00:00:00.0|5648       |PENDING_PAYMENT|\n",
      "+--------+---------------------+-----------+---------------+\n",
      "only showing top 10 rows\n",
      "\n"
     ]
    }
   ],
   "source": [
    "orders.show(10,False)"
   ]
  },
  {
   "cell_type": "code",
   "execution_count": 4,
   "metadata": {},
   "outputs": [],
   "source": [
    "orderItems = spark.read.format('csv'). \\\n",
    "schema('order_item_id int,order_item_order_id int,order_item_product_id int,order_item_quantity_id int,order_item_subtotal float,order_item_product_price float'). \\\n",
    "load('/user/pi/retail_db/order_items')"
   ]
  },
  {
   "cell_type": "code",
   "execution_count": 5,
   "metadata": {},
   "outputs": [
    {
     "name": "stdout",
     "output_type": "stream",
     "text": [
      "root\n",
      " |-- order_item_id: integer (nullable = true)\n",
      " |-- order_item_order_id: integer (nullable = true)\n",
      " |-- order_item_product_id: integer (nullable = true)\n",
      " |-- order_item_quantity_id: integer (nullable = true)\n",
      " |-- order_item_subtotal: float (nullable = true)\n",
      " |-- order_item_product_price: float (nullable = true)\n",
      "\n"
     ]
    }
   ],
   "source": [
    "orderItems.printSchema()"
   ]
  },
  {
   "cell_type": "code",
   "execution_count": 6,
   "metadata": {},
   "outputs": [
    {
     "name": "stdout",
     "output_type": "stream",
     "text": [
      "+-------------+-------------------+---------------------+----------------------+-------------------+------------------------+\n",
      "|order_item_id|order_item_order_id|order_item_product_id|order_item_quantity_id|order_item_subtotal|order_item_product_price|\n",
      "+-------------+-------------------+---------------------+----------------------+-------------------+------------------------+\n",
      "|1            |1                  |957                  |1                     |299.98             |299.98                  |\n",
      "|2            |2                  |1073                 |1                     |199.99             |199.99                  |\n",
      "|3            |2                  |502                  |5                     |250.0              |50.0                    |\n",
      "|4            |2                  |403                  |1                     |129.99             |129.99                  |\n",
      "|5            |4                  |897                  |2                     |49.98              |24.99                   |\n",
      "|6            |4                  |365                  |5                     |299.95             |59.99                   |\n",
      "|7            |4                  |502                  |3                     |150.0              |50.0                    |\n",
      "|8            |4                  |1014                 |4                     |199.92             |49.98                   |\n",
      "|9            |5                  |957                  |1                     |299.98             |299.98                  |\n",
      "|10           |5                  |365                  |5                     |299.95             |59.99                   |\n",
      "+-------------+-------------------+---------------------+----------------------+-------------------+------------------------+\n",
      "only showing top 10 rows\n",
      "\n"
     ]
    }
   ],
   "source": [
    "orderItems.show(10,False)"
   ]
  },
  {
   "cell_type": "markdown",
   "metadata": {},
   "source": [
    "#### Method2 - spark.read.csv()"
   ]
  },
  {
   "cell_type": "code",
   "execution_count": 7,
   "metadata": {},
   "outputs": [],
   "source": [
    "orders=spark.read.csv('/user/pi/retail_db/orders',schema='order_id int,order_date string,customer_id int,order_status string')"
   ]
  },
  {
   "cell_type": "code",
   "execution_count": 8,
   "metadata": {},
   "outputs": [
    {
     "name": "stdout",
     "output_type": "stream",
     "text": [
      "root\n",
      " |-- order_id: integer (nullable = true)\n",
      " |-- order_date: string (nullable = true)\n",
      " |-- customer_id: integer (nullable = true)\n",
      " |-- order_status: string (nullable = true)\n",
      "\n"
     ]
    }
   ],
   "source": [
    "orders.printSchema()"
   ]
  },
  {
   "cell_type": "code",
   "execution_count": 9,
   "metadata": {},
   "outputs": [
    {
     "name": "stdout",
     "output_type": "stream",
     "text": [
      "+--------+---------------------+-----------+---------------+\n",
      "|order_id|order_date           |customer_id|order_status   |\n",
      "+--------+---------------------+-----------+---------------+\n",
      "|1       |2013-07-25 00:00:00.0|11599      |CLOSED         |\n",
      "|2       |2013-07-25 00:00:00.0|256        |PENDING_PAYMENT|\n",
      "|3       |2013-07-25 00:00:00.0|12111      |COMPLETE       |\n",
      "|4       |2013-07-25 00:00:00.0|8827       |CLOSED         |\n",
      "|5       |2013-07-25 00:00:00.0|11318      |COMPLETE       |\n",
      "|6       |2013-07-25 00:00:00.0|7130       |COMPLETE       |\n",
      "|7       |2013-07-25 00:00:00.0|4530       |COMPLETE       |\n",
      "|8       |2013-07-25 00:00:00.0|2911       |PROCESSING     |\n",
      "|9       |2013-07-25 00:00:00.0|5657       |PENDING_PAYMENT|\n",
      "|10      |2013-07-25 00:00:00.0|5648       |PENDING_PAYMENT|\n",
      "+--------+---------------------+-----------+---------------+\n",
      "only showing top 10 rows\n",
      "\n"
     ]
    }
   ],
   "source": [
    "orders.show(10,False) "
   ]
  },
  {
   "cell_type": "code",
   "execution_count": 10,
   "metadata": {},
   "outputs": [],
   "source": [
    "orderItems = spark.read.csv('/user/pi/retail_db/order_items','order_item_id int,order_item_order_id int,order_item_product_id int,order_item_quantity_id int,order_item_subtotal float,order_item_product_price float')"
   ]
  },
  {
   "cell_type": "code",
   "execution_count": 11,
   "metadata": {},
   "outputs": [
    {
     "name": "stdout",
     "output_type": "stream",
     "text": [
      "root\n",
      " |-- order_item_id: integer (nullable = true)\n",
      " |-- order_item_order_id: integer (nullable = true)\n",
      " |-- order_item_product_id: integer (nullable = true)\n",
      " |-- order_item_quantity_id: integer (nullable = true)\n",
      " |-- order_item_subtotal: float (nullable = true)\n",
      " |-- order_item_product_price: float (nullable = true)\n",
      "\n"
     ]
    }
   ],
   "source": [
    "orderItems.printSchema()"
   ]
  },
  {
   "cell_type": "code",
   "execution_count": 12,
   "metadata": {},
   "outputs": [
    {
     "name": "stdout",
     "output_type": "stream",
     "text": [
      "+-------------+-------------------+---------------------+----------------------+-------------------+------------------------+\n",
      "|order_item_id|order_item_order_id|order_item_product_id|order_item_quantity_id|order_item_subtotal|order_item_product_price|\n",
      "+-------------+-------------------+---------------------+----------------------+-------------------+------------------------+\n",
      "|1            |1                  |957                  |1                     |299.98             |299.98                  |\n",
      "|2            |2                  |1073                 |1                     |199.99             |199.99                  |\n",
      "|3            |2                  |502                  |5                     |250.0              |50.0                    |\n",
      "|4            |2                  |403                  |1                     |129.99             |129.99                  |\n",
      "|5            |4                  |897                  |2                     |49.98              |24.99                   |\n",
      "|6            |4                  |365                  |5                     |299.95             |59.99                   |\n",
      "|7            |4                  |502                  |3                     |150.0              |50.0                    |\n",
      "|8            |4                  |1014                 |4                     |199.92             |49.98                   |\n",
      "|9            |5                  |957                  |1                     |299.98             |299.98                  |\n",
      "|10           |5                  |365                  |5                     |299.95             |59.99                   |\n",
      "+-------------+-------------------+---------------------+----------------------+-------------------+------------------------+\n",
      "only showing top 10 rows\n",
      "\n"
     ]
    }
   ],
   "source": [
    "orderItems.show(10,False)"
   ]
  },
  {
   "cell_type": "markdown",
   "metadata": {},
   "source": [
    "#### Method3 - spark.read.csv() - toDF/withColumn"
   ]
  },
  {
   "cell_type": "code",
   "execution_count": 13,
   "metadata": {},
   "outputs": [],
   "source": [
    "ordersCsv=spark.read.csv('/user/pi/retail_db/orders').toDF('order_id','order_date','customer_id','order_status')"
   ]
  },
  {
   "cell_type": "code",
   "execution_count": 14,
   "metadata": {},
   "outputs": [
    {
     "name": "stdout",
     "output_type": "stream",
     "text": [
      "root\n",
      " |-- order_id: string (nullable = true)\n",
      " |-- order_date: string (nullable = true)\n",
      " |-- customer_id: string (nullable = true)\n",
      " |-- order_status: string (nullable = true)\n",
      "\n"
     ]
    }
   ],
   "source": [
    "ordersCsv.printSchema()"
   ]
  },
  {
   "cell_type": "code",
   "execution_count": 15,
   "metadata": {},
   "outputs": [],
   "source": [
    "from pyspark.sql.types import IntegerType\n",
    "orders=ordersCsv.withColumn('order_id',ordersCsv.order_id.cast(IntegerType())) \\\n",
    "                .withColumn('customer_id',ordersCsv.customer_id.cast(IntegerType()))"
   ]
  },
  {
   "cell_type": "code",
   "execution_count": 16,
   "metadata": {},
   "outputs": [
    {
     "name": "stdout",
     "output_type": "stream",
     "text": [
      "root\n",
      " |-- order_id: integer (nullable = true)\n",
      " |-- order_date: string (nullable = true)\n",
      " |-- customer_id: integer (nullable = true)\n",
      " |-- order_status: string (nullable = true)\n",
      "\n"
     ]
    }
   ],
   "source": [
    "orders.printSchema()"
   ]
  },
  {
   "cell_type": "code",
   "execution_count": 17,
   "metadata": {},
   "outputs": [
    {
     "name": "stdout",
     "output_type": "stream",
     "text": [
      "+--------+---------------------+-----------+---------------+\n",
      "|order_id|order_date           |customer_id|order_status   |\n",
      "+--------+---------------------+-----------+---------------+\n",
      "|1       |2013-07-25 00:00:00.0|11599      |CLOSED         |\n",
      "|2       |2013-07-25 00:00:00.0|256        |PENDING_PAYMENT|\n",
      "|3       |2013-07-25 00:00:00.0|12111      |COMPLETE       |\n",
      "|4       |2013-07-25 00:00:00.0|8827       |CLOSED         |\n",
      "|5       |2013-07-25 00:00:00.0|11318      |COMPLETE       |\n",
      "|6       |2013-07-25 00:00:00.0|7130       |COMPLETE       |\n",
      "|7       |2013-07-25 00:00:00.0|4530       |COMPLETE       |\n",
      "|8       |2013-07-25 00:00:00.0|2911       |PROCESSING     |\n",
      "|9       |2013-07-25 00:00:00.0|5657       |PENDING_PAYMENT|\n",
      "|10      |2013-07-25 00:00:00.0|5648       |PENDING_PAYMENT|\n",
      "+--------+---------------------+-----------+---------------+\n",
      "only showing top 10 rows\n",
      "\n"
     ]
    }
   ],
   "source": [
    "orders.show(10,False) "
   ]
  },
  {
   "cell_type": "code",
   "execution_count": 18,
   "metadata": {},
   "outputs": [],
   "source": [
    "orderItemsCsv = spark.read.csv('/user/pi/retail_db/order_items').toDF('order_item_id','order_item_order_id','order_item_product_id','order_item_quantity_id','order_item_subtotal','order_item_product_price')"
   ]
  },
  {
   "cell_type": "code",
   "execution_count": 19,
   "metadata": {},
   "outputs": [
    {
     "name": "stdout",
     "output_type": "stream",
     "text": [
      "root\n",
      " |-- order_item_id: string (nullable = true)\n",
      " |-- order_item_order_id: string (nullable = true)\n",
      " |-- order_item_product_id: string (nullable = true)\n",
      " |-- order_item_quantity_id: string (nullable = true)\n",
      " |-- order_item_subtotal: string (nullable = true)\n",
      " |-- order_item_product_price: string (nullable = true)\n",
      "\n"
     ]
    }
   ],
   "source": [
    "orderItemsCsv.printSchema()"
   ]
  },
  {
   "cell_type": "code",
   "execution_count": 20,
   "metadata": {},
   "outputs": [],
   "source": [
    "from pyspark.sql.types import IntegerType,FloatType\n",
    "orderItems=orderItemsCsv.withColumn('order_item_id',orderItemsCsv.order_item_id.cast(IntegerType())) \\\n",
    "                        .withColumn('order_item_order_id',orderItemsCsv.order_item_order_id.cast(IntegerType())) \\\n",
    "                        .withColumn('order_item_product_id',orderItemsCsv.order_item_product_id.cast(IntegerType())) \\\n",
    "                        .withColumn('order_item_quantity_id',orderItemsCsv.order_item_quantity_id.cast(IntegerType())) \\\n",
    "                        .withColumn('order_item_subtotal',orderItemsCsv.order_item_subtotal.cast(FloatType())) \\\n",
    "                        .withColumn('order_item_product_price',orderItemsCsv.order_item_product_price.cast(FloatType()))"
   ]
  },
  {
   "cell_type": "code",
   "execution_count": 21,
   "metadata": {},
   "outputs": [
    {
     "name": "stdout",
     "output_type": "stream",
     "text": [
      "root\n",
      " |-- order_item_id: integer (nullable = true)\n",
      " |-- order_item_order_id: integer (nullable = true)\n",
      " |-- order_item_product_id: integer (nullable = true)\n",
      " |-- order_item_quantity_id: integer (nullable = true)\n",
      " |-- order_item_subtotal: float (nullable = true)\n",
      " |-- order_item_product_price: float (nullable = true)\n",
      "\n"
     ]
    }
   ],
   "source": [
    "orderItems.printSchema()"
   ]
  },
  {
   "cell_type": "code",
   "execution_count": 22,
   "metadata": {},
   "outputs": [
    {
     "name": "stdout",
     "output_type": "stream",
     "text": [
      "+-------------+-------------------+---------------------+----------------------+-------------------+------------------------+\n",
      "|order_item_id|order_item_order_id|order_item_product_id|order_item_quantity_id|order_item_subtotal|order_item_product_price|\n",
      "+-------------+-------------------+---------------------+----------------------+-------------------+------------------------+\n",
      "|1            |1                  |957                  |1                     |299.98             |299.98                  |\n",
      "|2            |2                  |1073                 |1                     |199.99             |199.99                  |\n",
      "|3            |2                  |502                  |5                     |250.0              |50.0                    |\n",
      "|4            |2                  |403                  |1                     |129.99             |129.99                  |\n",
      "|5            |4                  |897                  |2                     |49.98              |24.99                   |\n",
      "|6            |4                  |365                  |5                     |299.95             |59.99                   |\n",
      "|7            |4                  |502                  |3                     |150.0              |50.0                    |\n",
      "|8            |4                  |1014                 |4                     |199.92             |49.98                   |\n",
      "|9            |5                  |957                  |1                     |299.98             |299.98                  |\n",
      "|10           |5                  |365                  |5                     |299.95             |59.99                   |\n",
      "+-------------+-------------------+---------------------+----------------------+-------------------+------------------------+\n",
      "only showing top 10 rows\n",
      "\n"
     ]
    }
   ],
   "source": [
    "orderItems.show(10,False)"
   ]
  },
  {
   "cell_type": "markdown",
   "metadata": {},
   "source": [
    "### Selection or Projection of Data in Data Frames"
   ]
  },
  {
   "cell_type": "markdown",
   "metadata": {},
   "source": [
    "*We can Either use select,withColumn or selectExpr to project the data*\n",
    "\n",
    " * Wecan use select and fetch data from the fields we are looking for\n",
    " * Both order and orderItems are of type DAtaFrame.We will able to access attributes by prefexing data frame name eg.orders.order_id and orderItems.ordeR_item_id).Also we can pass attributes name as strings\n",
    "\n",
    "***\n",
    "\n",
    "orders.select(orders.order_id,orders.order_date) or\n",
    "orders.select('order_id','order_date')\n",
    "\n",
    "***\n",
    "\n",
    " * We can apply necessary functions to manipulate data while it is being projected.\n",
    "\n",
    "***\n",
    "\n",
    "orders.select(substring('order_date',1,7)).show()\n",
    "\n",
    "***\n",
    "\n",
    " * We can give alias to derived fieldsusing alias function\n",
    "\n",
    "***\n",
    "\n",
    "orders.select(substring('order_date',1,7).alias('order_month')).show()"
   ]
  },
  {
   "cell_type": "code",
   "execution_count": 23,
   "metadata": {},
   "outputs": [
    {
     "data": {
      "text/plain": [
       "DataFrame[order_id: int, order_date: string, customer_id: int, order_status: string]"
      ]
     },
     "execution_count": 23,
     "metadata": {},
     "output_type": "execute_result"
    }
   ],
   "source": [
    "orders"
   ]
  },
  {
   "cell_type": "code",
   "execution_count": 24,
   "metadata": {},
   "outputs": [
    {
     "data": {
      "text/plain": [
       "DataFrame[order_item_id: int, order_item_order_id: int, order_item_product_id: int, order_item_quantity_id: int, order_item_subtotal: float, order_item_product_price: float]"
      ]
     },
     "execution_count": 24,
     "metadata": {},
     "output_type": "execute_result"
    }
   ],
   "source": [
    "orderItems"
   ]
  },
  {
   "cell_type": "markdown",
   "metadata": {},
   "source": [
    "#### select()"
   ]
  },
  {
   "cell_type": "code",
   "execution_count": 25,
   "metadata": {},
   "outputs": [
    {
     "name": "stdout",
     "output_type": "stream",
     "text": [
      "+--------+---------------------+\n",
      "|order_id|order_date           |\n",
      "+--------+---------------------+\n",
      "|1       |2013-07-25 00:00:00.0|\n",
      "|2       |2013-07-25 00:00:00.0|\n",
      "|3       |2013-07-25 00:00:00.0|\n",
      "|4       |2013-07-25 00:00:00.0|\n",
      "|5       |2013-07-25 00:00:00.0|\n",
      "|6       |2013-07-25 00:00:00.0|\n",
      "|7       |2013-07-25 00:00:00.0|\n",
      "|8       |2013-07-25 00:00:00.0|\n",
      "|9       |2013-07-25 00:00:00.0|\n",
      "|10      |2013-07-25 00:00:00.0|\n",
      "+--------+---------------------+\n",
      "only showing top 10 rows\n",
      "\n"
     ]
    }
   ],
   "source": [
    "#select coumn using dataframe dot column name\n",
    "orders.select(orders.order_id,orders.order_date).show(10,False)"
   ]
  },
  {
   "cell_type": "code",
   "execution_count": 26,
   "metadata": {},
   "outputs": [
    {
     "name": "stdout",
     "output_type": "stream",
     "text": [
      "+--------+---------------------+\n",
      "|order_id|order_date           |\n",
      "+--------+---------------------+\n",
      "|1       |2013-07-25 00:00:00.0|\n",
      "|2       |2013-07-25 00:00:00.0|\n",
      "|3       |2013-07-25 00:00:00.0|\n",
      "|4       |2013-07-25 00:00:00.0|\n",
      "|5       |2013-07-25 00:00:00.0|\n",
      "|6       |2013-07-25 00:00:00.0|\n",
      "|7       |2013-07-25 00:00:00.0|\n",
      "|8       |2013-07-25 00:00:00.0|\n",
      "|9       |2013-07-25 00:00:00.0|\n",
      "|10      |2013-07-25 00:00:00.0|\n",
      "+--------+---------------------+\n",
      "only showing top 10 rows\n",
      "\n"
     ]
    }
   ],
   "source": [
    "#select coumn using single quotes\n",
    "orders.select('order_id','order_date').show(10,False)"
   ]
  },
  {
   "cell_type": "code",
   "execution_count": 27,
   "metadata": {},
   "outputs": [
    {
     "name": "stdout",
     "output_type": "stream",
     "text": [
      "+---------------------------+\n",
      "|substring(order_date, 1, 7)|\n",
      "+---------------------------+\n",
      "|2013-07                    |\n",
      "|2013-07                    |\n",
      "|2013-07                    |\n",
      "|2013-07                    |\n",
      "|2013-07                    |\n",
      "|2013-07                    |\n",
      "|2013-07                    |\n",
      "|2013-07                    |\n",
      "|2013-07                    |\n",
      "|2013-07                    |\n",
      "+---------------------------+\n",
      "only showing top 10 rows\n",
      "\n"
     ]
    }
   ],
   "source": [
    "#apply functions\n",
    "from pyspark.sql.functions import substring\n",
    "orders.select(substring('order_date',1,7)).show(10,False)"
   ]
  },
  {
   "cell_type": "code",
   "execution_count": 28,
   "metadata": {},
   "outputs": [
    {
     "name": "stdout",
     "output_type": "stream",
     "text": [
      "+-----------+\n",
      "|order_month|\n",
      "+-----------+\n",
      "|2013-07    |\n",
      "|2013-07    |\n",
      "|2013-07    |\n",
      "|2013-07    |\n",
      "|2013-07    |\n",
      "|2013-07    |\n",
      "|2013-07    |\n",
      "|2013-07    |\n",
      "|2013-07    |\n",
      "|2013-07    |\n",
      "+-----------+\n",
      "only showing top 10 rows\n",
      "\n"
     ]
    }
   ],
   "source": [
    "#with alias\n",
    "orders.select(substring('order_date',1,7).alias('order_month')).show(10,False)"
   ]
  },
  {
   "cell_type": "code",
   "execution_count": 29,
   "metadata": {},
   "outputs": [
    {
     "name": "stdout",
     "output_type": "stream",
     "text": [
      "+--------+---------------------+-----------+---------------+-----------+\n",
      "|order_id|order_date           |customer_id|order_status   |order_month|\n",
      "+--------+---------------------+-----------+---------------+-----------+\n",
      "|1       |2013-07-25 00:00:00.0|11599      |CLOSED         |2013-07    |\n",
      "|2       |2013-07-25 00:00:00.0|256        |PENDING_PAYMENT|2013-07    |\n",
      "|3       |2013-07-25 00:00:00.0|12111      |COMPLETE       |2013-07    |\n",
      "|4       |2013-07-25 00:00:00.0|8827       |CLOSED         |2013-07    |\n",
      "|5       |2013-07-25 00:00:00.0|11318      |COMPLETE       |2013-07    |\n",
      "|6       |2013-07-25 00:00:00.0|7130       |COMPLETE       |2013-07    |\n",
      "|7       |2013-07-25 00:00:00.0|4530       |COMPLETE       |2013-07    |\n",
      "|8       |2013-07-25 00:00:00.0|2911       |PROCESSING     |2013-07    |\n",
      "|9       |2013-07-25 00:00:00.0|5657       |PENDING_PAYMENT|2013-07    |\n",
      "|10      |2013-07-25 00:00:00.0|5648       |PENDING_PAYMENT|2013-07    |\n",
      "+--------+---------------------+-----------+---------------+-----------+\n",
      "only showing top 10 rows\n",
      "\n"
     ]
    }
   ],
   "source": [
    "#if we want to select all coumns ,using select we need to mentioned all with derived columns\n",
    "#with alias\n",
    "orders.select('order_id','order_date','customer_id','order_status',substring('order_date',1,7).alias('order_month')).show(10,False)"
   ]
  },
  {
   "cell_type": "markdown",
   "metadata": {},
   "source": [
    "#### withColumn()\n",
    "\n",
    "- using with column we dont need to specifically mention all column in Dataframe"
   ]
  },
  {
   "cell_type": "code",
   "execution_count": 30,
   "metadata": {},
   "outputs": [
    {
     "name": "stdout",
     "output_type": "stream",
     "text": [
      "+--------+---------------------+-----------+---------------+-----------+\n",
      "|order_id|order_date           |customer_id|order_status   |order_month|\n",
      "+--------+---------------------+-----------+---------------+-----------+\n",
      "|1       |2013-07-25 00:00:00.0|11599      |CLOSED         |2013-07    |\n",
      "|2       |2013-07-25 00:00:00.0|256        |PENDING_PAYMENT|2013-07    |\n",
      "|3       |2013-07-25 00:00:00.0|12111      |COMPLETE       |2013-07    |\n",
      "|4       |2013-07-25 00:00:00.0|8827       |CLOSED         |2013-07    |\n",
      "|5       |2013-07-25 00:00:00.0|11318      |COMPLETE       |2013-07    |\n",
      "|6       |2013-07-25 00:00:00.0|7130       |COMPLETE       |2013-07    |\n",
      "|7       |2013-07-25 00:00:00.0|4530       |COMPLETE       |2013-07    |\n",
      "|8       |2013-07-25 00:00:00.0|2911       |PROCESSING     |2013-07    |\n",
      "|9       |2013-07-25 00:00:00.0|5657       |PENDING_PAYMENT|2013-07    |\n",
      "|10      |2013-07-25 00:00:00.0|5648       |PENDING_PAYMENT|2013-07    |\n",
      "+--------+---------------------+-----------+---------------+-----------+\n",
      "only showing top 10 rows\n",
      "\n"
     ]
    }
   ],
   "source": [
    "\n",
    "orders.withColumn('order_month',substring('order_date',1,7)).show(10,False)"
   ]
  },
  {
   "cell_type": "markdown",
   "metadata": {},
   "source": [
    " - so all column along with addition column will be part of new dataframe.\n",
    " - if column name mentioned in alias is same as exisitng column,then exisitng column will be replaced."
   ]
  },
  {
   "cell_type": "code",
   "execution_count": 31,
   "metadata": {},
   "outputs": [
    {
     "name": "stdout",
     "output_type": "stream",
     "text": [
      "+--------+----------+-----------+---------------+\n",
      "|order_id|order_date|customer_id|order_status   |\n",
      "+--------+----------+-----------+---------------+\n",
      "|1       |2013-07   |11599      |CLOSED         |\n",
      "|2       |2013-07   |256        |PENDING_PAYMENT|\n",
      "|3       |2013-07   |12111      |COMPLETE       |\n",
      "|4       |2013-07   |8827       |CLOSED         |\n",
      "|5       |2013-07   |11318      |COMPLETE       |\n",
      "|6       |2013-07   |7130       |COMPLETE       |\n",
      "|7       |2013-07   |4530       |COMPLETE       |\n",
      "|8       |2013-07   |2911       |PROCESSING     |\n",
      "|9       |2013-07   |5657       |PENDING_PAYMENT|\n",
      "|10      |2013-07   |5648       |PENDING_PAYMENT|\n",
      "+--------+----------+-----------+---------------+\n",
      "only showing top 10 rows\n",
      "\n"
     ]
    }
   ],
   "source": [
    "orders.withColumn('order_date',substring('order_date',1,7)).show(10,False)"
   ]
  },
  {
   "cell_type": "markdown",
   "metadata": {},
   "source": [
    "#### drop()"
   ]
  },
  {
   "cell_type": "markdown",
   "metadata": {},
   "source": [
    " - using drop new datframe is created without column mentioned in drop\n",
    " - there will not be any change in exisitng dataframe"
   ]
  },
  {
   "cell_type": "code",
   "execution_count": 32,
   "metadata": {},
   "outputs": [],
   "source": [
    "orders_new = orders.drop('customer_id')"
   ]
  },
  {
   "cell_type": "code",
   "execution_count": 33,
   "metadata": {},
   "outputs": [
    {
     "name": "stdout",
     "output_type": "stream",
     "text": [
      "+--------+---------------------+---------------+\n",
      "|order_id|order_date           |order_status   |\n",
      "+--------+---------------------+---------------+\n",
      "|1       |2013-07-25 00:00:00.0|CLOSED         |\n",
      "|2       |2013-07-25 00:00:00.0|PENDING_PAYMENT|\n",
      "|3       |2013-07-25 00:00:00.0|COMPLETE       |\n",
      "|4       |2013-07-25 00:00:00.0|CLOSED         |\n",
      "|5       |2013-07-25 00:00:00.0|COMPLETE       |\n",
      "|6       |2013-07-25 00:00:00.0|COMPLETE       |\n",
      "|7       |2013-07-25 00:00:00.0|COMPLETE       |\n",
      "|8       |2013-07-25 00:00:00.0|PROCESSING     |\n",
      "|9       |2013-07-25 00:00:00.0|PENDING_PAYMENT|\n",
      "|10      |2013-07-25 00:00:00.0|PENDING_PAYMENT|\n",
      "+--------+---------------------+---------------+\n",
      "only showing top 10 rows\n",
      "\n"
     ]
    }
   ],
   "source": [
    "orders_new.show(10,False)"
   ]
  },
  {
   "cell_type": "code",
   "execution_count": 34,
   "metadata": {},
   "outputs": [
    {
     "name": "stdout",
     "output_type": "stream",
     "text": [
      "+--------+---------------------+-----------+---------------+\n",
      "|order_id|order_date           |customer_id|order_status   |\n",
      "+--------+---------------------+-----------+---------------+\n",
      "|1       |2013-07-25 00:00:00.0|11599      |CLOSED         |\n",
      "|2       |2013-07-25 00:00:00.0|256        |PENDING_PAYMENT|\n",
      "|3       |2013-07-25 00:00:00.0|12111      |COMPLETE       |\n",
      "|4       |2013-07-25 00:00:00.0|8827       |CLOSED         |\n",
      "|5       |2013-07-25 00:00:00.0|11318      |COMPLETE       |\n",
      "|6       |2013-07-25 00:00:00.0|7130       |COMPLETE       |\n",
      "|7       |2013-07-25 00:00:00.0|4530       |COMPLETE       |\n",
      "|8       |2013-07-25 00:00:00.0|2911       |PROCESSING     |\n",
      "|9       |2013-07-25 00:00:00.0|5657       |PENDING_PAYMENT|\n",
      "|10      |2013-07-25 00:00:00.0|5648       |PENDING_PAYMENT|\n",
      "+--------+---------------------+-----------+---------------+\n",
      "only showing top 10 rows\n",
      "\n"
     ]
    }
   ],
   "source": [
    "orders.show(10,False)"
   ]
  },
  {
   "cell_type": "markdown",
   "metadata": {},
   "source": [
    "#### selectExpr()\n",
    " - using this we can mentioned hive functions instead of dataframe functions"
   ]
  },
  {
   "cell_type": "code",
   "execution_count": 35,
   "metadata": {},
   "outputs": [
    {
     "name": "stdout",
     "output_type": "stream",
     "text": [
      "+--------+-----------+\n",
      "|order_id|order_month|\n",
      "+--------+-----------+\n",
      "|       1|    2013-07|\n",
      "|       2|    2013-07|\n",
      "|       3|    2013-07|\n",
      "|       4|    2013-07|\n",
      "|       5|    2013-07|\n",
      "|       6|    2013-07|\n",
      "|       7|    2013-07|\n",
      "|       8|    2013-07|\n",
      "|       9|    2013-07|\n",
      "|      10|    2013-07|\n",
      "|      11|    2013-07|\n",
      "|      12|    2013-07|\n",
      "|      13|    2013-07|\n",
      "|      14|    2013-07|\n",
      "|      15|    2013-07|\n",
      "|      16|    2013-07|\n",
      "|      17|    2013-07|\n",
      "|      18|    2013-07|\n",
      "|      19|    2013-07|\n",
      "|      20|    2013-07|\n",
      "+--------+-----------+\n",
      "only showing top 20 rows\n",
      "\n"
     ]
    }
   ],
   "source": [
    "orders.selectExpr('order_id','substring(order_date,1,7) as order_month').show()"
   ]
  },
  {
   "cell_type": "code",
   "execution_count": 36,
   "metadata": {},
   "outputs": [
    {
     "name": "stdout",
     "output_type": "stream",
     "text": [
      "+--------+-----------+\n",
      "|order_id|order_month|\n",
      "+--------+-----------+\n",
      "|       1|    2013-07|\n",
      "|       2|    2013-07|\n",
      "|       3|    2013-07|\n",
      "|       4|    2013-07|\n",
      "|       5|    2013-07|\n",
      "|       6|    2013-07|\n",
      "|       7|    2013-07|\n",
      "|       8|    2013-07|\n",
      "|       9|    2013-07|\n",
      "|      10|    2013-07|\n",
      "|      11|    2013-07|\n",
      "|      12|    2013-07|\n",
      "|      13|    2013-07|\n",
      "|      14|    2013-07|\n",
      "|      15|    2013-07|\n",
      "|      16|    2013-07|\n",
      "|      17|    2013-07|\n",
      "|      18|    2013-07|\n",
      "|      19|    2013-07|\n",
      "|      20|    2013-07|\n",
      "+--------+-----------+\n",
      "only showing top 20 rows\n",
      "\n"
     ]
    }
   ],
   "source": [
    "orders.select('order_id',substring('order_date',1,7).alias('order_month')).show()"
   ]
  },
  {
   "cell_type": "markdown",
   "metadata": {},
   "source": [
    "### Filtering Data from Data Frames"
   ]
  },
  {
   "cell_type": "markdown",
   "metadata": {},
   "source": [
    "*Data Frame has 2 APIs to filter the data,where and filter. They are just synonyms and you can use either of them for filtering.*\n",
    " - You can use a filter or where using 2 overloaded functions. \n",
    " - One takes SQL style syntax and other takes Data Frame Native style syntax. \n",
    " - One by using class.attributeName and comparing with values \n",
    "***\n",
    "\n",
    " e.g.: *orders.where(orders.order status == 'COMPLETE').show()*\n",
    "\n",
    "***\n",
    " - Other by passing conditions as literals\n",
    "***\n",
    "\n",
    " e. g.: *orders.where('order status = \"COMPLETE\"').show()*\n",
    "\n",
    "***\n",
    " - Make sure both orders and orderltems data frames are created \n",
    " - Let us see a few more examples \n",
    "\t* Get orders which are either COMPLETE or CLOSED \n",
    "\t* Get orders which are either COMPLETE or CLOSED and placed in the month of 2013 August \n",
    "\t* Get order items where order item subtotal is not equal to the product of order_item_quantity and order_item_product_price \n",
    "\t* Get all the orders which are placed on first of every month \n"
   ]
  },
  {
   "cell_type": "markdown",
   "metadata": {},
   "source": [
    "#### Get orders which are either COMPLETE or CLOSED"
   ]
  },
  {
   "cell_type": "code",
   "execution_count": 37,
   "metadata": {},
   "outputs": [
    {
     "name": "stdout",
     "output_type": "stream",
     "text": [
      "+--------+---------------------+-----------+------------+\n",
      "|order_id|order_date           |customer_id|order_status|\n",
      "+--------+---------------------+-----------+------------+\n",
      "|1       |2013-07-25 00:00:00.0|11599      |CLOSED      |\n",
      "|4       |2013-07-25 00:00:00.0|8827       |CLOSED      |\n",
      "|12      |2013-07-25 00:00:00.0|1837       |CLOSED      |\n",
      "|18      |2013-07-25 00:00:00.0|1205       |CLOSED      |\n",
      "|24      |2013-07-25 00:00:00.0|11441      |CLOSED      |\n",
      "|25      |2013-07-25 00:00:00.0|9503       |CLOSED      |\n",
      "|37      |2013-07-25 00:00:00.0|5863       |CLOSED      |\n",
      "|51      |2013-07-25 00:00:00.0|12271      |CLOSED      |\n",
      "|57      |2013-07-25 00:00:00.0|7073       |CLOSED      |\n",
      "|61      |2013-07-25 00:00:00.0|4791       |CLOSED      |\n",
      "+--------+---------------------+-----------+------------+\n",
      "only showing top 10 rows\n",
      "\n"
     ]
    }
   ],
   "source": [
    "#Get orders which are either COMPLETE or CLOSED\n",
    "orders.filter(orders.order_status == 'CLOSED').show(10,False)"
   ]
  },
  {
   "cell_type": "code",
   "execution_count": 38,
   "metadata": {},
   "outputs": [
    {
     "name": "stdout",
     "output_type": "stream",
     "text": [
      "+--------+---------------------+-----------+------------+\n",
      "|order_id|order_date           |customer_id|order_status|\n",
      "+--------+---------------------+-----------+------------+\n",
      "|1       |2013-07-25 00:00:00.0|11599      |CLOSED      |\n",
      "|3       |2013-07-25 00:00:00.0|12111      |COMPLETE    |\n",
      "|4       |2013-07-25 00:00:00.0|8827       |CLOSED      |\n",
      "|5       |2013-07-25 00:00:00.0|11318      |COMPLETE    |\n",
      "|6       |2013-07-25 00:00:00.0|7130       |COMPLETE    |\n",
      "|7       |2013-07-25 00:00:00.0|4530       |COMPLETE    |\n",
      "|12      |2013-07-25 00:00:00.0|1837       |CLOSED      |\n",
      "|15      |2013-07-25 00:00:00.0|2568       |COMPLETE    |\n",
      "|17      |2013-07-25 00:00:00.0|2667       |COMPLETE    |\n",
      "|18      |2013-07-25 00:00:00.0|1205       |CLOSED      |\n",
      "+--------+---------------------+-----------+------------+\n",
      "only showing top 10 rows\n",
      "\n"
     ]
    }
   ],
   "source": [
    "orders.filter((orders.order_status == 'CLOSED') | (orders.order_status == 'COMPLETE')).show(10,False)"
   ]
  },
  {
   "cell_type": "code",
   "execution_count": 39,
   "metadata": {},
   "outputs": [
    {
     "name": "stdout",
     "output_type": "stream",
     "text": [
      "+--------+---------------------+-----------+------------+\n",
      "|order_id|order_date           |customer_id|order_status|\n",
      "+--------+---------------------+-----------+------------+\n",
      "|1       |2013-07-25 00:00:00.0|11599      |CLOSED      |\n",
      "|3       |2013-07-25 00:00:00.0|12111      |COMPLETE    |\n",
      "|4       |2013-07-25 00:00:00.0|8827       |CLOSED      |\n",
      "|5       |2013-07-25 00:00:00.0|11318      |COMPLETE    |\n",
      "|6       |2013-07-25 00:00:00.0|7130       |COMPLETE    |\n",
      "|7       |2013-07-25 00:00:00.0|4530       |COMPLETE    |\n",
      "|12      |2013-07-25 00:00:00.0|1837       |CLOSED      |\n",
      "|15      |2013-07-25 00:00:00.0|2568       |COMPLETE    |\n",
      "|17      |2013-07-25 00:00:00.0|2667       |COMPLETE    |\n",
      "|18      |2013-07-25 00:00:00.0|1205       |CLOSED      |\n",
      "+--------+---------------------+-----------+------------+\n",
      "only showing top 10 rows\n",
      "\n"
     ]
    }
   ],
   "source": [
    "orders.filter(orders.order_status.isin('CLOSED','COMPLETE')).show(10,False)"
   ]
  },
  {
   "cell_type": "code",
   "execution_count": 40,
   "metadata": {},
   "outputs": [],
   "source": [
    "#sql based syntax"
   ]
  },
  {
   "cell_type": "code",
   "execution_count": 41,
   "metadata": {},
   "outputs": [
    {
     "name": "stdout",
     "output_type": "stream",
     "text": [
      "+--------+---------------------+-----------+------------+\n",
      "|order_id|order_date           |customer_id|order_status|\n",
      "+--------+---------------------+-----------+------------+\n",
      "|1       |2013-07-25 00:00:00.0|11599      |CLOSED      |\n",
      "|3       |2013-07-25 00:00:00.0|12111      |COMPLETE    |\n",
      "|4       |2013-07-25 00:00:00.0|8827       |CLOSED      |\n",
      "|5       |2013-07-25 00:00:00.0|11318      |COMPLETE    |\n",
      "|6       |2013-07-25 00:00:00.0|7130       |COMPLETE    |\n",
      "|7       |2013-07-25 00:00:00.0|4530       |COMPLETE    |\n",
      "|12      |2013-07-25 00:00:00.0|1837       |CLOSED      |\n",
      "|15      |2013-07-25 00:00:00.0|2568       |COMPLETE    |\n",
      "|17      |2013-07-25 00:00:00.0|2667       |COMPLETE    |\n",
      "|18      |2013-07-25 00:00:00.0|1205       |CLOSED      |\n",
      "+--------+---------------------+-----------+------------+\n",
      "only showing top 10 rows\n",
      "\n"
     ]
    }
   ],
   "source": [
    "orders.filter(\"order_status in ('CLOSED','COMPLETE')\").show(10,False)"
   ]
  },
  {
   "cell_type": "markdown",
   "metadata": {},
   "source": [
    "#### Get orders which are either COMPLETE or CLOSED and placed in the month of 2013 August"
   ]
  },
  {
   "cell_type": "code",
   "execution_count": 42,
   "metadata": {},
   "outputs": [
    {
     "name": "stdout",
     "output_type": "stream",
     "text": [
      "+--------+---------------------+-----------+------------+\n",
      "|order_id|order_date           |customer_id|order_status|\n",
      "+--------+---------------------+-----------+------------+\n",
      "|1297    |2013-08-01 00:00:00.0|11607      |COMPLETE    |\n",
      "|1298    |2013-08-01 00:00:00.0|5105       |CLOSED      |\n",
      "|1299    |2013-08-01 00:00:00.0|7802       |COMPLETE    |\n",
      "|1302    |2013-08-01 00:00:00.0|1695       |COMPLETE    |\n",
      "|1304    |2013-08-01 00:00:00.0|2059       |COMPLETE    |\n",
      "|1305    |2013-08-01 00:00:00.0|3844       |COMPLETE    |\n",
      "|1307    |2013-08-01 00:00:00.0|4474       |COMPLETE    |\n",
      "|1309    |2013-08-01 00:00:00.0|2367       |CLOSED      |\n",
      "|1312    |2013-08-01 00:00:00.0|12291      |COMPLETE    |\n",
      "|1314    |2013-08-01 00:00:00.0|10993      |COMPLETE    |\n",
      "+--------+---------------------+-----------+------------+\n",
      "only showing top 10 rows\n",
      "\n"
     ]
    }
   ],
   "source": [
    "#Get orders which are either COMPLETE or CLOSED and placed in the month of 2013 August\n",
    "orders.filter((orders.order_status.isin('CLOSED','COMPLETE')) & (orders.order_date.like('2013-08%'))).show(10,False)"
   ]
  },
  {
   "cell_type": "code",
   "execution_count": 43,
   "metadata": {},
   "outputs": [
    {
     "name": "stdout",
     "output_type": "stream",
     "text": [
      "+--------+---------------------+-----------+------------+\n",
      "|order_id|order_date           |customer_id|order_status|\n",
      "+--------+---------------------+-----------+------------+\n",
      "|1297    |2013-08-01 00:00:00.0|11607      |COMPLETE    |\n",
      "|1298    |2013-08-01 00:00:00.0|5105       |CLOSED      |\n",
      "|1299    |2013-08-01 00:00:00.0|7802       |COMPLETE    |\n",
      "|1302    |2013-08-01 00:00:00.0|1695       |COMPLETE    |\n",
      "|1304    |2013-08-01 00:00:00.0|2059       |COMPLETE    |\n",
      "|1305    |2013-08-01 00:00:00.0|3844       |COMPLETE    |\n",
      "|1307    |2013-08-01 00:00:00.0|4474       |COMPLETE    |\n",
      "|1309    |2013-08-01 00:00:00.0|2367       |CLOSED      |\n",
      "|1312    |2013-08-01 00:00:00.0|12291      |COMPLETE    |\n",
      "|1314    |2013-08-01 00:00:00.0|10993      |COMPLETE    |\n",
      "+--------+---------------------+-----------+------------+\n",
      "only showing top 10 rows\n",
      "\n"
     ]
    }
   ],
   "source": [
    "#sql format\n",
    "orders.filter(\"order_status in ('CLOSED','COMPLETE') and order_date like '2013-08%'\").show(10,False)"
   ]
  },
  {
   "cell_type": "markdown",
   "metadata": {},
   "source": [
    "#### Get order items where order item subtotal is not equal to the product of order_item_quantity and order_item_product_price"
   ]
  },
  {
   "cell_type": "code",
   "execution_count": 44,
   "metadata": {},
   "outputs": [
    {
     "name": "stdout",
     "output_type": "stream",
     "text": [
      "+-------------+-------------------+---------------------+----------------------+-------------------+------------------------+\n",
      "|order_item_id|order_item_order_id|order_item_product_id|order_item_quantity_id|order_item_subtotal|order_item_product_price|\n",
      "+-------------+-------------------+---------------------+----------------------+-------------------+------------------------+\n",
      "|1            |1                  |957                  |1                     |299.98             |299.98                  |\n",
      "|2            |2                  |1073                 |1                     |199.99             |199.99                  |\n",
      "|3            |2                  |502                  |5                     |250.0              |50.0                    |\n",
      "|4            |2                  |403                  |1                     |129.99             |129.99                  |\n",
      "|5            |4                  |897                  |2                     |49.98              |24.99                   |\n",
      "|6            |4                  |365                  |5                     |299.95             |59.99                   |\n",
      "|7            |4                  |502                  |3                     |150.0              |50.0                    |\n",
      "|8            |4                  |1014                 |4                     |199.92             |49.98                   |\n",
      "|9            |5                  |957                  |1                     |299.98             |299.98                  |\n",
      "|10           |5                  |365                  |5                     |299.95             |59.99                   |\n",
      "+-------------+-------------------+---------------------+----------------------+-------------------+------------------------+\n",
      "only showing top 10 rows\n",
      "\n"
     ]
    }
   ],
   "source": [
    "orderItems.show(10,False)"
   ]
  },
  {
   "cell_type": "code",
   "execution_count": 45,
   "metadata": {},
   "outputs": [
    {
     "name": "stdout",
     "output_type": "stream",
     "text": [
      "+-------------------+----------------------+------------------------+\n",
      "|order_item_subtotal|order_item_quantity_id|order_item_product_price|\n",
      "+-------------------+----------------------+------------------------+\n",
      "|299.98             |1                     |299.98                  |\n",
      "|199.99             |1                     |199.99                  |\n",
      "|250.0              |5                     |50.0                    |\n",
      "|129.99             |1                     |129.99                  |\n",
      "|49.98              |2                     |24.99                   |\n",
      "|299.95             |5                     |59.99                   |\n",
      "|150.0              |3                     |50.0                    |\n",
      "|199.92             |4                     |49.98                   |\n",
      "|299.98             |1                     |299.98                  |\n",
      "|299.95             |5                     |59.99                   |\n",
      "+-------------------+----------------------+------------------------+\n",
      "only showing top 10 rows\n",
      "\n"
     ]
    }
   ],
   "source": [
    "orderItems.select('order_item_subtotal','order_item_quantity_id','order_item_product_price').show(10,False)"
   ]
  },
  {
   "cell_type": "code",
   "execution_count": 46,
   "metadata": {},
   "outputs": [
    {
     "name": "stdout",
     "output_type": "stream",
     "text": [
      "+-------------------+----------------------+------------------------+\n",
      "|order_item_subtotal|order_item_quantity_id|order_item_product_price|\n",
      "+-------------------+----------------------+------------------------+\n",
      "+-------------------+----------------------+------------------------+\n",
      "\n"
     ]
    }
   ],
   "source": [
    "from pyspark.sql.functions import round\n",
    "orderItems.select('order_item_subtotal','order_item_quantity_id','order_item_product_price'). \\\n",
    "            filter(orderItems.order_item_subtotal != round(orderItems.order_item_quantity_id * orderItems.order_item_product_price,2)). \\\n",
    "            show(10,False)"
   ]
  },
  {
   "cell_type": "markdown",
   "metadata": {},
   "source": [
    "#### Get all the orders which are placed on first of every month"
   ]
  },
  {
   "cell_type": "code",
   "execution_count": 47,
   "metadata": {},
   "outputs": [
    {
     "name": "stdout",
     "output_type": "stream",
     "text": [
      "+--------+---------------------+-----------+---------------+\n",
      "|order_id|order_date           |customer_id|order_status   |\n",
      "+--------+---------------------+-----------+---------------+\n",
      "|1297    |2013-08-01 00:00:00.0|11607      |COMPLETE       |\n",
      "|1298    |2013-08-01 00:00:00.0|5105       |CLOSED         |\n",
      "|1299    |2013-08-01 00:00:00.0|7802       |COMPLETE       |\n",
      "|1300    |2013-08-01 00:00:00.0|553        |PENDING_PAYMENT|\n",
      "|1301    |2013-08-01 00:00:00.0|1604       |PENDING_PAYMENT|\n",
      "|1302    |2013-08-01 00:00:00.0|1695       |COMPLETE       |\n",
      "|1303    |2013-08-01 00:00:00.0|7018       |PROCESSING     |\n",
      "|1304    |2013-08-01 00:00:00.0|2059       |COMPLETE       |\n",
      "|1305    |2013-08-01 00:00:00.0|3844       |COMPLETE       |\n",
      "|1306    |2013-08-01 00:00:00.0|11672      |PENDING_PAYMENT|\n",
      "+--------+---------------------+-----------+---------------+\n",
      "only showing top 10 rows\n",
      "\n"
     ]
    }
   ],
   "source": [
    "from pyspark.sql.functions import date_format\n",
    "orders.filter(date_format(orders.order_date,'dd')=='01').show(10,False)"
   ]
  },
  {
   "cell_type": "code",
   "execution_count": 48,
   "metadata": {},
   "outputs": [
    {
     "data": {
      "text/plain": [
       "12"
      ]
     },
     "execution_count": 48,
     "metadata": {},
     "output_type": "execute_result"
    }
   ],
   "source": [
    "orders.select('order_date').filter(date_format(orders.order_date,'dd')=='01').distinct().count()"
   ]
  },
  {
   "cell_type": "code",
   "execution_count": 49,
   "metadata": {},
   "outputs": [
    {
     "name": "stdout",
     "output_type": "stream",
     "text": [
      "+---------------------+---------------------+\n",
      "|min_order_date       |max_order_date       |\n",
      "+---------------------+---------------------+\n",
      "|2013-07-25 00:00:00.0|2014-07-24 00:00:00.0|\n",
      "+---------------------+---------------------+\n",
      "\n"
     ]
    }
   ],
   "source": [
    "from pyspark.sql.functions import max,min\n",
    "orders.select(min(orders.order_date).alias('min_order_date'),max(orders.order_date).alias('max_order_date')). \\\n",
    "        show(truncate=False)"
   ]
  },
  {
   "cell_type": "code",
   "execution_count": 50,
   "metadata": {},
   "outputs": [
    {
     "name": "stdout",
     "output_type": "stream",
     "text": [
      "+---------------------+---------------------+\n",
      "|min_order_date       |max_order_date       |\n",
      "+---------------------+---------------------+\n",
      "|2013-07-25 00:00:00.0|2014-07-24 00:00:00.0|\n",
      "+---------------------+---------------------+\n",
      "\n"
     ]
    }
   ],
   "source": [
    "orders.selectExpr(\"min(order_date) as min_order_date\",\"max(order_date) as max_order_date\").show(truncate=False)"
   ]
  },
  {
   "cell_type": "markdown",
   "metadata": {},
   "source": [
    "###  Joining multiple Data Frames\n",
    "\n",
    "*Dataframe has API called join to perform join operation*"
   ]
  },
  {
   "cell_type": "code",
   "execution_count": 51,
   "metadata": {},
   "outputs": [
    {
     "name": "stdout",
     "output_type": "stream",
     "text": [
      "Help on method join in module pyspark.sql.dataframe:\n",
      "\n",
      "join(other, on=None, how=None) method of pyspark.sql.dataframe.DataFrame instance\n",
      "    Joins with another :class:`DataFrame`, using the given join expression.\n",
      "    \n",
      "    :param other: Right side of the join\n",
      "    :param on: a string for the join column name, a list of column names,\n",
      "        a join expression (Column), or a list of Columns.\n",
      "        If `on` is a string or a list of strings indicating the name of the join column(s),\n",
      "        the column(s) must exist on both sides, and this performs an equi-join.\n",
      "    :param how: str, default ``inner``. Must be one of: ``inner``, ``cross``, ``outer``,\n",
      "        ``full``, ``full_outer``, ``left``, ``left_outer``, ``right``, ``right_outer``,\n",
      "        ``left_semi``, and ``left_anti``.\n",
      "    \n",
      "    The following performs a full outer join between ``df1`` and ``df2``.\n",
      "    \n",
      "    >>> df.join(df2, df.name == df2.name, 'outer').select(df.name, df2.height).collect()\n",
      "    [Row(name=None, height=80), Row(name='Bob', height=85), Row(name='Alice', height=None)]\n",
      "    \n",
      "    >>> df.join(df2, 'name', 'outer').select('name', 'height').collect()\n",
      "    [Row(name='Tom', height=80), Row(name='Bob', height=85), Row(name='Alice', height=None)]\n",
      "    \n",
      "    >>> cond = [df.name == df3.name, df.age == df3.age]\n",
      "    >>> df.join(df3, cond, 'outer').select(df.name, df3.age).collect()\n",
      "    [Row(name='Alice', age=2), Row(name='Bob', age=5)]\n",
      "    \n",
      "    >>> df.join(df2, 'name').select(df.name, df2.height).collect()\n",
      "    [Row(name='Bob', height=85)]\n",
      "    \n",
      "    >>> df.join(df4, ['name', 'age']).select(df.name, df.age).collect()\n",
      "    [Row(name='Bob', age=5)]\n",
      "    \n",
      "    .. versionadded:: 1.3\n",
      "\n"
     ]
    }
   ],
   "source": [
    "help(orders.join)"
   ]
  },
  {
   "cell_type": "markdown",
   "metadata": {},
   "source": [
    "#### Get all the order items corresponding to COMPLETE or CLOSED orders"
   ]
  },
  {
   "cell_type": "code",
   "execution_count": 52,
   "metadata": {},
   "outputs": [
    {
     "data": {
      "text/plain": [
       "DataFrame[order_id: int, order_date: string, customer_id: int, order_status: string]"
      ]
     },
     "execution_count": 52,
     "metadata": {},
     "output_type": "execute_result"
    }
   ],
   "source": [
    "orders"
   ]
  },
  {
   "cell_type": "code",
   "execution_count": 53,
   "metadata": {},
   "outputs": [
    {
     "data": {
      "text/plain": [
       "DataFrame[order_item_id: int, order_item_order_id: int, order_item_product_id: int, order_item_quantity_id: int, order_item_subtotal: float, order_item_product_price: float]"
      ]
     },
     "execution_count": 53,
     "metadata": {},
     "output_type": "execute_result"
    }
   ],
   "source": [
    "orderItems"
   ]
  },
  {
   "cell_type": "code",
   "execution_count": 54,
   "metadata": {},
   "outputs": [
    {
     "name": "stdout",
     "output_type": "stream",
     "text": [
      "+--------+--------------------+-----------+------------+-------------+-------------------+---------------------+----------------------+-------------------+------------------------+\n",
      "|order_id|          order_date|customer_id|order_status|order_item_id|order_item_order_id|order_item_product_id|order_item_quantity_id|order_item_subtotal|order_item_product_price|\n",
      "+--------+--------------------+-----------+------------+-------------+-------------------+---------------------+----------------------+-------------------+------------------------+\n",
      "|       1|2013-07-25 00:00:...|      11599|      CLOSED|            1|                  1|                  957|                     1|             299.98|                  299.98|\n",
      "|       4|2013-07-25 00:00:...|       8827|      CLOSED|            8|                  4|                 1014|                     4|             199.92|                   49.98|\n",
      "|       4|2013-07-25 00:00:...|       8827|      CLOSED|            7|                  4|                  502|                     3|              150.0|                    50.0|\n",
      "|       4|2013-07-25 00:00:...|       8827|      CLOSED|            6|                  4|                  365|                     5|             299.95|                   59.99|\n",
      "|       4|2013-07-25 00:00:...|       8827|      CLOSED|            5|                  4|                  897|                     2|              49.98|                   24.99|\n",
      "|       5|2013-07-25 00:00:...|      11318|    COMPLETE|           13|                  5|                  403|                     1|             129.99|                  129.99|\n",
      "|       5|2013-07-25 00:00:...|      11318|    COMPLETE|           12|                  5|                  957|                     1|             299.98|                  299.98|\n",
      "|       5|2013-07-25 00:00:...|      11318|    COMPLETE|           11|                  5|                 1014|                     2|              99.96|                   49.98|\n",
      "|       5|2013-07-25 00:00:...|      11318|    COMPLETE|           10|                  5|                  365|                     5|             299.95|                   59.99|\n",
      "|       5|2013-07-25 00:00:...|      11318|    COMPLETE|            9|                  5|                  957|                     1|             299.98|                  299.98|\n",
      "|       7|2013-07-25 00:00:...|       4530|    COMPLETE|           16|                  7|                  926|                     5|              79.95|                   15.99|\n",
      "|       7|2013-07-25 00:00:...|       4530|    COMPLETE|           15|                  7|                  957|                     1|             299.98|                  299.98|\n",
      "|       7|2013-07-25 00:00:...|       4530|    COMPLETE|           14|                  7|                 1073|                     1|             199.99|                  199.99|\n",
      "|      12|2013-07-25 00:00:...|       1837|      CLOSED|           38|                 12|                  502|                     5|              250.0|                    50.0|\n",
      "|      12|2013-07-25 00:00:...|       1837|      CLOSED|           37|                 12|                  191|                     5|             499.95|                   99.99|\n",
      "|      12|2013-07-25 00:00:...|       1837|      CLOSED|           36|                 12|                 1014|                     3|             149.94|                   49.98|\n",
      "|      12|2013-07-25 00:00:...|       1837|      CLOSED|           35|                 12|                  134|                     4|              100.0|                    25.0|\n",
      "|      12|2013-07-25 00:00:...|       1837|      CLOSED|           34|                 12|                  957|                     1|             299.98|                  299.98|\n",
      "|      15|2013-07-25 00:00:...|       2568|    COMPLETE|           47|                 15|                 1004|                     1|             399.98|                  399.98|\n",
      "|      15|2013-07-25 00:00:...|       2568|    COMPLETE|           46|                 15|                  365|                     3|             179.97|                   59.99|\n",
      "+--------+--------------------+-----------+------------+-------------+-------------------+---------------------+----------------------+-------------------+------------------------+\n",
      "only showing top 20 rows\n",
      "\n"
     ]
    }
   ],
   "source": [
    "orders.where(orders.order_status.isin('COMPLETE','CLOSED')). \\\n",
    "    join(orderItems,orders.order_id==orderItems.order_item_order_id,'inner'). \\\n",
    "    show()"
   ]
  },
  {
   "cell_type": "code",
   "execution_count": 55,
   "metadata": {},
   "outputs": [
    {
     "name": "stdout",
     "output_type": "stream",
     "text": [
      "orders: 68883\n",
      "orderItems: 172198\n",
      "InnerJoin 75408\n"
     ]
    }
   ],
   "source": [
    "print('orders:',orders.count())\n",
    "print('orderItems:',orderItems.count())\n",
    "print('InnerJoin',orders.where(orders.order_status.isin('COMPLETE','CLOSED')). \\\n",
    "    join(orderItems,orders.order_id==orderItems.order_item_order_id,'inner'). \\\n",
    "    count())"
   ]
  },
  {
   "cell_type": "code",
   "execution_count": 56,
   "metadata": {},
   "outputs": [
    {
     "data": {
      "text/plain": [
       "11452"
      ]
     },
     "execution_count": 56,
     "metadata": {},
     "output_type": "execute_result"
    }
   ],
   "source": [
    "#### Get all the orders where there are no corresponsing order_items\n",
    "orders.join(orderItems,orders.order_id==orderItems.order_item_order_id,'left'). \\\n",
    "       filter('order_item_order_id is null'). \\\n",
    "    count()"
   ]
  },
  {
   "cell_type": "code",
   "execution_count": 57,
   "metadata": {},
   "outputs": [
    {
     "data": {
      "text/plain": [
       "0"
      ]
     },
     "execution_count": 57,
     "metadata": {},
     "output_type": "execute_result"
    }
   ],
   "source": [
    "#### Check if there are any order_items where there is no corresponsing order in the orders data set\n",
    "orders.join(orderItems,orders.order_id==orderItems.order_item_order_id,'right'). \\\n",
    "       filter('order_item_order_id is null'). \\\n",
    "    count()"
   ]
  },
  {
   "cell_type": "markdown",
   "metadata": {},
   "source": [
    "### Perform Aggregations using Data Frames"
   ]
  },
  {
   "cell_type": "code",
   "execution_count": 58,
   "metadata": {},
   "outputs": [
    {
     "data": {
      "text/plain": [
       "DataFrame[order_id: int, order_date: string, customer_id: int, order_status: string]"
      ]
     },
     "execution_count": 58,
     "metadata": {},
     "output_type": "execute_result"
    }
   ],
   "source": [
    "orders"
   ]
  },
  {
   "cell_type": "code",
   "execution_count": 59,
   "metadata": {},
   "outputs": [
    {
     "data": {
      "text/plain": [
       "9"
      ]
     },
     "execution_count": 59,
     "metadata": {},
     "output_type": "execute_result"
    }
   ],
   "source": [
    "orders.select(orders.order_status).distinct().count()"
   ]
  },
  {
   "cell_type": "code",
   "execution_count": 60,
   "metadata": {},
   "outputs": [
    {
     "name": "stdout",
     "output_type": "stream",
     "text": [
      "+----------------------------+\n",
      "|count(DISTINCT order_status)|\n",
      "+----------------------------+\n",
      "|                           9|\n",
      "+----------------------------+\n",
      "\n"
     ]
    }
   ],
   "source": [
    "#better way is to do as below\n",
    "from pyspark.sql.functions import countDistinct\n",
    "orders.select(countDistinct('order_status')).show()"
   ]
  },
  {
   "cell_type": "code",
   "execution_count": 61,
   "metadata": {},
   "outputs": [
    {
     "name": "stdout",
     "output_type": "stream",
     "text": [
      "+----------------------------------+\n",
      "|round(sum(order_item_subtotal), 2)|\n",
      "+----------------------------------+\n",
      "|                            579.98|\n",
      "+----------------------------------+\n",
      "\n"
     ]
    }
   ],
   "source": [
    "#get revenue for order id 2\n",
    "from pyspark.sql.functions import sum\n",
    "orderItems.filter(orderItems.order_item_order_id==2).select(round(sum(orderItems.order_item_subtotal),2)).show()"
   ]
  },
  {
   "cell_type": "code",
   "execution_count": 62,
   "metadata": {},
   "outputs": [
    {
     "name": "stdout",
     "output_type": "stream",
     "text": [
      "+---------------+-----+\n",
      "|   order_status|count|\n",
      "+---------------+-----+\n",
      "|PENDING_PAYMENT|15030|\n",
      "|       COMPLETE|22899|\n",
      "|        ON_HOLD| 3798|\n",
      "| PAYMENT_REVIEW|  729|\n",
      "|     PROCESSING| 8275|\n",
      "|         CLOSED| 7556|\n",
      "|SUSPECTED_FRAUD| 1558|\n",
      "|        PENDING| 7610|\n",
      "|       CANCELED| 1428|\n",
      "+---------------+-----+\n",
      "\n"
     ]
    }
   ],
   "source": [
    "#Get count by status from order\n",
    "orders.groupby('order_status').count().show()"
   ]
  },
  {
   "cell_type": "code",
   "execution_count": 63,
   "metadata": {},
   "outputs": [
    {
     "data": {
      "text/plain": [
       "DataFrame[order_item_id: int, order_item_order_id: int, order_item_product_id: int, order_item_quantity_id: int, order_item_subtotal: float, order_item_product_price: float]"
      ]
     },
     "execution_count": 63,
     "metadata": {},
     "output_type": "execute_result"
    }
   ],
   "source": [
    "orderItems"
   ]
  },
  {
   "cell_type": "code",
   "execution_count": 64,
   "metadata": {},
   "outputs": [
    {
     "name": "stdout",
     "output_type": "stream",
     "text": [
      "+-------------------+-------------+\n",
      "|order_item_order_id|order_revenue|\n",
      "+-------------------+-------------+\n",
      "|                148|       479.99|\n",
      "|                463|       829.92|\n",
      "|                471|       169.98|\n",
      "|                496|       441.95|\n",
      "|               1088|       249.97|\n",
      "|               1580|       299.95|\n",
      "|               1591|       439.86|\n",
      "|               1645|      1509.79|\n",
      "|               2366|       299.97|\n",
      "|               2659|       724.91|\n",
      "|               2866|       569.96|\n",
      "|               3175|       209.97|\n",
      "|               3749|       143.97|\n",
      "|               3794|       299.95|\n",
      "|               3918|       829.93|\n",
      "|               3997|       579.95|\n",
      "|               4101|       129.99|\n",
      "|               4519|        79.98|\n",
      "|               4818|       399.98|\n",
      "|               4900|       179.97|\n",
      "+-------------------+-------------+\n",
      "only showing top 20 rows\n",
      "\n"
     ]
    }
   ],
   "source": [
    "#get revenue for each order id from order items\n",
    "orderItems.groupby('order_item_order_id').agg(round(sum('order_item_subtotal'),2).alias('order_revenue')).show()"
   ]
  },
  {
   "cell_type": "code",
   "execution_count": 65,
   "metadata": {},
   "outputs": [
    {
     "name": "stdout",
     "output_type": "stream",
     "text": [
      "+----------+---------------------+---------------+\n",
      "|order_date|order_item_product_id|DailyProductRev|\n",
      "+----------+---------------------+---------------+\n",
      "|2013-07-26|                   93|         124.95|\n",
      "|2013-07-30|                  810|          59.97|\n",
      "|2013-08-04|                  804|          59.97|\n",
      "|2013-08-06|                  823|         155.97|\n",
      "|2013-09-07|                  627|        4158.96|\n",
      "|2013-09-17|                  893|          24.99|\n",
      "|2013-09-30|                  565|           70.0|\n",
      "|2013-09-30|                  134|          200.0|\n",
      "|2013-10-04|                  565|          140.0|\n",
      "|2013-10-16|                  642|           60.0|\n",
      "|2013-10-20|                  793|          44.97|\n",
      "|2013-10-24|                  564|          120.0|\n",
      "|2013-10-28|                  235|         139.96|\n",
      "|2013-10-31|                  116|          89.98|\n",
      "|2013-11-01|                 1014|        8446.62|\n",
      "|2013-11-13|                  835|          95.97|\n",
      "|2013-11-14|                  728|          325.0|\n",
      "|2013-11-19|                  365|       10258.29|\n",
      "|2013-11-28|                  793|         179.88|\n",
      "|2013-12-03|                  403|       11049.15|\n",
      "+----------+---------------------+---------------+\n",
      "only showing top 20 rows\n",
      "\n"
     ]
    }
   ],
   "source": [
    "#get daily product revenue (order_date,order_item_product_id)\n",
    "orders.join(orderItems,orders.order_id==orderItems.order_item_order_id). \\\n",
    "    groupby(substring('order_date',1,10).alias('order_date'),'order_item_product_id'). \\\n",
    "    agg(round(sum('order_item_subtotal'),2). \\\n",
    "    alias('DailyProductRev')). \\\n",
    "    show()"
   ]
  },
  {
   "cell_type": "markdown",
   "metadata": {},
   "source": [
    "### Sorting Data in Data Frames\n",
    "\n",
    "* we can either use sort() or orderBy()"
   ]
  },
  {
   "cell_type": "code",
   "execution_count": 66,
   "metadata": {},
   "outputs": [
    {
     "name": "stdout",
     "output_type": "stream",
     "text": [
      "+--------+--------------------+-----------+------------+\n",
      "|order_id|          order_date|customer_id|order_status|\n",
      "+--------+--------------------+-----------+------------+\n",
      "|     527|2013-07-28 00:00:...|       5426|    CANCELED|\n",
      "|    1435|2013-08-01 00:00:...|       1879|    CANCELED|\n",
      "|     552|2013-07-28 00:00:...|       1445|    CANCELED|\n",
      "|     112|2013-07-26 00:00:...|       5375|    CANCELED|\n",
      "|     564|2013-07-28 00:00:...|       2216|    CANCELED|\n",
      "|     955|2013-07-30 00:00:...|       8117|    CANCELED|\n",
      "|    1383|2013-08-01 00:00:...|       1753|    CANCELED|\n",
      "|     962|2013-07-30 00:00:...|       9492|    CANCELED|\n",
      "|     607|2013-07-28 00:00:...|       6376|    CANCELED|\n",
      "|    1013|2013-07-30 00:00:...|       1903|    CANCELED|\n",
      "|     667|2013-07-28 00:00:...|       4726|    CANCELED|\n",
      "|    1169|2013-07-31 00:00:...|       3971|    CANCELED|\n",
      "|     717|2013-07-29 00:00:...|       8208|    CANCELED|\n",
      "|    1186|2013-07-31 00:00:...|      11947|    CANCELED|\n",
      "|     753|2013-07-29 00:00:...|       5094|    CANCELED|\n",
      "|    1190|2013-07-31 00:00:...|      12360|    CANCELED|\n",
      "|      50|2013-07-25 00:00:...|       5225|    CANCELED|\n",
      "|    1313|2013-08-01 00:00:...|       3471|    CANCELED|\n",
      "|     716|2013-07-29 00:00:...|       2581|    CANCELED|\n",
      "|    1365|2013-08-01 00:00:...|       8567|    CANCELED|\n",
      "+--------+--------------------+-----------+------------+\n",
      "only showing top 20 rows\n",
      "\n"
     ]
    }
   ],
   "source": [
    "#sort order by status\n",
    "orders.sort('order_status').show()"
   ]
  },
  {
   "cell_type": "code",
   "execution_count": 67,
   "metadata": {},
   "outputs": [
    {
     "name": "stdout",
     "output_type": "stream",
     "text": [
      "+--------+--------------------+-----------+------------+\n",
      "|order_id|          order_date|customer_id|order_status|\n",
      "+--------+--------------------+-----------+------------+\n",
      "|      50|2013-07-25 00:00:...|       5225|    CANCELED|\n",
      "|       1|2013-07-25 00:00:...|      11599|      CLOSED|\n",
      "|      12|2013-07-25 00:00:...|       1837|      CLOSED|\n",
      "|       4|2013-07-25 00:00:...|       8827|      CLOSED|\n",
      "|      37|2013-07-25 00:00:...|       5863|      CLOSED|\n",
      "|      18|2013-07-25 00:00:...|       1205|      CLOSED|\n",
      "|      24|2013-07-25 00:00:...|      11441|      CLOSED|\n",
      "|      25|2013-07-25 00:00:...|       9503|      CLOSED|\n",
      "|   57754|2013-07-25 00:00:...|       4648|      CLOSED|\n",
      "|      90|2013-07-25 00:00:...|       9131|      CLOSED|\n",
      "|      51|2013-07-25 00:00:...|      12271|      CLOSED|\n",
      "|      57|2013-07-25 00:00:...|       7073|      CLOSED|\n",
      "|      61|2013-07-25 00:00:...|       4791|      CLOSED|\n",
      "|      62|2013-07-25 00:00:...|       9111|      CLOSED|\n",
      "|      87|2013-07-25 00:00:...|       3065|      CLOSED|\n",
      "|     101|2013-07-25 00:00:...|       5116|      CLOSED|\n",
      "|   57766|2013-07-25 00:00:...|       2376|      CLOSED|\n",
      "|   57781|2013-07-25 00:00:...|       6143|      CLOSED|\n",
      "|   57782|2013-07-25 00:00:...|        284|      CLOSED|\n",
      "|   67416|2013-07-25 00:00:...|      10920|      CLOSED|\n",
      "+--------+--------------------+-----------+------------+\n",
      "only showing top 20 rows\n",
      "\n"
     ]
    }
   ],
   "source": [
    "#sort order by order date and then status\n",
    "orders.sort('order_date','order_status').show()"
   ]
  },
  {
   "cell_type": "code",
   "execution_count": 68,
   "metadata": {},
   "outputs": [
    {
     "name": "stdout",
     "output_type": "stream",
     "text": [
      "+-------------+-------------------+---------------------+----------------------+-------------------+------------------------+\n",
      "|order_item_id|order_item_order_id|order_item_product_id|order_item_quantity_id|order_item_subtotal|order_item_product_price|\n",
      "+-------------+-------------------+---------------------+----------------------+-------------------+------------------------+\n",
      "|       172198|              68883|                  502|                     3|              150.0|                    50.0|\n",
      "|       172197|              68883|                  208|                     1|            1999.99|                 1999.99|\n",
      "|       172196|              68882|                  502|                     1|               50.0|                    50.0|\n",
      "|       172195|              68882|                  365|                     1|              59.99|                   59.99|\n",
      "|       172194|              68881|                  403|                     1|             129.99|                  129.99|\n",
      "|       172193|              68880|                 1014|                     3|             149.94|                   49.98|\n",
      "|       172189|              68880|                 1014|                     3|             149.94|                   49.98|\n",
      "|       172191|              68880|                 1073|                     1|             199.99|                  199.99|\n",
      "|       172192|              68880|                 1014|                     5|              249.9|                   49.98|\n",
      "|       172190|              68880|                  502|                     5|              250.0|                    50.0|\n",
      "|       172187|              68879|                  403|                     1|             129.99|                  129.99|\n",
      "|       172186|              68879|                  403|                     1|             129.99|                  129.99|\n",
      "|       172188|              68879|                   60|                     1|             999.99|                  999.99|\n",
      "|       172185|              68878|                  403|                     1|             129.99|                  129.99|\n",
      "|       172182|              68878|                  403|                     1|             129.99|                  129.99|\n",
      "|       172183|              68878|                  365|                     3|             179.97|                   59.99|\n",
      "|       172184|              68878|                  957|                     1|             299.98|                  299.98|\n",
      "|       172180|              68875|                  191|                     4|             399.96|                   99.99|\n",
      "|       172181|              68875|                  208|                     1|            1999.99|                 1999.99|\n",
      "|       172176|              68873|                  365|                     1|              59.99|                   59.99|\n",
      "+-------------+-------------------+---------------------+----------------------+-------------------+------------------------+\n",
      "only showing top 20 rows\n",
      "\n"
     ]
    }
   ],
   "source": [
    "#Sort order item by order item order id and order item sub total descending\n",
    "orderItems.sort(['order_item_order_id','order_item_subtotal'],ascending=[0,1]).show()"
   ]
  },
  {
   "cell_type": "code",
   "execution_count": 69,
   "metadata": {},
   "outputs": [
    {
     "name": "stdout",
     "output_type": "stream",
     "text": [
      "+-------------+-------------------+---------------------+----------------------+-------------------+------------------------+\n",
      "|order_item_id|order_item_order_id|order_item_product_id|order_item_quantity_id|order_item_subtotal|order_item_product_price|\n",
      "+-------------+-------------------+---------------------+----------------------+-------------------+------------------------+\n",
      "|            1|                  1|                  957|                     1|             299.98|                  299.98|\n",
      "|            3|                  2|                  502|                     5|              250.0|                    50.0|\n",
      "|            2|                  2|                 1073|                     1|             199.99|                  199.99|\n",
      "|            4|                  2|                  403|                     1|             129.99|                  129.99|\n",
      "|            6|                  4|                  365|                     5|             299.95|                   59.99|\n",
      "|            8|                  4|                 1014|                     4|             199.92|                   49.98|\n",
      "|            7|                  4|                  502|                     3|              150.0|                    50.0|\n",
      "|            5|                  4|                  897|                     2|              49.98|                   24.99|\n",
      "|            9|                  5|                  957|                     1|             299.98|                  299.98|\n",
      "|           12|                  5|                  957|                     1|             299.98|                  299.98|\n",
      "|           10|                  5|                  365|                     5|             299.95|                   59.99|\n",
      "|           13|                  5|                  403|                     1|             129.99|                  129.99|\n",
      "|           11|                  5|                 1014|                     2|              99.96|                   49.98|\n",
      "|           15|                  7|                  957|                     1|             299.98|                  299.98|\n",
      "|           14|                  7|                 1073|                     1|             199.99|                  199.99|\n",
      "|           16|                  7|                  926|                     5|              79.95|                   15.99|\n",
      "|           18|                  8|                  365|                     5|             299.95|                   59.99|\n",
      "|           19|                  8|                 1014|                     4|             199.92|                   49.98|\n",
      "|           17|                  8|                  365|                     3|             179.97|                   59.99|\n",
      "|           20|                  8|                  502|                     1|               50.0|                    50.0|\n",
      "+-------------+-------------------+---------------------+----------------------+-------------------+------------------------+\n",
      "only showing top 20 rows\n",
      "\n"
     ]
    }
   ],
   "source": [
    "orderItems.sort('order_item_order_id',orderItems.order_item_subtotal.desc()).show()"
   ]
  },
  {
   "cell_type": "code",
   "execution_count": 71,
   "metadata": {},
   "outputs": [
    {
     "name": "stdout",
     "output_type": "stream",
     "text": [
      "+--------------------+---------------------+----------------------------------+\n",
      "|          order_date|order_item_product_id|round(sum(order_item_subtotal), 2)|\n",
      "+--------------------+---------------------+----------------------------------+\n",
      "|2014-07-24 00:00:...|                   19|                            124.99|\n",
      "|2014-07-24 00:00:...|                   35|                            159.99|\n",
      "|2014-07-24 00:00:...|                   37|                            209.94|\n",
      "|2014-07-24 00:00:...|                   44|                            179.97|\n",
      "|2014-07-24 00:00:...|                  116|                            179.96|\n",
      "|2014-07-24 00:00:...|                  134|                              50.0|\n",
      "|2014-07-24 00:00:...|                  172|                             180.0|\n",
      "|2014-07-24 00:00:...|                  191|                          10898.91|\n",
      "|2014-07-24 00:00:...|                  203|                            399.99|\n",
      "|2014-07-24 00:00:...|                  249|                            439.76|\n",
      "|2014-07-24 00:00:...|                  273|                             279.9|\n",
      "|2014-07-24 00:00:...|                  278|                            134.97|\n",
      "|2014-07-24 00:00:...|                  282|                            223.93|\n",
      "|2014-07-24 00:00:...|                  306|                            359.96|\n",
      "|2014-07-24 00:00:...|                  365|                           13197.8|\n",
      "|2014-07-24 00:00:...|                  403|                           7929.39|\n",
      "|2014-07-24 00:00:...|                  502|                            7250.0|\n",
      "|2014-07-24 00:00:...|                  564|                             330.0|\n",
      "|2014-07-24 00:00:...|                  625|                            199.99|\n",
      "|2014-07-24 00:00:...|                  627|                           4238.94|\n",
      "+--------------------+---------------------+----------------------------------+\n",
      "only showing top 20 rows\n",
      "\n"
     ]
    }
   ],
   "source": [
    "#Daily product order revenue ,order by order_date and revenue desc\n",
    "orders.join(orderItems,orders.order_id==orderItems.order_item_order_id).groupBy('order_date','order_item_product_id'). \\\n",
    "        agg(round(sum('order_item_subtotal'),2)).sort(['order_date','order_item_product_id'],ascending=[0,1]).show()"
   ]
  },
  {
   "cell_type": "code",
   "execution_count": 78,
   "metadata": {},
   "outputs": [
    {
     "name": "stdout",
     "output_type": "stream",
     "text": [
      "+--------+--------------------+-----------+---------------+\n",
      "|order_id|          order_date|customer_id|   order_status|\n",
      "+--------+--------------------+-----------+---------------+\n",
      "|   57785|2013-07-25 00:00:...|      12347|     PROCESSING|\n",
      "|   57787|2013-07-25 00:00:...|      12294|PENDING_PAYMENT|\n",
      "|      51|2013-07-25 00:00:...|      12271|         CLOSED|\n",
      "|     103|2013-07-25 00:00:...|      12256|     PROCESSING|\n",
      "|      48|2013-07-25 00:00:...|      12186|     PROCESSING|\n",
      "|     100|2013-07-25 00:00:...|      12131|     PROCESSING|\n",
      "|       3|2013-07-25 00:00:...|      12111|       COMPLETE|\n",
      "|      40|2013-07-25 00:00:...|      12092|PENDING_PAYMENT|\n",
      "|   57779|2013-07-25 00:00:...|      11941|       COMPLETE|\n",
      "|      70|2013-07-25 00:00:...|      11809|PENDING_PAYMENT|\n",
      "|      59|2013-07-25 00:00:...|      11644|PENDING_PAYMENT|\n",
      "|       1|2013-07-25 00:00:...|      11599|         CLOSED|\n",
      "|      94|2013-07-25 00:00:...|      11589|     PROCESSING|\n",
      "|      38|2013-07-25 00:00:...|      11586|     PROCESSING|\n",
      "|      99|2013-07-25 00:00:...|      11542|PENDING_PAYMENT|\n",
      "|      24|2013-07-25 00:00:...|      11441|         CLOSED|\n",
      "|       5|2013-07-25 00:00:...|      11318|       COMPLETE|\n",
      "|   57774|2013-07-25 00:00:...|      11196|PENDING_PAYMENT|\n",
      "|   67416|2013-07-25 00:00:...|      10920|         CLOSED|\n",
      "|      97|2013-07-25 00:00:...|      10784|        PENDING|\n",
      "+--------+--------------------+-----------+---------------+\n",
      "only showing top 20 rows\n",
      "\n"
     ]
    }
   ],
   "source": [
    "#to sort withon partition\n",
    "orders.sortWithinPartitions('order_date',orders.customer_id.desc()).show()"
   ]
  },
  {
   "cell_type": "markdown",
   "metadata": {},
   "source": [
    "### Development Life Cycle using Data Frames"
   ]
  },
  {
   "cell_type": "markdown",
   "metadata": {},
   "source": [
    "* Open Pycharm\n",
    "* New Project - set Name [spark2Demo] - set interpretor python3\n",
    "* Add pyspark - references\n",
    "* setting - project structure - add contect root - add python in spark and py4j* file\n",
    "* create directory src - main - python\n",
    "* code for DailyProductRevenue.py"
   ]
  },
  {
   "cell_type": "raw",
   "metadata": {},
   "source": [
    "# DailyProductRevenue.py\n",
    "from pyspark.sql import SparkSession\n",
    "from pyspark.sql.functions import round,sum\n",
    "\n",
    "spark = SparkSession. \\\n",
    "    builder. \\\n",
    "    appName('DailyRevenue'). \\\n",
    "    master('local'). \\\n",
    "    getOrCreate()\n",
    "\n",
    "#to execude in 2 threads\n",
    "spark.conf.set('spark.sql.shuffle.partitions','2')\n",
    "\n",
    "orders = spark.read. \\\n",
    "    format('csv'). \\\n",
    "    schema('order_id int,order_date string,customer_id int,order_status string'). \\\n",
    "    load('/user/pi/retail_db/orders')\n",
    "\n",
    "orderItems = spark.read. \\\n",
    "    format('csv'). \\\n",
    "    schema('order_item_id int, order_item_order_id int, order_item_product_id int, order_item_quantity_id int, order_item_subtotal float, order_item_product_price float'). \\\n",
    "    load('/user/pi/retail_db/order_items')\n",
    "\n",
    "dailyProductRevenue = orders.select('order_id','order_date'). \\\n",
    "    join(orderItems,orders.order_id==orderItems.order_item_order_id,'inner'). \\\n",
    "    groupby('order_date','order_item_product_id'). \\\n",
    "    agg(round(sum('order_item_subtotal'),2).alias('revenue')). \\\n",
    "    sort(['order_date','revenue'],ascending=[1,0])\n",
    "\n",
    "dailyProductRevenue.write.csv(\"/user/pi/PysparkProjects/retail_db/dailyRevenue\")"
   ]
  },
  {
   "cell_type": "markdown",
   "metadata": {},
   "source": [
    "#### Parameterize script\n",
    "-- In pycharm create directory called resource and create file called application.properties at same level of python folder created"
   ]
  },
  {
   "cell_type": "raw",
   "metadata": {},
   "source": [
    "#application.properties\n",
    "\n",
    "[dev]\n",
    "executionMode = local\n",
    "input.base.dir = /user/pi/retail_db\n",
    "output.base.dir = /user/pi/PysparkProjects/dev/retail_db\n",
    "\n",
    "[prod]\n",
    "executionMode = yarn-client\n",
    "input.base.dir = /user/pi/retail_db\n",
    "output.base.dir = /user/pi/PysparkProjects/prod/retail_db"
   ]
  },
  {
   "cell_type": "raw",
   "metadata": {},
   "source": [
    "#DailyProductRevenue.py\n",
    "***\n",
    "\n",
    "from pyspark.sql import SparkSession\n",
    "from pyspark.sql.functions import round,sum\n",
    "import configparser as cp,sys\n",
    "\n",
    "prop = cp.RawConfigParser()\n",
    "prop.read('src/main/resources/application.properties')\n",
    "env = sys.argv[1]\n",
    "\n",
    "spark = SparkSession. \\\n",
    "    builder. \\\n",
    "    appName('DailyRevenue'). \\\n",
    "    master(prop.get(env,'executionMode')). \\\n",
    "    getOrCreate()\n",
    "\n",
    "#to execude in 2 threads\n",
    "spark.conf.set('spark.sql.shuffle.partitions','2')\n",
    "spark.sparkContext.setLogLevel('ERROR')\n",
    "\n",
    "inputBaseDir = prop.get(env,'input.base.dir')\n",
    "outputBaseDir = prop.get(env,'output.base.dir')\n",
    "\n",
    "orders = spark.read. \\\n",
    "    format('csv'). \\\n",
    "    schema('order_id int,order_date string,customer_id int,order_status string'). \\\n",
    "    load(inputBaseDir + '/orders')\n",
    "\n",
    "orderItems = spark.read. \\\n",
    "    format('csv'). \\\n",
    "    schema('order_item_id int, order_item_order_id int, order_item_product_id int, order_item_quantity_id int, order_item_subtotal float, order_item_product_price float'). \\\n",
    "    load(inputBaseDir + '/order_items')\n",
    "\n",
    "dailyProductRevenue = orders.select('order_id','order_date'). \\\n",
    "    join(orderItems,orders.order_id==orderItems.order_item_order_id,'inner'). \\\n",
    "    groupby('order_date','order_item_product_id'). \\\n",
    "    agg(round(sum('order_item_subtotal'),2).alias('revenue')). \\\n",
    "    sort(['order_date','revenue'],ascending=[1,0])\n",
    "\n",
    "dailyProductRevenue.write.csv(outputBaseDir + \"/dailyRevenue\")\n",
    "\n",
    "***"
   ]
  },
  {
   "cell_type": "markdown",
   "metadata": {},
   "source": [
    "#to execute\n",
    "#move to base directory : \n",
    "***\n",
    "\n",
    "cd /home/pi/shared/PySparkProjects/Spark2Demo\n",
    "\n",
    "export SPARK_MAJOR_VERSION=2\n",
    "\n",
    "spark-submit src/main/python/DailyProductRevenue.py prod\n",
    "\n",
    "***"
   ]
  },
  {
   "cell_type": "code",
   "execution_count": null,
   "metadata": {},
   "outputs": [],
   "source": []
  },
  {
   "cell_type": "code",
   "execution_count": null,
   "metadata": {},
   "outputs": [],
   "source": []
  },
  {
   "cell_type": "code",
   "execution_count": null,
   "metadata": {},
   "outputs": [],
   "source": []
  }
 ],
 "metadata": {
  "kernelspec": {
   "display_name": "Python 3",
   "language": "python",
   "name": "python3"
  },
  "language_info": {
   "codemirror_mode": {
    "name": "ipython",
    "version": 3
   },
   "file_extension": ".py",
   "mimetype": "text/x-python",
   "name": "python",
   "nbconvert_exporter": "python",
   "pygments_lexer": "ipython3",
   "version": "3.8.5"
  }
 },
 "nbformat": 4,
 "nbformat_minor": 4
}
